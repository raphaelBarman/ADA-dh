{
 "cells": [
  {
   "cell_type": "markdown",
   "metadata": {},
   "source": [
    "# 02 - Data from the Web"
   ]
  },
  {
   "cell_type": "code",
   "execution_count": 2,
   "metadata": {
    "collapsed": true
   },
   "outputs": [],
   "source": [
    "import pandas as pd\n",
    "import numpy as np\n",
    "from requests import get\n",
    "from bs4 import BeautifulSoup as bs\n",
    "import json\n",
    "import re\n",
    "\n",
    "%matplotlib inline\n",
    "import matplotlib.pyplot as plt\n",
    "import seaborn as sns # interface for statical data visualization\n",
    "from IPython.display import display\n",
    "\n",
    "sns.set_context('notebook')\n",
    "pd.options.mode.chained_assignment = None  # default='warn', Mutes warnings when copying a slice from a DataFrame.import seaborn as sns"
   ]
  },
  {
   "cell_type": "markdown",
   "metadata": {},
   "source": [
    "## Useful functions"
   ]
  },
  {
   "cell_type": "code",
   "execution_count": 3,
   "metadata": {
    "collapsed": true
   },
   "outputs": [],
   "source": [
    "def clean_number(n):\n",
    "    return int(''.join(filter(lambda c: c.isdigit(), n)))\n",
    "\n",
    "def select_or_zero(soup, select):\n",
    "    selection = soup.select(select)\n",
    "    if len(selection) == 0:\n",
    "        return np.nan\n",
    "    return clean_number(selection[0].text)\n",
    "\n",
    "def select_url(soup, select):\n",
    "    selection = soup.select(select)\n",
    "    if len(selection) == 0:\n",
    "        return np.nan\n",
    "    return clean_url(selection[0]['href'])\n",
    "\n",
    "def normalize_name(name):\n",
    "    name = str(name)\n",
    "    name = re.sub('\\(.*\\)','', name)\n",
    "    name = re.sub('^The','', name)\n",
    "    name = re.sub('^É','E', name)\n",
    "    name = name.replace('–', '-')\n",
    "    return name.title().strip()\n",
    "\n",
    "def map_name(name):\n",
    "    if name == 'Ucl':\n",
    "        return 'University College London'\n",
    "    if name == 'Eth Zurich - Swiss Federal Institute Of Technology':\n",
    "        return 'Eth Zurich - Swiss Federal Institute Of Technology Zurich'\n",
    "    if name == \"King’S College London\" or name == \"King'S College London\":\n",
    "        return \"King's College London\"\n",
    "    if name == 'University Of Freiburg':\n",
    "        return 'Albert-Ludwigs-Universitaet Freiburg'\n",
    "    if name == 'Autonomous University Of Barcelona':\n",
    "        return 'Universitat Autònoma De Barcelona'\n",
    "    if name == 'Free University Of Berlin':\n",
    "        return 'Freie Universitaet Berlin'\n",
    "    if name == 'Heidelberg University':\n",
    "        return 'Ruprecht-Karls-Universität Heidelberg'\n",
    "    if name == 'Humboldt University Of Berlin':\n",
    "        return 'Humboldt-Universität Zu Berlin'\n",
    "    if name == 'Karlsruhe Institute Of Technology':\n",
    "        return 'Kit, Karlsruhe Institute Of Technology'\n",
    "    if name == 'Korea Advanced Institute Of Science And Technology':\n",
    "        return 'Kaist - Korea Advanced Institute Of Science & Technology'\n",
    "    if name == 'Pierre And Marie Curie University':\n",
    "        return 'Université Pierre Et Marie Curie'\n",
    "    if name == 'Scuola Superiore Sant’Anna':\n",
    "        return \"Scuola Superiore Sant'Anna Pisa Di Studi Universitari E Di Perfezionamento\"\n",
    "    if name == 'Technical University Of Berlin':\n",
    "        return 'Technische Universität Berlin'\n",
    "    if name == 'Trinity College Dublin, The University Of Dublin':\n",
    "        return 'Trinity College Dublin'   \n",
    "    if name == 'University Of Montreal':\n",
    "        return 'Université De Montréal'\n",
    "    if name ==  'University Of North Carolina, Chapel Hill':\n",
    "        return 'University Of North Carolina At Chapel Hill'\n",
    "    if name == 'University Of Tübingen':\n",
    "        return 'Eberhard Karls Universität Tübingen'\n",
    "    if name == 'Wageningen University & Research':\n",
    "        return 'Wageningen University'\n",
    "    if name == 'Washington University In St Louis':\n",
    "        return 'Washington University In St. Louis'\n",
    "    if name == 'Lmu Munich':\n",
    "        return 'Ludwig-Maximilians-Universität München'\n",
    "    return name"
   ]
  },
  {
   "cell_type": "markdown",
   "metadata": {},
   "source": [
    "## Question 1:  TopUniversities website"
   ]
  },
  {
   "cell_type": "markdown",
   "metadata": {},
   "source": [
    "By inspecting the top universities website with Postman interceptor, we noticed that the actual ranking is loaded from a json file. The json contains the university name, its rank, its country. We can easily extract the first 200 universities from this json.\n",
    "\n",
    "We are still missing some data at this point, such as the total number of faculty members, the number of international faculty members, the total number of students and the number of international students.\n",
    "\n",
    "We can only extract these informations from the university description page, also given in the json. What we did is loading the description page and then, using css selector, we selected the correct div containing the value and extracted it."
   ]
  },
  {
   "cell_type": "code",
   "execution_count": 7,
   "metadata": {
    "collapsed": true
   },
   "outputs": [],
   "source": [
    "def get_stats(directory):\n",
    "    res = get('https://www.topuniversities.com'+directory)\n",
    "    soup = bs(res.text, \"lxml\")\n",
    "    faculty_total = select_or_zero(soup, '.total .text .number')\n",
    "    faculty_inter = select_or_zero(soup, '.inter .text .number')\n",
    "    student_total = select_or_zero(soup, '.student .number')\n",
    "    student_inter = select_or_zero(soup, '.inter .progress-bar-info .number')\n",
    "    return faculty_total, faculty_inter, student_total, student_inter\n",
    "\n",
    "def prepare_uni_data_tu(uni):\n",
    "    uni_infos = dict()\n",
    "    uni_infos['Name'] = map_name(normalize_name(uni['title']))\n",
    "    uni_infos['Rank Top Universities'] = clean_number(uni['rank_display'])\n",
    "    uni_infos['Country'] = uni['country'].strip()\n",
    "    uni_infos['Region'] = uni['region'].strip()\n",
    "    uni_infos['Total faculty members'], \\\n",
    "    uni_infos['International faculty members'], \\\n",
    "    uni_infos['Total students'], \\\n",
    "    uni_infos['International students'] = get_stats(uni['url'])\n",
    "    return uni_infos\n",
    "\n",
    "res = get('https://www.topuniversities.com/sites/default/files/qs-rankings-data/357051.txt?_=1508338164061', 'html')\n",
    "json_ranking_tu = json.loads(res.text)['data']\n",
    "json_ranking_tu_top = sorted(json_ranking_tu, key=lambda k: clean_number(k['rank_display']))[:200]\n",
    "df_tu = pd.DataFrame(list(map(prepare_uni_data_tu,json_ranking_tu_top)))"
   ]
  },
  {
   "cell_type": "code",
   "execution_count": 5,
   "metadata": {
    "collapsed": true
   },
   "outputs": [],
   "source": [
    "# df_tu.to_pickle('df_tu.xz')\n",
    "df_tu = pd.read_pickle('df_tu.xz')"
   ]
  },
  {
   "cell_type": "markdown",
   "metadata": {},
   "source": [
    "Here we define some useful functions for further analysis. Their functionment is described in the comments.\n",
    "\n",
    "Note that these functions will be heavily used afterwards, however the number of arguments can sometimes generate a high cognitive load, thus we will often call the function with keyword arguments, even if that is not necessary, to ease the reader's mind."
   ]
  },
  {
   "cell_type": "code",
   "execution_count": 6,
   "metadata": {
    "collapsed": true
   },
   "outputs": [],
   "source": [
    "# this function sorts a dataframe by creating a new column named column_name, \n",
    "# which consists of the ratio between the values contained in column_nominator\n",
    "# and those in column_denominator.\n",
    "def sorted_ratio(df, column_nominator, column_denominator, column_name):\n",
    "    df_temp = df.copy()\n",
    "    df_temp[column_name] = df_temp[column_nominator]/df_temp[column_denominator]\n",
    "    df_sorted = df_temp.sort_values(by=[column_name], ascending=False)\n",
    "    return df_sorted\n",
    "\n",
    "# this function groups a dataframe by a column named grouping_column, then aggregates the grouped_by dataframe \n",
    "# by summing the fields.\n",
    "def group(df, grouping_column):\n",
    "    df_temp = df.copy()\n",
    "    df_grouped = df_temp.groupby([grouping_column])\n",
    "    df_aggregated = df_grouped.mean()\n",
    "    return df_aggregated\n",
    "\n",
    "# this function plot the column named x on the x-axis and the column named y on the y-axis. \n",
    "# x- and y-label are the axis's labels.\n",
    "def plot(df, x, y, xlabel, ylabel):\n",
    "    barchart = df.plot.bar(x=x, y=y)\n",
    "    barchart.set_xlabel(xlabel)\n",
    "    barchart.set_ylabel(ylabel)\n",
    "    plt.show()\n",
    "\n",
    "#plots only the first 10 rows of a dataframe\n",
    "def reduced_plot(df, x, y, xlabel, ylabel):\n",
    "    reduced_index = np.arange(10)\n",
    "    reduced_df = df.take(reduced_index)\n",
    "    plot(reduced_df, x, y, xlabel, ylabel)"
   ]
  },
  {
   "cell_type": "markdown",
   "metadata": {},
   "source": [
    "Here we define some variables that we will use to index the dataframe.\n"
   ]
  },
  {
   "cell_type": "code",
   "execution_count": 1,
   "metadata": {
    "collapsed": true
   },
   "outputs": [],
   "source": [
    "#column index\n",
    "name = 'Name'\n",
    "total_faculty_members = 'Total faculty members'\n",
    "total_students = 'Total students'\n",
    "international_students = 'International students'\n",
    "faculty_members_students_ratio = 'Ratio faculty members/students'\n",
    "international_students_ratio = 'Ratio international students'\n",
    "country = 'Country'\n",
    "region = 'Region'\n",
    "students_staff_ratio ='Student/Staff Ratio'\n",
    "pc_international_students = '% of International Students'\n",
    "number_international_students = 'Number of International Students'\n",
    "number_students = 'Number of Students'\n",
    "#x- and y- labels\n",
    "university_name = 'University name'\n",
    "\n",
    "def num_uni_country(country_name):\n",
    "    print('There are', df_tu[df_tu[country] == country_name].shape[0], 'universities in', country_name)"
   ]
  },
  {
   "cell_type": "markdown",
   "metadata": {},
   "source": [
    "We compute the faculty members/student ratio and the international student ratio."
   ]
  },
  {
   "cell_type": "code",
   "execution_count": 66,
   "metadata": {
    "collapsed": true
   },
   "outputs": [],
   "source": [
    "df_tu[faculty_members_students_ratio] = df_tu[total_faculty_members]/df_tu[total_students]\n",
    "df_tu[international_students_ratio] = df_tu[international_students]/df_tu[total_students]"
   ]
  },
  {
   "cell_type": "markdown",
   "metadata": {},
   "source": [
    "## Question a)\n",
    "We sort the dataframe, compute the ratio as required and plot the 10 universities with the highest faculty members/student ratio."
   ]
  },
  {
   "cell_type": "code",
   "execution_count": 67,
   "metadata": {},
   "outputs": [
    {
     "data": {
      "image/png": "[encoded data removed]",
      "text/plain": [
       "<matplotlib.figure.Figure at 0x11eee98d0>"
      ]
     },
     "metadata": {},
     "output_type": "display_data"
    }
   ],
   "source": [
    "barplot = df_tu.sort_values(by=faculty_members_students_ratio, ascending=False).iloc[:10]\\\n",
    "    .plot.bar(x=name, y=faculty_members_students_ratio, legend=False);\n",
    "barplot.set_title('Top 10 universities by ratio of faculty members/students')\n",
    "barplot.set_xlabel(name)\n",
    "barplot.set_ylabel(faculty_members_students_ratio);"
   ]
  },
  {
   "cell_type": "markdown",
   "metadata": {},
   "source": [
    "We can see that all of the 10 universities belong to the english-speaking world - either American or English - so this could be a kind of anglophone university model that employs a considerable number of faculty members."
   ]
  },
  {
   "cell_type": "markdown",
   "metadata": {},
   "source": [
    "## Question b)\n",
    "I sort the dataframe, compute the ratio as required and plot the 10 universities with the highest internationl students/total students ratio."
   ]
  },
  {
   "cell_type": "code",
   "execution_count": 68,
   "metadata": {},
   "outputs": [
    {
     "data": {
      "image/png": "[encoded data removed]",
      "text/plain": [
       "<matplotlib.figure.Figure at 0x11eee9eb8>"
      ]
     },
     "metadata": {},
     "output_type": "display_data"
    }
   ],
   "source": [
    "barplot = df_tu.sort_values(by=international_students_ratio, ascending=False).iloc[:10]\\\n",
    "    .plot.bar(x=name, y=international_students_ratio, legend=False);\n",
    "barplot.set_title('Top 10 universities by ratio of international students')\n",
    "barplot.set_xlabel(name)\n",
    "barplot.set_ylabel(faculty_members_students_ratio);"
   ]
  },
  {
   "cell_type": "markdown",
   "metadata": {},
   "source": [
    "It can be noticed that 7 out of 10 universities are European, and 4 of these 7 are based in London. It's also interesting to notice that EPFL is in the second position of this ranking, which means we are part of a very international campus."
   ]
  },
  {
   "cell_type": "markdown",
   "metadata": {},
   "source": [
    "## Question c)\n",
    "### Faculty members and students ratio with country aggregation\n",
    "To proceed, we grouped the dataframe by country, then computed the mean ratio."
   ]
  },
  {
   "cell_type": "code",
   "execution_count": 69,
   "metadata": {},
   "outputs": [
    {
     "data": {
      "image/png": "[encoded data removed]",
      "text/plain": [
       "<matplotlib.figure.Figure at 0x11eb9e0f0>"
      ]
     },
     "metadata": {},
     "output_type": "display_data"
    }
   ],
   "source": [
    "barplot = df_tu.groupby(country).mean().sort_values(faculty_members_students_ratio, ascending=False)\\\n",
    "    .plot.bar(y=faculty_members_students_ratio, legend=False)\n",
    "barplot.set_title('Top countries by ratio of faculty member/students')\n",
    "barplot.set_xlabel(country)\n",
    "barplot.set_ylabel(faculty_members_students_ratio);"
   ]
  },
  {
   "cell_type": "markdown",
   "metadata": {},
   "source": [
    "The results here are pretty different compared to question a) without aggregation: UK is at the 11th place while US is at the 7th place here, while the previous question highlighted the fact that the 10 universities with the highest faculty members/students ratio were American or English.\n",
    "\n",
    "Let's look at the number of universities considered in the ranking for some countries:"
   ]
  },
  {
   "cell_type": "code",
   "execution_count": 70,
   "metadata": {},
   "outputs": [
    {
     "name": "stdout",
     "output_type": "stream",
     "text": [
      "There is 1 universities in Russia\n",
      "There is 3 universities in Denmark\n",
      "There is 47 universities in United States\n",
      "There is 28 universities in United Kingdom\n"
     ]
    }
   ],
   "source": [
    "num_uni_country('Russia')\n",
    "num_uni_country('Denmark')\n",
    "num_uni_country('United States')\n",
    "num_uni_country('United Kingdom')"
   ]
  },
  {
   "cell_type": "markdown",
   "metadata": {},
   "source": [
    "We see that the two top ranked countries have only few universities, which means the sample may not be representative of the country actual ratio, but may instead consist of only the country 1-3 best universities.\n",
    "\n",
    "Whereas for the UK and USA which were ranked very high previously, this shows that those top ranking universities were not really representative of the country's average university."
   ]
  },
  {
   "cell_type": "markdown",
   "metadata": {},
   "source": [
    "### International students ratio with country aggregation\n",
    "\n",
    "To proceed, we grouped the dataframe by country, then computed the mean ratio."
   ]
  },
  {
   "cell_type": "code",
   "execution_count": 71,
   "metadata": {},
   "outputs": [
    {
     "data": {
      "image/png": "[encoded data removed]",
      "text/plain": [
       "<matplotlib.figure.Figure at 0x11b113ac8>"
      ]
     },
     "metadata": {},
     "output_type": "display_data"
    }
   ],
   "source": [
    "barplot = df_tu.groupby(country).mean().sort_values(international_students_ratio, ascending=False)\\\n",
    "    .plot.bar(y=international_students_ratio, legend=False)\n",
    "barplot.set_title('Top countries by ratio of international students')\n",
    "barplot.set_xlabel(country)\n",
    "barplot.set_ylabel(international_students_ratio);"
   ]
  },
  {
   "cell_type": "markdown",
   "metadata": {},
   "source": [
    "The results here are pretty coherent with the ones obtained without aggregating. We saw that 4 of the 10 universities with highest international students ratios were from London, and we can see that the UK is indeed at the first place of the country ranking. Melbourne University and Honk Kong University were also highly ranked, indeed Australia and Honk Kong are in second and fourth place. The presence of EPFL in the non-aggregated ranking is supported by Switzerland's 3rd place in the aggregated ranking. \n",
    "\n",
    "This general connivance could mean that the top universities of these countries are well renowned and therefore they attract international students."
   ]
  },
  {
   "cell_type": "markdown",
   "metadata": {},
   "source": [
    "## Question d)\n",
    "### Faculty members and students ratio with region aggregation\n",
    "To proceed we grouped the dataframe by region, then computed the mean for each region."
   ]
  },
  {
   "cell_type": "code",
   "execution_count": 72,
   "metadata": {},
   "outputs": [
    {
     "data": {
      "image/png": "[encoded data removed]",
      "text/plain": [
       "<matplotlib.figure.Figure at 0x11f428668>"
      ]
     },
     "metadata": {},
     "output_type": "display_data"
    }
   ],
   "source": [
    "barplot = df_tu.groupby(region).mean().sort_values(faculty_members_students_ratio, ascending=False)\\\n",
    "    .plot.bar(y=faculty_members_students_ratio, legend=False)\n",
    "barplot.set_title('Top regions by ratio of faculty member/students')\n",
    "barplot.set_xlabel(region)\n",
    "barplot.set_ylabel(faculty_members_students_ratio);"
   ]
  },
  {
   "cell_type": "markdown",
   "metadata": {},
   "source": [
    "Unexpectedly North America is at the first place, even if US and Canada were not in the top places of the country ranking.\n",
    "This could be explained by the fact that North America is only composed of the US and Canada, while the other regions are composed of many more countries which are distributed among the whole ranking.\n",
    "For example, Europe includes countries which are both at the first and last place of the ranking - Russia and Austria. This reasoning is also coherent with Oceania's last positon, which results from New Zeland and Australia being among the last countries of the ranking."
   ]
  },
  {
   "cell_type": "markdown",
   "metadata": {},
   "source": [
    "### International students ratio with region aggregation\n",
    "To proceed we grouped the dataframe by region, then computed the mean ratio.\n",
    "\n",
    "The rank of Oceania and North America can again be explained by the fact that there are only two countries for these regions and that they scored well in the country ranking. This whole ranking in general is consistent with the country ranking."
   ]
  },
  {
   "cell_type": "code",
   "execution_count": 73,
   "metadata": {},
   "outputs": [
    {
     "data": {
      "image/png": "[encoded data removed]",
      "text/plain": [
       "<matplotlib.figure.Figure at 0x11ea309e8>"
      ]
     },
     "metadata": {},
     "output_type": "display_data"
    }
   ],
   "source": [
    "barplot = df_tu.groupby(region).mean().sort_values(international_students_ratio, ascending=False)\\\n",
    "    .plot.bar(y=international_students_ratio, legend=False)\n",
    "barplot.set_title('Top regions by ratio of international students')\n",
    "barplot.set_xlabel(region)\n",
    "barplot.set_ylabel(international_students_ratio);"
   ]
  },
  {
   "cell_type": "markdown",
   "metadata": {},
   "source": [
    "## Question 2: Times Higher Education webpage"
   ]
  },
  {
   "cell_type": "markdown",
   "metadata": {},
   "source": [
    "This time again, using the Postman interceptor, we saw that the ranking was loaded from a json file. This time the json file contained all the data we needed, thus we took the first 200 universities and prepared the dataframe."
   ]
  },
  {
   "cell_type": "code",
   "execution_count": 106,
   "metadata": {
    "collapsed": true
   },
   "outputs": [],
   "source": [
    "def prepare_uni_data_the(uni):\n",
    "    uni_infos = dict()\n",
    "    uni_infos['Name'] = map_name(normalize_name(uni['name']))\n",
    "    uni_infos['Country'] = uni['location']\n",
    "    uni_infos['Rank Time Higher Education'] = clean_number(uni['rank'])\n",
    "    uni_infos['Number of Students'] = clean_number(uni['stats_number_students'])\n",
    "    uni_infos['Student/Staff Ratio'] = clean_number(uni['stats_student_staff_ratio'])\n",
    "    uni_infos['% of International Students'] = clean_number(uni['stats_pc_intl_students'])\n",
    "    uni_infos[number_international_students] = uni_infos['% of International Students']/100*uni_infos['Number of Students']\n",
    "    uni_infos[students_staff_ratio] = 1.0/uni_infos[students_staff_ratio]\n",
    "    return uni_infos\n",
    "res = get('https://www.timeshighereducation.com/sites/default/files/the_data_rankings/world_university_rankings_2018_limit0_369a9045a203e176392b9fb8f8c1cb2a.json', 'html')\n",
    "json_ranking_the = json.loads(res.text)['data']\n",
    "json_ranking_the = sorted(json_ranking_the, key=lambda k: clean_number(k['rank']))[:200]\n",
    "df_the = pd.DataFrame(list(map(prepare_uni_data_the,json_ranking_the)))\n",
    "\n",
    "def num_uni_country(country_name):\n",
    "    print('There is', df_the[df_the[country] == country_name].shape[0], 'universities in', country_name)"
   ]
  },
  {
   "cell_type": "code",
   "execution_count": 75,
   "metadata": {
    "collapsed": true,
    "scrolled": false
   },
   "outputs": [],
   "source": [
    "# df_the.to_pickle('df_the.xz')\n",
    "df_the = pd.read_pickle('df_the.xz')"
   ]
  },
  {
   "cell_type": "markdown",
   "metadata": {},
   "source": [
    "### Question a)\n",
    "We assumed that 'staff' meant faculty number. The ratio we have is the reverse of what we need, thus we compute the ratio of faculty members/student by inversing the students/staff ratio.\n",
    "\n",
    "We then sort by the ratio, take the top 10 and plot it.\n",
    "The results are of course different compared to the ones in part 1. US universities still dominate the board (7 out of 10), however there is the appearance of some european universities. A possible explanation is that most of these universities did not make it to the top 200 of the other ranking."
   ]
  },
  {
   "cell_type": "code",
   "execution_count": 76,
   "metadata": {},
   "outputs": [
    {
     "data": {
      "image/png": "[encoded data removed]",
      "text/plain": [
       "<matplotlib.figure.Figure at 0x11ec51198>"
      ]
     },
     "metadata": {},
     "output_type": "display_data"
    }
   ],
   "source": [
    "barplot = df_the.sort_values(by=faculty_members_students_ratio, ascending=False).iloc[:10]\\\n",
    "    .plot.bar(x=name, y=faculty_members_students_ratio, legend=False);\n",
    "barplot.set_title('Top 10 universities by ratio of faculty members/students')\n",
    "barplot.set_xlabel(name)\n",
    "barplot.set_ylabel(faculty_members_students_ratio);"
   ]
  },
  {
   "cell_type": "markdown",
   "metadata": {},
   "source": [
    "### Question b)\n",
    "We sort the dataframe by using the values contained in the '% of international students\" column.\n",
    "The result are very similar to those of part 1: the same London universities as well as EPFL and Honk Kong University appears."
   ]
  },
  {
   "cell_type": "code",
   "execution_count": 77,
   "metadata": {},
   "outputs": [
    {
     "data": {
      "image/png": "[encoded data removed]",
      "text/plain": [
       "<matplotlib.figure.Figure at 0x11eac2cc0>"
      ]
     },
     "metadata": {},
     "output_type": "display_data"
    }
   ],
   "source": [
    "barplot = df_the.sort_values(by=pc_international_students, ascending=False).iloc[:10]\\\n",
    "    .plot.bar(x=name, y=pc_international_students, legend=False);\n",
    "barplot.set_title('Top 10 universities by ratio of international students')\n",
    "barplot.set_xlabel(university_name)\n",
    "barplot.set_ylabel(pc_international_students);"
   ]
  },
  {
   "cell_type": "code",
   "execution_count": null,
   "metadata": {
    "collapsed": true
   },
   "outputs": [],
   "source": []
  },
  {
   "cell_type": "markdown",
   "metadata": {},
   "source": [
    "## Question c)\n",
    "### Faculty members and students ratio with country aggregation\n",
    "We group by country and compute the mean ratio that we plot afterwards.\n",
    "\n",
    "By comparing the university ranking with this newly obtained country ranking, we can observe general consistencies. For example, Denmark is high in the country ranking, and coherently in question a) we see that the University of Copenhagen is second place."
   ]
  },
  {
   "cell_type": "code",
   "execution_count": 78,
   "metadata": {},
   "outputs": [
    {
     "data": {
      "image/png": "[encoded data removed]",
      "text/plain": [
       "<matplotlib.figure.Figure at 0x11e7ea3c8>"
      ]
     },
     "metadata": {},
     "output_type": "display_data"
    }
   ],
   "source": [
    "barplot = df_the.groupby(country).mean().sort_values(faculty_members_students_ratio, ascending=False)\\\n",
    "    .plot.bar(y=faculty_members_students_ratio, legend=False)\n",
    "barplot.set_title('Top region by ratio of international students')\n",
    "barplot.set_xlabel(country)\n",
    "barplot.set_ylabel(faculty_members_students_ratio);"
   ]
  },
  {
   "cell_type": "markdown",
   "metadata": {},
   "source": [
    "### International students ratio with country aggregation\n",
    "\n",
    "Once again, we group by country and compute the mean ratio.\n",
    "\n",
    "As the ranking obtained with country aggregation is similar to the previous one, the same analysis can be done."
   ]
  },
  {
   "cell_type": "code",
   "execution_count": 79,
   "metadata": {},
   "outputs": [
    {
     "data": {
      "image/png": "[encoded data removed]",
      "text/plain": [
       "<matplotlib.figure.Figure at 0x11f2daf60>"
      ]
     },
     "metadata": {},
     "output_type": "display_data"
    }
   ],
   "source": [
    "barplot = df_the.groupby(country).mean().sort_values(pc_international_students, ascending=False)\\\n",
    "    .plot.bar(y=pc_international_students, legend=False)\n",
    "barplot.set_title('Top countries by ratio of international students')\n",
    "barplot.set_xlabel(country)\n",
    "barplot.set_ylabel(pc_international_students);"
   ]
  },
  {
   "cell_type": "markdown",
   "metadata": {},
   "source": [
    "## Question d)"
   ]
  },
  {
   "cell_type": "markdown",
   "metadata": {},
   "source": [
    "We map the countries using the mapping done in the top universities ranking."
   ]
  },
  {
   "cell_type": "code",
   "execution_count": 80,
   "metadata": {
    "collapsed": true
   },
   "outputs": [],
   "source": [
    "country_to_region = df_tu[[country,region]].drop_duplicates().set_index(country).to_dict()['Region']\n",
    "df_the[region] = df_the[country].map(country_to_region)"
   ]
  },
  {
   "cell_type": "markdown",
   "metadata": {},
   "source": [
    "### Faculty members and students ratio with region aggregation\n",
    "Once again, we group by region and compute the mean.\n",
    "Similarly as in our previous results, with the respective university ranking, North America is in first place."
   ]
  },
  {
   "cell_type": "code",
   "execution_count": 81,
   "metadata": {},
   "outputs": [
    {
     "data": {
      "image/png": "[encoded data removed]",
      "text/plain": [
       "<matplotlib.figure.Figure at 0x11ea72748>"
      ]
     },
     "metadata": {},
     "output_type": "display_data"
    }
   ],
   "source": [
    "barplot = df_the.groupby(region).mean().sort_values(faculty_members_students_ratio, ascending=False)\\\n",
    "    .plot.bar(y=faculty_members_students_ratio, legend=False)\n",
    "barplot.set_title('Top regions by ratio of faculty member/students')\n",
    "barplot.set_xlabel(region)\n",
    "barplot.set_ylabel(faculty_members_students_ratio);"
   ]
  },
  {
   "cell_type": "markdown",
   "metadata": {},
   "source": [
    "### International students ratio with region aggregation\n",
    "\n",
    "Continuously, the result shows that European and North American universities are at the top."
   ]
  },
  {
   "cell_type": "code",
   "execution_count": 82,
   "metadata": {},
   "outputs": [
    {
     "data": {
      "image/png": "[encoded data removed]",
      "text/plain": [
       "<matplotlib.figure.Figure at 0x11e83e518>"
      ]
     },
     "metadata": {},
     "output_type": "display_data"
    }
   ],
   "source": [
    "barplot = df_the.groupby(region).mean().sort_values(pc_international_students, ascending=False)\\\n",
    "    .plot.bar(y=pc_international_students, legend=False)\n",
    "barplot.set_title('Top regions by ratio of international students')\n",
    "barplot.set_xlabel(region)\n",
    "barplot.set_ylabel(pc_international_students);"
   ]
  },
  {
   "cell_type": "markdown",
   "metadata": {},
   "source": [
    "# Question 3: dataframes merging"
   ]
  },
  {
   "cell_type": "markdown",
   "metadata": {},
   "source": [
    "We decided to only take the intersection of the two top 200 of the rankings. We tried to match as many name as possible using the 'map_name' function above.\n",
    "\n",
    "To make an intersection between the two dataframes, we do an inner join."
   ]
  },
  {
   "cell_type": "code",
   "execution_count": 1,
   "metadata": {},
   "outputs": [
    {
     "ename": "NameError",
     "evalue": "name 'df_tu' is not defined",
     "output_type": "error",
     "traceback": [
      "\u001b[0;31m---------------------------------------------------------------------------\u001b[0m",
      "\u001b[0;31mNameError\u001b[0m                                 Traceback (most recent call last)",
      "\u001b[0;32m<ipython-input-1-ef67358e3ede>\u001b[0m in \u001b[0;36m<module>\u001b[0;34m()\u001b[0m\n\u001b[0;32m----> 1\u001b[0;31m \u001b[0mmerged_df\u001b[0m \u001b[0;34m=\u001b[0m \u001b[0mdf_tu\u001b[0m\u001b[0;34m.\u001b[0m\u001b[0mmerge\u001b[0m\u001b[0;34m(\u001b[0m\u001b[0mdf_the\u001b[0m\u001b[0;34m,\u001b[0m \u001b[0;34m'inner'\u001b[0m\u001b[0;34m,\u001b[0m \u001b[0mon\u001b[0m\u001b[0;34m=\u001b[0m\u001b[0;34m[\u001b[0m\u001b[0;34m'Name'\u001b[0m\u001b[0;34m]\u001b[0m\u001b[0;34m)\u001b[0m\u001b[0;34m\u001b[0m\u001b[0m\n\u001b[0m",
      "\u001b[0;31mNameError\u001b[0m: name 'df_tu' is not defined"
     ]
    }
   ],
   "source": [
    "merged_df = df_tu.merge(df_the, 'inner', on=['Name'])"
   ]
  },
  {
   "cell_type": "markdown",
   "metadata": {
    "collapsed": true
   },
   "source": [
    "# Question 4: Exploratory analysis"
   ]
  },
  {
   "cell_type": "markdown",
   "metadata": {},
   "source": [
    "We create two helper functions to compute some correlations. We need those helper functions, because in some cases the variables are not numbers, that is the case for countries for example. In order to be able to use these variables, we transform them into enumerated type or categorical variables, using the functions 'factorize'."
   ]
  },
  {
   "cell_type": "code",
   "execution_count": 84,
   "metadata": {
    "collapsed": true
   },
   "outputs": [],
   "source": [
    "#converts variable type into int so it's possible to compute correlation\n",
    "def factorize(df, variable):\n",
    "    labels, uniques = pd.factorize(df[variable])\n",
    "    df[variable] = labels\n",
    "    \n",
    "#computes correlation and convert variable type if necessary\n",
    "def compute_correlation(x_variable, y_variable, x_needs_factorization = False, y_needs_factorization = False):\n",
    "    correlation_df = merged_df[[x_variable, y_variable]]\n",
    "    if x_needs_factorization:\n",
    "        factorize(correlation_df, x_variable)\n",
    "    if y_needs_factorization:\n",
    "        factorize(correlation_df, y_variable)\n",
    "    return correlation_df.corr().values[0][1]"
   ]
  },
  {
   "cell_type": "code",
   "execution_count": 85,
   "metadata": {
    "collapsed": true
   },
   "outputs": [],
   "source": [
    "#further column names\n",
    "countryx = 'Country_x'\n",
    "regionx = 'Region_x'\n",
    "international_faculty_members = 'International faculty members'\n",
    "rank_tu = 'Rank Top Universities'\n",
    "rank_the = 'Rank Time Higher Education'"
   ]
  },
  {
   "cell_type": "markdown",
   "metadata": {},
   "source": [
    "The correlation between country and number of international students for the topUniversites ranking (TU ranking) is very low. That makes sense, knowing that there are renowned university a bit everywhere."
   ]
  },
  {
   "cell_type": "code",
   "execution_count": 86,
   "metadata": {},
   "outputs": [
    {
     "data": {
      "text/plain": [
       "-0.16598074314729033"
      ]
     },
     "execution_count": 86,
     "metadata": {},
     "output_type": "execute_result"
    }
   ],
   "source": [
    "#correlation country-number of international students for tu\n",
    "compute_correlation(countryx, international_students, x_needs_factorization = True)"
   ]
  },
  {
   "cell_type": "markdown",
   "metadata": {},
   "source": [
    "Same as above for the Times Higher Education ranking (THE ranking)."
   ]
  },
  {
   "cell_type": "code",
   "execution_count": 87,
   "metadata": {},
   "outputs": [
    {
     "data": {
      "text/plain": [
       "-0.20758239457858058"
      ]
     },
     "execution_count": 87,
     "metadata": {},
     "output_type": "execute_result"
    }
   ],
   "source": [
    "#correlation country-number of international students for the\n",
    "compute_correlation(countryx, number_international_students, x_needs_factorization = True)"
   ]
  },
  {
   "cell_type": "markdown",
   "metadata": {},
   "source": [
    "The value of the correlation in this case justifies the hypothesis of a moderately high relationship between the number of international faculty members and number of international students. As a matter of fact, a university that is internationally recognized attracts both faculty members and students from abroad."
   ]
  },
  {
   "cell_type": "code",
   "execution_count": 88,
   "metadata": {},
   "outputs": [
    {
     "data": {
      "text/plain": [
       "0.58051802475262637"
      ]
     },
     "execution_count": 88,
     "metadata": {},
     "output_type": "execute_result"
    }
   ],
   "source": [
    "#correlation number of international faculty members - number of international students for tu\n",
    "compute_correlation(international_faculty_members, international_students)"
   ]
  },
  {
   "cell_type": "markdown",
   "metadata": {},
   "source": [
    "The correlation between country and ranking for the TU ranking is low, suggesting there's no linear relationship between the two variables"
   ]
  },
  {
   "cell_type": "code",
   "execution_count": 89,
   "metadata": {},
   "outputs": [
    {
     "data": {
      "text/plain": [
       "0.35325266087653112"
      ]
     },
     "execution_count": 89,
     "metadata": {},
     "output_type": "execute_result"
    }
   ],
   "source": [
    "#correlation country-ranking for tu\n",
    "compute_correlation(countryx, rank_tu, x_needs_factorization = True)"
   ]
  },
  {
   "cell_type": "markdown",
   "metadata": {},
   "source": [
    "The correlation between country and ranking for the THE ranking website suggests a moderate linear relationship."
   ]
  },
  {
   "cell_type": "code",
   "execution_count": 90,
   "metadata": {},
   "outputs": [
    {
     "data": {
      "text/plain": [
       "0.44049236971783623"
      ]
     },
     "execution_count": 90,
     "metadata": {},
     "output_type": "execute_result"
    }
   ],
   "source": [
    "#correlation country-ranking for the\n",
    "compute_correlation(countryx, rank_the, x_needs_factorization = True)"
   ]
  },
  {
   "cell_type": "markdown",
   "metadata": {},
   "source": [
    "The correlation between ranking and region is close to 0 for TU ranking. We therefore deduce there is no linear relationship."
   ]
  },
  {
   "cell_type": "code",
   "execution_count": 91,
   "metadata": {},
   "outputs": [
    {
     "data": {
      "text/plain": [
       "-0.059616902632494792"
      ]
     },
     "execution_count": 91,
     "metadata": {},
     "output_type": "execute_result"
    }
   ],
   "source": [
    "#correlation region-ranking for tu\n",
    "compute_correlation(regionx, rank_tu, x_needs_factorization = True)"
   ]
  },
  {
   "cell_type": "markdown",
   "metadata": {},
   "source": [
    "The correlation between ranking and region is much higher for THE, which makes sense in regards of the higher country-ranking correlation."
   ]
  },
  {
   "cell_type": "code",
   "execution_count": 92,
   "metadata": {},
   "outputs": [
    {
     "data": {
      "text/plain": [
       "0.31861024508211183"
      ]
     },
     "execution_count": 92,
     "metadata": {},
     "output_type": "execute_result"
    }
   ],
   "source": [
    "#correlation region-ranking for the\n",
    "compute_correlation(regionx, rank_the, x_needs_factorization = True)"
   ]
  },
  {
   "cell_type": "markdown",
   "metadata": {},
   "source": [
    "There's a tangible linear relationship between the number of faculty members and the number of students, which might be given by how big a university is: the bigger it is, the more students and faculty members it has."
   ]
  },
  {
   "cell_type": "code",
   "execution_count": 93,
   "metadata": {},
   "outputs": [
    {
     "data": {
      "text/plain": [
       "0.58846097194166191"
      ]
     },
     "execution_count": 93,
     "metadata": {},
     "output_type": "execute_result"
    }
   ],
   "source": [
    "#correlation total faculty members - total students for TU ranking\n",
    "compute_correlation(total_faculty_members, total_students)\n",
    "#kinda high correlation - makes sense"
   ]
  },
  {
   "cell_type": "markdown",
   "metadata": {},
   "source": [
    "There's a strong correlation between the TU and THE ranking, which makes sense since the ranking process should be a very objective one, and therefore both websites should rank universities in a similar way."
   ]
  },
  {
   "cell_type": "code",
   "execution_count": 94,
   "metadata": {},
   "outputs": [
    {
     "data": {
      "text/plain": [
       "0.69114609667868976"
      ]
     },
     "execution_count": 94,
     "metadata": {},
     "output_type": "execute_result"
    }
   ],
   "source": [
    "#correlation rank in first website - rank in second website\n",
    "compute_correlation(rank_tu, rank_the)\n",
    "# very high correlation thanks god - makes sense"
   ]
  },
  {
   "cell_type": "markdown",
   "metadata": {},
   "source": [
    "# Question 5: best university"
   ]
  },
  {
   "cell_type": "code",
   "execution_count": 99,
   "metadata": {
    "collapsed": true
   },
   "outputs": [],
   "source": [
    "#further column names\n",
    "new_rank = 'New rank'\n",
    "new_metric = 'New metric'\n",
    "faculty_members_students_ratio_x = 'Ratio faculty members/students_x'\n",
    "faculty_members_students_ratio_y = 'Ratio faculty members/students_y'"
   ]
  },
  {
   "cell_type": "markdown",
   "metadata": {},
   "source": [
    "Here we decided to compute a new metric to compute the overall best ranking.\n",
    "A simple but banal solution would be to simply use the average of the two rankings as the new metric, however we decided to do something more complex. We decided to incorporate the notions of \"reasearch\" and \"internationality\" in the new metric. We do this by computing an average of the international students ratio and faculty members/students ratio \n",
    "and adding them to the opposite of the averaged rank.\n",
    "The reasonment behind this is that a university with a high presence of international students provides a richer and more diversified experience to the students - the dimension of \"internationality\" - while a university with a high faculty members ratio is more likely to focus on research and development and create new technologies - the dimension of \"research\". \n",
    "The new ranking obtained with this approach is consistent with the the previous results: renowned American and English universities are still at the top of the ranking, plus ETHZ and EPFL."
   ]
  },
  {
   "cell_type": "code",
   "execution_count": 102,
   "metadata": {},
   "outputs": [
    {
     "data": {
      "text/html": [
       "<div>\n",
       "<style>\n",
       "    .dataframe thead tr:only-child th {\n",
       "        text-align: right;\n",
       "    }\n",
       "\n",
       "    .dataframe thead th {\n",
       "        text-align: left;\n",
       "    }\n",
       "\n",
       "    .dataframe tbody tr th {\n",
       "        vertical-align: top;\n",
       "    }\n",
       "</style>\n",
       "<table border=\"1\" class=\"dataframe\">\n",
       "  <thead>\n",
       "    <tr style=\"text-align: right;\">\n",
       "      <th></th>\n",
       "      <th>Name</th>\n",
       "      <th>New rank</th>\n",
       "      <th>Rank Top Universities</th>\n",
       "      <th>Rank Time Higher Education</th>\n",
       "      <th>New metric</th>\n",
       "    </tr>\n",
       "  </thead>\n",
       "  <tbody>\n",
       "    <tr>\n",
       "      <th>0</th>\n",
       "      <td>University Of Oxford</td>\n",
       "      <td>1</td>\n",
       "      <td>6</td>\n",
       "      <td>1</td>\n",
       "      <td>1.004441</td>\n",
       "    </tr>\n",
       "    <tr>\n",
       "      <th>1</th>\n",
       "      <td>California Institute Of Technology</td>\n",
       "      <td>2</td>\n",
       "      <td>4</td>\n",
       "      <td>3</td>\n",
       "      <td>0.986790</td>\n",
       "    </tr>\n",
       "    <tr>\n",
       "      <th>2</th>\n",
       "      <td>Massachusetts Institute Of Technology</td>\n",
       "      <td>3</td>\n",
       "      <td>1</td>\n",
       "      <td>5</td>\n",
       "      <td>0.940715</td>\n",
       "    </tr>\n",
       "    <tr>\n",
       "      <th>3</th>\n",
       "      <td>University Of Cambridge</td>\n",
       "      <td>4</td>\n",
       "      <td>5</td>\n",
       "      <td>2</td>\n",
       "      <td>0.931652</td>\n",
       "    </tr>\n",
       "    <tr>\n",
       "      <th>4</th>\n",
       "      <td>Imperial College London</td>\n",
       "      <td>5</td>\n",
       "      <td>8</td>\n",
       "      <td>8</td>\n",
       "      <td>0.916035</td>\n",
       "    </tr>\n",
       "    <tr>\n",
       "      <th>5</th>\n",
       "      <td>Stanford University</td>\n",
       "      <td>6</td>\n",
       "      <td>2</td>\n",
       "      <td>3</td>\n",
       "      <td>0.893581</td>\n",
       "    </tr>\n",
       "    <tr>\n",
       "      <th>6</th>\n",
       "      <td>London School Of Economics And Political Science</td>\n",
       "      <td>7</td>\n",
       "      <td>35</td>\n",
       "      <td>25</td>\n",
       "      <td>0.845505</td>\n",
       "    </tr>\n",
       "    <tr>\n",
       "      <th>7</th>\n",
       "      <td>University College London</td>\n",
       "      <td>8</td>\n",
       "      <td>7</td>\n",
       "      <td>16</td>\n",
       "      <td>0.775071</td>\n",
       "    </tr>\n",
       "    <tr>\n",
       "      <th>8</th>\n",
       "      <td>Ecole Polytechnique Fédérale De Lausanne</td>\n",
       "      <td>9</td>\n",
       "      <td>12</td>\n",
       "      <td>38</td>\n",
       "      <td>0.763903</td>\n",
       "    </tr>\n",
       "    <tr>\n",
       "      <th>9</th>\n",
       "      <td>Yale University</td>\n",
       "      <td>10</td>\n",
       "      <td>16</td>\n",
       "      <td>12</td>\n",
       "      <td>0.674292</td>\n",
       "    </tr>\n",
       "    <tr>\n",
       "      <th>10</th>\n",
       "      <td>Harvard University</td>\n",
       "      <td>11</td>\n",
       "      <td>3</td>\n",
       "      <td>6</td>\n",
       "      <td>0.663560</td>\n",
       "    </tr>\n",
       "    <tr>\n",
       "      <th>11</th>\n",
       "      <td>Columbia University</td>\n",
       "      <td>12</td>\n",
       "      <td>18</td>\n",
       "      <td>14</td>\n",
       "      <td>0.631424</td>\n",
       "    </tr>\n",
       "    <tr>\n",
       "      <th>12</th>\n",
       "      <td>University Of St Andrews</td>\n",
       "      <td>13</td>\n",
       "      <td>92</td>\n",
       "      <td>143</td>\n",
       "      <td>0.607033</td>\n",
       "    </tr>\n",
       "    <tr>\n",
       "      <th>13</th>\n",
       "      <td>Eth Zurich - Swiss Federal Institute Of Techno...</td>\n",
       "      <td>14</td>\n",
       "      <td>10</td>\n",
       "      <td>10</td>\n",
       "      <td>0.605847</td>\n",
       "    </tr>\n",
       "    <tr>\n",
       "      <th>14</th>\n",
       "      <td>University Of Hong Kong</td>\n",
       "      <td>15</td>\n",
       "      <td>26</td>\n",
       "      <td>40</td>\n",
       "      <td>0.592880</td>\n",
       "    </tr>\n",
       "    <tr>\n",
       "      <th>15</th>\n",
       "      <td>Carnegie Mellon University</td>\n",
       "      <td>16</td>\n",
       "      <td>47</td>\n",
       "      <td>24</td>\n",
       "      <td>0.592679</td>\n",
       "    </tr>\n",
       "    <tr>\n",
       "      <th>16</th>\n",
       "      <td>King's College London</td>\n",
       "      <td>17</td>\n",
       "      <td>23</td>\n",
       "      <td>36</td>\n",
       "      <td>0.591106</td>\n",
       "    </tr>\n",
       "    <tr>\n",
       "      <th>17</th>\n",
       "      <td>Johns Hopkins University</td>\n",
       "      <td>18</td>\n",
       "      <td>17</td>\n",
       "      <td>13</td>\n",
       "      <td>0.590141</td>\n",
       "    </tr>\n",
       "    <tr>\n",
       "      <th>18</th>\n",
       "      <td>Maastricht University</td>\n",
       "      <td>19</td>\n",
       "      <td>200</td>\n",
       "      <td>103</td>\n",
       "      <td>0.585804</td>\n",
       "    </tr>\n",
       "    <tr>\n",
       "      <th>19</th>\n",
       "      <td>University Of Edinburgh</td>\n",
       "      <td>20</td>\n",
       "      <td>23</td>\n",
       "      <td>27</td>\n",
       "      <td>0.573470</td>\n",
       "    </tr>\n",
       "    <tr>\n",
       "      <th>20</th>\n",
       "      <td>University Of Rochester</td>\n",
       "      <td>21</td>\n",
       "      <td>186</td>\n",
       "      <td>153</td>\n",
       "      <td>0.563052</td>\n",
       "    </tr>\n",
       "    <tr>\n",
       "      <th>21</th>\n",
       "      <td>Queen Mary University Of London</td>\n",
       "      <td>22</td>\n",
       "      <td>127</td>\n",
       "      <td>121</td>\n",
       "      <td>0.560799</td>\n",
       "    </tr>\n",
       "    <tr>\n",
       "      <th>22</th>\n",
       "      <td>Ecole Polytechnique</td>\n",
       "      <td>23</td>\n",
       "      <td>59</td>\n",
       "      <td>115</td>\n",
       "      <td>0.546901</td>\n",
       "    </tr>\n",
       "    <tr>\n",
       "      <th>23</th>\n",
       "      <td>University Of Chicago</td>\n",
       "      <td>24</td>\n",
       "      <td>9</td>\n",
       "      <td>9</td>\n",
       "      <td>0.541378</td>\n",
       "    </tr>\n",
       "    <tr>\n",
       "      <th>24</th>\n",
       "      <td>University Of Pennsylvania</td>\n",
       "      <td>25</td>\n",
       "      <td>19</td>\n",
       "      <td>10</td>\n",
       "      <td>0.538363</td>\n",
       "    </tr>\n",
       "    <tr>\n",
       "      <th>25</th>\n",
       "      <td>University Of Manchester</td>\n",
       "      <td>26</td>\n",
       "      <td>34</td>\n",
       "      <td>54</td>\n",
       "      <td>0.530889</td>\n",
       "    </tr>\n",
       "    <tr>\n",
       "      <th>26</th>\n",
       "      <td>University Of Melbourne</td>\n",
       "      <td>27</td>\n",
       "      <td>41</td>\n",
       "      <td>32</td>\n",
       "      <td>0.519607</td>\n",
       "    </tr>\n",
       "    <tr>\n",
       "      <th>27</th>\n",
       "      <td>University Of Geneva</td>\n",
       "      <td>28</td>\n",
       "      <td>98</td>\n",
       "      <td>130</td>\n",
       "      <td>0.511978</td>\n",
       "    </tr>\n",
       "    <tr>\n",
       "      <th>28</th>\n",
       "      <td>City University Of Hong Kong</td>\n",
       "      <td>29</td>\n",
       "      <td>49</td>\n",
       "      <td>119</td>\n",
       "      <td>0.510011</td>\n",
       "    </tr>\n",
       "    <tr>\n",
       "      <th>29</th>\n",
       "      <td>University Of Warwick</td>\n",
       "      <td>30</td>\n",
       "      <td>57</td>\n",
       "      <td>91</td>\n",
       "      <td>0.507909</td>\n",
       "    </tr>\n",
       "    <tr>\n",
       "      <th>...</th>\n",
       "      <td>...</td>\n",
       "      <td>...</td>\n",
       "      <td>...</td>\n",
       "      <td>...</td>\n",
       "      <td>...</td>\n",
       "    </tr>\n",
       "    <tr>\n",
       "      <th>130</th>\n",
       "      <td>Université Catholique De Louvain</td>\n",
       "      <td>131</td>\n",
       "      <td>153</td>\n",
       "      <td>129</td>\n",
       "      <td>0.244326</td>\n",
       "    </tr>\n",
       "    <tr>\n",
       "      <th>131</th>\n",
       "      <td>Freie Universitaet Berlin</td>\n",
       "      <td>132</td>\n",
       "      <td>125</td>\n",
       "      <td>88</td>\n",
       "      <td>0.243294</td>\n",
       "    </tr>\n",
       "    <tr>\n",
       "      <th>132</th>\n",
       "      <td>Michigan State University</td>\n",
       "      <td>133</td>\n",
       "      <td>149</td>\n",
       "      <td>83</td>\n",
       "      <td>0.240392</td>\n",
       "    </tr>\n",
       "    <tr>\n",
       "      <th>133</th>\n",
       "      <td>University Of California, Davis</td>\n",
       "      <td>134</td>\n",
       "      <td>118</td>\n",
       "      <td>54</td>\n",
       "      <td>0.239980</td>\n",
       "    </tr>\n",
       "    <tr>\n",
       "      <th>134</th>\n",
       "      <td>University Of Maryland, College Park</td>\n",
       "      <td>135</td>\n",
       "      <td>129</td>\n",
       "      <td>69</td>\n",
       "      <td>0.236461</td>\n",
       "    </tr>\n",
       "    <tr>\n",
       "      <th>135</th>\n",
       "      <td>Pennsylvania State University</td>\n",
       "      <td>136</td>\n",
       "      <td>93</td>\n",
       "      <td>77</td>\n",
       "      <td>0.236318</td>\n",
       "    </tr>\n",
       "    <tr>\n",
       "      <th>136</th>\n",
       "      <td>Aarhus University</td>\n",
       "      <td>137</td>\n",
       "      <td>119</td>\n",
       "      <td>109</td>\n",
       "      <td>0.228804</td>\n",
       "    </tr>\n",
       "    <tr>\n",
       "      <th>137</th>\n",
       "      <td>Humboldt-Universität Zu Berlin</td>\n",
       "      <td>138</td>\n",
       "      <td>120</td>\n",
       "      <td>62</td>\n",
       "      <td>0.227578</td>\n",
       "    </tr>\n",
       "    <tr>\n",
       "      <th>138</th>\n",
       "      <td>University Of Virginia</td>\n",
       "      <td>139</td>\n",
       "      <td>173</td>\n",
       "      <td>113</td>\n",
       "      <td>0.227406</td>\n",
       "    </tr>\n",
       "    <tr>\n",
       "      <th>139</th>\n",
       "      <td>Leiden University</td>\n",
       "      <td>140</td>\n",
       "      <td>109</td>\n",
       "      <td>67</td>\n",
       "      <td>0.224798</td>\n",
       "    </tr>\n",
       "    <tr>\n",
       "      <th>140</th>\n",
       "      <td>University Of Colorado Boulder</td>\n",
       "      <td>141</td>\n",
       "      <td>182</td>\n",
       "      <td>100</td>\n",
       "      <td>0.223362</td>\n",
       "    </tr>\n",
       "    <tr>\n",
       "      <th>141</th>\n",
       "      <td>Ku Leuven</td>\n",
       "      <td>142</td>\n",
       "      <td>71</td>\n",
       "      <td>47</td>\n",
       "      <td>0.223224</td>\n",
       "    </tr>\n",
       "    <tr>\n",
       "      <th>142</th>\n",
       "      <td>University Of Florida</td>\n",
       "      <td>143</td>\n",
       "      <td>178</td>\n",
       "      <td>143</td>\n",
       "      <td>0.220902</td>\n",
       "    </tr>\n",
       "    <tr>\n",
       "      <th>143</th>\n",
       "      <td>University Of Washington</td>\n",
       "      <td>144</td>\n",
       "      <td>61</td>\n",
       "      <td>25</td>\n",
       "      <td>0.220338</td>\n",
       "    </tr>\n",
       "    <tr>\n",
       "      <th>144</th>\n",
       "      <td>Kaist - Korea Advanced Institute Of Science &amp; ...</td>\n",
       "      <td>145</td>\n",
       "      <td>41</td>\n",
       "      <td>95</td>\n",
       "      <td>0.216636</td>\n",
       "    </tr>\n",
       "    <tr>\n",
       "      <th>145</th>\n",
       "      <td>Universitat Autònoma De Barcelona</td>\n",
       "      <td>146</td>\n",
       "      <td>195</td>\n",
       "      <td>147</td>\n",
       "      <td>0.214373</td>\n",
       "    </tr>\n",
       "    <tr>\n",
       "      <th>146</th>\n",
       "      <td>Zhejiang University</td>\n",
       "      <td>147</td>\n",
       "      <td>87</td>\n",
       "      <td>177</td>\n",
       "      <td>0.204438</td>\n",
       "    </tr>\n",
       "    <tr>\n",
       "      <th>147</th>\n",
       "      <td>University Of Minnesota</td>\n",
       "      <td>148</td>\n",
       "      <td>163</td>\n",
       "      <td>56</td>\n",
       "      <td>0.201222</td>\n",
       "    </tr>\n",
       "    <tr>\n",
       "      <th>148</th>\n",
       "      <td>University Of California, Santa Barbara</td>\n",
       "      <td>149</td>\n",
       "      <td>134</td>\n",
       "      <td>53</td>\n",
       "      <td>0.189253</td>\n",
       "    </tr>\n",
       "    <tr>\n",
       "      <th>149</th>\n",
       "      <td>Utrecht University</td>\n",
       "      <td>150</td>\n",
       "      <td>109</td>\n",
       "      <td>68</td>\n",
       "      <td>0.186518</td>\n",
       "    </tr>\n",
       "    <tr>\n",
       "      <th>150</th>\n",
       "      <td>University Of Helsinki</td>\n",
       "      <td>151</td>\n",
       "      <td>102</td>\n",
       "      <td>90</td>\n",
       "      <td>0.185918</td>\n",
       "    </tr>\n",
       "    <tr>\n",
       "      <th>151</th>\n",
       "      <td>National Taiwan University</td>\n",
       "      <td>152</td>\n",
       "      <td>76</td>\n",
       "      <td>198</td>\n",
       "      <td>0.183438</td>\n",
       "    </tr>\n",
       "    <tr>\n",
       "      <th>152</th>\n",
       "      <td>Ghent University</td>\n",
       "      <td>153</td>\n",
       "      <td>125</td>\n",
       "      <td>107</td>\n",
       "      <td>0.181035</td>\n",
       "    </tr>\n",
       "    <tr>\n",
       "      <th>153</th>\n",
       "      <td>Nanjing University</td>\n",
       "      <td>154</td>\n",
       "      <td>114</td>\n",
       "      <td>169</td>\n",
       "      <td>0.177978</td>\n",
       "    </tr>\n",
       "    <tr>\n",
       "      <th>154</th>\n",
       "      <td>University Of Texas At Austin</td>\n",
       "      <td>155</td>\n",
       "      <td>67</td>\n",
       "      <td>49</td>\n",
       "      <td>0.175690</td>\n",
       "    </tr>\n",
       "    <tr>\n",
       "      <th>155</th>\n",
       "      <td>Stockholm University</td>\n",
       "      <td>156</td>\n",
       "      <td>195</td>\n",
       "      <td>134</td>\n",
       "      <td>0.168847</td>\n",
       "    </tr>\n",
       "    <tr>\n",
       "      <th>156</th>\n",
       "      <td>Shanghai Jiao Tong University</td>\n",
       "      <td>157</td>\n",
       "      <td>62</td>\n",
       "      <td>188</td>\n",
       "      <td>0.165739</td>\n",
       "    </tr>\n",
       "    <tr>\n",
       "      <th>157</th>\n",
       "      <td>University Of Science And Technology Of China</td>\n",
       "      <td>158</td>\n",
       "      <td>97</td>\n",
       "      <td>132</td>\n",
       "      <td>0.165076</td>\n",
       "    </tr>\n",
       "    <tr>\n",
       "      <th>158</th>\n",
       "      <td>Texas A&amp;M University</td>\n",
       "      <td>159</td>\n",
       "      <td>195</td>\n",
       "      <td>159</td>\n",
       "      <td>0.148437</td>\n",
       "    </tr>\n",
       "    <tr>\n",
       "      <th>159</th>\n",
       "      <td>New York University</td>\n",
       "      <td>160</td>\n",
       "      <td>52</td>\n",
       "      <td>27</td>\n",
       "      <td>NaN</td>\n",
       "    </tr>\n",
       "  </tbody>\n",
       "</table>\n",
       "<p>160 rows × 5 columns</p>\n",
       "</div>"
      ],
      "text/plain": [
       "                                                  Name  New rank  \\\n",
       "0                                 University Of Oxford         1   \n",
       "1                   California Institute Of Technology         2   \n",
       "2                Massachusetts Institute Of Technology         3   \n",
       "3                              University Of Cambridge         4   \n",
       "4                              Imperial College London         5   \n",
       "5                                  Stanford University         6   \n",
       "6     London School Of Economics And Political Science         7   \n",
       "7                            University College London         8   \n",
       "8             Ecole Polytechnique Fédérale De Lausanne         9   \n",
       "9                                      Yale University        10   \n",
       "10                                  Harvard University        11   \n",
       "11                                 Columbia University        12   \n",
       "12                            University Of St Andrews        13   \n",
       "13   Eth Zurich - Swiss Federal Institute Of Techno...        14   \n",
       "14                             University Of Hong Kong        15   \n",
       "15                          Carnegie Mellon University        16   \n",
       "16                               King's College London        17   \n",
       "17                            Johns Hopkins University        18   \n",
       "18                               Maastricht University        19   \n",
       "19                             University Of Edinburgh        20   \n",
       "20                             University Of Rochester        21   \n",
       "21                     Queen Mary University Of London        22   \n",
       "22                                 Ecole Polytechnique        23   \n",
       "23                               University Of Chicago        24   \n",
       "24                          University Of Pennsylvania        25   \n",
       "25                            University Of Manchester        26   \n",
       "26                             University Of Melbourne        27   \n",
       "27                                University Of Geneva        28   \n",
       "28                        City University Of Hong Kong        29   \n",
       "29                               University Of Warwick        30   \n",
       "..                                                 ...       ...   \n",
       "130                   Université Catholique De Louvain       131   \n",
       "131                          Freie Universitaet Berlin       132   \n",
       "132                          Michigan State University       133   \n",
       "133                    University Of California, Davis       134   \n",
       "134               University Of Maryland, College Park       135   \n",
       "135                      Pennsylvania State University       136   \n",
       "136                                  Aarhus University       137   \n",
       "137                     Humboldt-Universität Zu Berlin       138   \n",
       "138                             University Of Virginia       139   \n",
       "139                                  Leiden University       140   \n",
       "140                     University Of Colorado Boulder       141   \n",
       "141                                          Ku Leuven       142   \n",
       "142                              University Of Florida       143   \n",
       "143                           University Of Washington       144   \n",
       "144  Kaist - Korea Advanced Institute Of Science & ...       145   \n",
       "145                  Universitat Autònoma De Barcelona       146   \n",
       "146                                Zhejiang University       147   \n",
       "147                            University Of Minnesota       148   \n",
       "148            University Of California, Santa Barbara       149   \n",
       "149                                 Utrecht University       150   \n",
       "150                             University Of Helsinki       151   \n",
       "151                         National Taiwan University       152   \n",
       "152                                   Ghent University       153   \n",
       "153                                 Nanjing University       154   \n",
       "154                      University Of Texas At Austin       155   \n",
       "155                               Stockholm University       156   \n",
       "156                      Shanghai Jiao Tong University       157   \n",
       "157      University Of Science And Technology Of China       158   \n",
       "158                               Texas A&M University       159   \n",
       "159                                New York University       160   \n",
       "\n",
       "     Rank Top Universities  Rank Time Higher Education  New metric  \n",
       "0                        6                           1    1.004441  \n",
       "1                        4                           3    0.986790  \n",
       "2                        1                           5    0.940715  \n",
       "3                        5                           2    0.931652  \n",
       "4                        8                           8    0.916035  \n",
       "5                        2                           3    0.893581  \n",
       "6                       35                          25    0.845505  \n",
       "7                        7                          16    0.775071  \n",
       "8                       12                          38    0.763903  \n",
       "9                       16                          12    0.674292  \n",
       "10                       3                           6    0.663560  \n",
       "11                      18                          14    0.631424  \n",
       "12                      92                         143    0.607033  \n",
       "13                      10                          10    0.605847  \n",
       "14                      26                          40    0.592880  \n",
       "15                      47                          24    0.592679  \n",
       "16                      23                          36    0.591106  \n",
       "17                      17                          13    0.590141  \n",
       "18                     200                         103    0.585804  \n",
       "19                      23                          27    0.573470  \n",
       "20                     186                         153    0.563052  \n",
       "21                     127                         121    0.560799  \n",
       "22                      59                         115    0.546901  \n",
       "23                       9                           9    0.541378  \n",
       "24                      19                          10    0.538363  \n",
       "25                      34                          54    0.530889  \n",
       "26                      41                          32    0.519607  \n",
       "27                      98                         130    0.511978  \n",
       "28                      49                         119    0.510011  \n",
       "29                      57                          91    0.507909  \n",
       "..                     ...                         ...         ...  \n",
       "130                    153                         129    0.244326  \n",
       "131                    125                          88    0.243294  \n",
       "132                    149                          83    0.240392  \n",
       "133                    118                          54    0.239980  \n",
       "134                    129                          69    0.236461  \n",
       "135                     93                          77    0.236318  \n",
       "136                    119                         109    0.228804  \n",
       "137                    120                          62    0.227578  \n",
       "138                    173                         113    0.227406  \n",
       "139                    109                          67    0.224798  \n",
       "140                    182                         100    0.223362  \n",
       "141                     71                          47    0.223224  \n",
       "142                    178                         143    0.220902  \n",
       "143                     61                          25    0.220338  \n",
       "144                     41                          95    0.216636  \n",
       "145                    195                         147    0.214373  \n",
       "146                     87                         177    0.204438  \n",
       "147                    163                          56    0.201222  \n",
       "148                    134                          53    0.189253  \n",
       "149                    109                          68    0.186518  \n",
       "150                    102                          90    0.185918  \n",
       "151                     76                         198    0.183438  \n",
       "152                    125                         107    0.181035  \n",
       "153                    114                         169    0.177978  \n",
       "154                     67                          49    0.175690  \n",
       "155                    195                         134    0.168847  \n",
       "156                     62                         188    0.165739  \n",
       "157                     97                         132    0.165076  \n",
       "158                    195                         159    0.148437  \n",
       "159                     52                          27         NaN  \n",
       "\n",
       "[160 rows x 5 columns]"
      ]
     },
     "execution_count": 102,
     "metadata": {},
     "output_type": "execute_result"
    }
   ],
   "source": [
    "merged_df[new_metric] = 1.0/((merged_df[rank_tu]+merged_df[rank_the])/2)\n",
    "merged_df[new_metric] += ((merged_df[pc_international_students]/100 + merged_df[international_students_ratio])/2)\n",
    "merged_df[new_metric] += ((merged_df[faculty_members_students_ratio_x] + merged_df[faculty_members_students_ratio_x])/2)\n",
    "new_rank_df = merged_df.sort_values(by=[new_metric], ascending=False).reset_index()\n",
    "new_rank_df[new_rank] = new_rank_df.index + 1\n",
    "# reduced_plot(mean_ranking_df, name, mean_rank, university_name, mean_rank)\n",
    "new_rank_df[[name, new_rank, rank_tu, rank_the, new_metric]]"
   ]
  }
 ],
 "metadata": {
  "kernelspec": {
   "display_name": "Python 3",
   "language": "python",
   "name": "python3"
  },
  "language_info": {
   "codemirror_mode": {
    "name": "ipython",
    "version": 3
   },
   "file_extension": ".py",
   "mimetype": "text/x-python",
   "name": "python",
   "nbconvert_exporter": "python",
   "pygments_lexer": "ipython3",
   "version": "3.6.1"
  }
 },
 "nbformat": 4,
 "nbformat_minor": 2
}
