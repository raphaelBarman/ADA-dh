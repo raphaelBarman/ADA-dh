{
 "cells": [
  {
   "cell_type": "markdown",
   "metadata": {},
   "source": [
    "# 02 - Data from the Web"
   ]
  },
  {
   "cell_type": "code",
   "execution_count": 14,
   "metadata": {
    "collapsed": true
   },
   "outputs": [],
   "source": [
    "import pandas as pd\n",
    "import numpy as np\n",
    "from requests import get\n",
    "from bs4 import BeautifulSoup as bs\n",
    "import json\n",
    "import re\n",
    "\n",
    "%matplotlib inline\n",
    "import matplotlib.pyplot as plt\n",
    "import seaborn as sns\n",
    "from IPython.display import display\n",
    "\n",
    "sns.set_context('notebook')\n",
    "pd.options.mode.chained_assignment = None  # default='warn', Mutes warnings when copying a slice from a DataFrame.import seaborn as sns"
   ]
  },
  {
   "cell_type": "markdown",
   "metadata": {},
   "source": [
    "## Useful functions"
   ]
  },
  {
   "cell_type": "code",
   "execution_count": 196,
   "metadata": {},
   "outputs": [],
   "source": [
    "def clean_number(n):\n",
    "    return int(''.join(filter(lambda c: c.isdigit(), n)))\n",
    "def select_or_zero(soup, select):\n",
    "    selection = soup.select(select)\n",
    "    if len(selection) == 0:\n",
    "        return np.nan\n",
    "    return clean_number(selection[0].text)\n",
    "def normalize_name(name):\n",
    "    name = str(name)\n",
    "    name = re.sub('\\(.*\\)','', name)\n",
    "    name = re.sub('^The','', name)\n",
    "    return name.strip()"
   ]
  },
  {
   "cell_type": "markdown",
   "metadata": {},
   "source": [
    "## Top Universities"
   ]
  },
  {
   "cell_type": "code",
   "execution_count": 206,
   "metadata": {},
   "outputs": [],
   "source": [
    "def get_stats(directory):\n",
    "    res = get('https://www.topuniversities.com'+directory)\n",
    "    soup = bs(res.text, \"lxml\")\n",
    "    faculty_total = select_or_zero(soup, '.total .text .number')\n",
    "    faculty_inter = select_or_zero(soup, '.inter .text .number')\n",
    "    student_total = select_or_zero(soup, '.student .number')\n",
    "    student_inter = select_or_zero(soup, '.inter .progress-bar-info .number')\n",
    "    return faculty_total, faculty_inter, student_total, student_inter\n",
    "\n",
    "def prepare_uni_data_tu(uni):\n",
    "    uni_infos = dict()\n",
    "    uni_infos['Name'] = normalize_name(uni['title'])\n",
    "    uni_infos['Rank Top Universities'] = clean_number(uni['rank_display'])\n",
    "    uni_infos['Country'] = uni['country'].strip()\n",
    "    uni_infos['Region'] = uni['region'].strip()\n",
    "    uni_infos['Total faculty members'], \\\n",
    "    uni_infos['International faculty members'], \\\n",
    "    uni_infos['Total students'], \\\n",
    "    uni_infos['International students'] = get_stats(uni['url'])\n",
    "    return uni_infos\n",
    "\n",
    "res = get('https://www.topuniversities.com/sites/default/files/qs-rankings-data/357051.txt?_=1508338164061', 'html')\n",
    "json_ranking_tu = json.loads(res.text)['data']\n",
    "json_ranking_tu_top = sorted(json_ranking_tu, key=lambda k: clean_number(k['rank_display']))[:200]\n",
    "df_tu = pd.DataFrame(list(map(prepare_uni_data_tu,json_ranking_tu_top)))"
   ]
  },
  {
   "cell_type": "code",
   "execution_count": 198,
   "metadata": {},
   "outputs": [],
   "source": [
    "df_tu = pd.read_pickle('df_tu.xz')"
   ]
  },
  {
   "cell_type": "code",
   "execution_count": 199,
   "metadata": {},
   "outputs": [
    {
     "data": {
      "text/plain": [
       "0                  Massachusetts Institute of Technology\n",
       "1                                    Stanford University\n",
       "2                                     Harvard University\n",
       "3                     California Institute of Technology\n",
       "4                                University of Cambridge\n",
       "5                                   University of Oxford\n",
       "6                                                    UCL\n",
       "7                                Imperial College London\n",
       "8                                  University of Chicago\n",
       "9      ETH Zurich - Swiss Federal Institute of Techno...\n",
       "10           Nanyang Technological University, Singapore\n",
       "11              Ecole Polytechnique Fédérale de Lausanne\n",
       "12                                  Princeton University\n",
       "13                                    Cornell University\n",
       "14                      National University of Singapore\n",
       "15                                       Yale University\n",
       "16                              Johns Hopkins University\n",
       "17                                   Columbia University\n",
       "18                            University of Pennsylvania\n",
       "19                        Australian National University\n",
       "20                                       Duke University\n",
       "21                                University of Michigan\n",
       "22                                 King's College London\n",
       "23                               University of Edinburgh\n",
       "24                                   Tsinghua University\n",
       "25                               University of Hong Kong\n",
       "26                    University of California, Berkeley\n",
       "27                               Northwestern University\n",
       "28                                   University of Tokyo\n",
       "29        Hong Kong University of Science and Technology\n",
       "                             ...                        \n",
       "170                 Albert-Ludwigs-Universitaet Freiburg\n",
       "171                 Indian Institute of Technology Delhi\n",
       "172                               University of Virginia\n",
       "173         King Fahd University of Petroleum & Minerals\n",
       "174                              University of Liverpool\n",
       "175                      University of Technology Sydney\n",
       "176                                      CentraleSupélec\n",
       "177                                University of Florida\n",
       "178                                 University of Twente\n",
       "179                Indian Institute of Technology Bombay\n",
       "180                              University of Göttingen\n",
       "181                           Vrije Universiteit Brussel\n",
       "182                    Universidade Estadual de Campinas\n",
       "183                       University of Colorado Boulder\n",
       "184                      Vienna University of Technology\n",
       "185                              University of Rochester\n",
       "186                       Universidad Autónoma de Madrid\n",
       "187         Alma Mater Studiorum - University of Bologna\n",
       "188                                University of Reading\n",
       "189               Indian Institute of Science  Bangalore\n",
       "190                              University of Cape Town\n",
       "191                     Scuola Normale Superiore di Pisa\n",
       "192    Scuola Superiore Sant'Anna Pisa di Studi Unive...\n",
       "193                                      Keio University\n",
       "194                                 Stockholm University\n",
       "195                    Universitat Autònoma de Barcelona\n",
       "196                                 Texas A&M University\n",
       "197    Instituto Tecnológico y de Estudios Superiores...\n",
       "198                                Maastricht University\n",
       "199                                 Universidad de Chile\n",
       "Name: Name, Length: 200, dtype: object"
      ]
     },
     "execution_count": 199,
     "metadata": {},
     "output_type": "execute_result"
    }
   ],
   "source": [
    "df_tu['Name'] = df_tu['Name'].apply(normalize_name)\n",
    "df_tu['Name'].apply(normalize_name)"
   ]
  },
  {
   "cell_type": "markdown",
   "metadata": {},
   "source": [
    "## Times Higher Education"
   ]
  },
  {
   "cell_type": "code",
   "execution_count": 215,
   "metadata": {},
   "outputs": [],
   "source": [
    "def complete_with_tu(name):\n",
    "    global i\n",
    "    for uni in json_ranking_tu:\n",
    "        if normalize_name(uni['title']) == name:\n",
    "            prepare_uni_data_tu(uni)\n"
   ]
  },
  {
   "cell_type": "code",
   "execution_count": 216,
   "metadata": {},
   "outputs": [
    {
     "name": "stdout",
     "output_type": "stream",
     "text": [
      "1\n",
      "2\n",
      "3\n",
      "4\n",
      "5\n",
      "6\n",
      "7\n",
      "8\n",
      "9\n",
      "10\n",
      "11\n",
      "12\n",
      "13\n",
      "14\n",
      "15\n",
      "16\n",
      "17\n",
      "18\n",
      "19\n"
     ]
    },
    {
     "data": {
      "text/plain": [
       "200    None\n",
       "201    None\n",
       "202    None\n",
       "203    None\n",
       "204    None\n",
       "205    None\n",
       "206    None\n",
       "207    None\n",
       "208    None\n",
       "209    None\n",
       "210    None\n",
       "211    None\n",
       "212    None\n",
       "213    None\n",
       "214    None\n",
       "215    None\n",
       "216    None\n",
       "217    None\n",
       "218    None\n",
       "219    None\n",
       "220    None\n",
       "221    None\n",
       "222    None\n",
       "223    None\n",
       "224    None\n",
       "225    None\n",
       "226    None\n",
       "227    None\n",
       "228    None\n",
       "229    None\n",
       "       ... \n",
       "234    None\n",
       "235    None\n",
       "236    None\n",
       "237    None\n",
       "238    None\n",
       "239    None\n",
       "240    None\n",
       "241    None\n",
       "242    None\n",
       "243    None\n",
       "244    None\n",
       "245    None\n",
       "246    None\n",
       "247    None\n",
       "248    None\n",
       "249    None\n",
       "250    None\n",
       "251    None\n",
       "252    None\n",
       "253    None\n",
       "254    None\n",
       "255    None\n",
       "256    None\n",
       "257    None\n",
       "258    None\n",
       "259    None\n",
       "260    None\n",
       "261    None\n",
       "262    None\n",
       "263    None\n",
       "Name: Name, Length: 64, dtype: object"
      ]
     },
     "execution_count": 216,
     "metadata": {},
     "output_type": "execute_result"
    }
   ],
   "source": [
    "def prepare_uni_data_the(uni):\n",
    "    uni_infos = dict()\n",
    "    uni_infos['Name'] = normalize_name(uni['name'])\n",
    "    uni_infos['Rank Time Higher Education'] = clean_number(uni['rank'])\n",
    "    return uni_infos\n",
    "res = get('https://www.timeshighereducation.com/sites/default/files/the_data_rankings/world_university_rankings_2018_limit0_369a9045a203e176392b9fb8f8c1cb2a.json', 'html')\n",
    "json_ranking_the = json.loads(res.text)['data']\n",
    "json_ranking_the = sorted(json_ranking_the, key=lambda k: clean_number(k['rank']))[:200]\n",
    "df_the = pd.DataFrame(list(map(prepare_uni_data_the,json_ranking_the)))\n",
    "df = df_tu.merge(df_the, 'outer', on='Name')\n",
    "df[df['Country'].isnull()]['Name'].apply(complete_with_tu)"
   ]
  },
  {
   "cell_type": "code",
   "execution_count": null,
   "metadata": {
    "collapsed": true
   },
   "outputs": [],
   "source": []
  }
 ],
 "metadata": {
  "kernelspec": {
   "display_name": "Python 3",
   "language": "python",
   "name": "python3"
  },
  "language_info": {
   "codemirror_mode": {
    "name": "ipython",
    "version": 3
   },
   "file_extension": ".py",
   "mimetype": "text/x-python",
   "name": "python",
   "nbconvert_exporter": "python",
   "pygments_lexer": "ipython3",
   "version": "3.6.1"
  }
 },
 "nbformat": 4,
 "nbformat_minor": 2
}
