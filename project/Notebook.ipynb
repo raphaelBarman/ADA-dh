{
 "cells": [
  {
   "cell_type": "markdown",
   "metadata": {},
   "source": [
    "# Introduction\n",
    "\n",
    "What we did in this notebook is selecting a small part of the amazon dataset and use it to test the methods we implemented.\n",
    "\n",
    "Please note that the structure of the notebook has been completely changed compared to Milestone 2.\n",
    "\n",
    "Please also note that due to time constraints and cluster overload we weren't able to properly test our methods on the cluster."
   ]
  },
  {
   "cell_type": "markdown",
   "metadata": {},
   "source": [
    "# Import/Helpers"
   ]
  },
  {
   "cell_type": "code",
   "execution_count": 1,
   "metadata": {
    "collapsed": true
   },
   "outputs": [],
   "source": [
    "import os\n",
    "import findspark\n",
    "#os.environ['SPARK_HOME'] = '/opt/apache-spark'\n",
    "# os.environ['SPARK_HOME'] = '/usr/local/Cellar/apache-spark/2.2.0/libexec/'\n",
    "findspark.init()\n",
    "from pyspark import SQLContext, SparkContext, SparkConf\n",
    "from pyspark.sql import functions as F\n",
    "from pyspark.sql import types as T\n",
    "from pyspark.mllib.stat import Statistics as S\n",
    "import json\n",
    "import numpy as np\n",
    "from pyspark.sql.functions import udf\n",
    "from pyspark.sql.types import *\n",
    "from pyspark_dist_explore import hist\n",
    "import seaborn as sns\n",
    "import matplotlib.pyplot as plt\n",
    "%matplotlib inline"
   ]
  },
  {
   "cell_type": "code",
   "execution_count": 2,
   "metadata": {
    "collapsed": true
   },
   "outputs": [],
   "source": [
    "#compute correlation\n",
    "def correlation(df, col1, col2, method='pearson'):\n",
    "    rdd1 = df.select(col1).rdd.map(lambda x: x[0])\n",
    "    rdd2 = df.select(col2).rdd.map(lambda x: x[0])\n",
    "    return S.corr(rdd1, rdd2, method)"
   ]
  },
  {
   "cell_type": "markdown",
   "metadata": {},
   "source": [
    "Creation of a Spark context."
   ]
  },
  {
   "cell_type": "code",
   "execution_count": 3,
   "metadata": {
    "collapsed": true
   },
   "outputs": [],
   "source": [
    "memory = '2g'\n",
    "pyspark_submit_args = ' --driver-memory ' + memory + ' pyspark-shell'\n",
    "os.environ[\"PYSPARK_SUBMIT_ARGS\"] = pyspark_submit_args\n",
    "\n",
    "sc = SparkContext()\n",
    "sqlContext = SQLContext(sc)"
   ]
  },
  {
   "cell_type": "markdown",
   "metadata": {},
   "source": [
    "# Loading data"
   ]
  },
  {
   "cell_type": "markdown",
   "metadata": {},
   "source": [
    "We load the data from the json file and rewrite it in parquet format.\n",
    "\n",
    "The data is a small subset containing only items from the following categories:\n",
    "\"Baby\", \"Automotive\" and \"Grocery and Gourmet Food\". \n",
    "\n",
    "We will use this dataset on our local machine to qualitatively manipulate the data. "
   ]
  },
  {
   "cell_type": "code",
   "execution_count": null,
   "metadata": {
    "collapsed": true
   },
   "outputs": [],
   "source": [
    "# No need to run it, already saved the .parquet.\n",
    "\n",
    "df_review = sqlContext.read.json(\"reviews_auto_baby_grocery.json\")\n",
    "df_review = sqlContext.read.json(\"datasets/data.json\")\n",
    "df_review.write.parquet(\"data.parquet\")"
   ]
  },
  {
   "cell_type": "markdown",
   "metadata": {},
   "source": [
    "The two following methods alter the structure of the Amazon's product metadata and review in order to make it more easy to work on it later on."
   ]
  },
  {
   "cell_type": "markdown",
   "metadata": {},
   "source": [
    "We filter the salesRank to have only ranked products. There is two possiblity, either the salesRank is completely none, either the categories are all None. we take care of both cases."
   ]
  },
  {
   "cell_type": "code",
   "execution_count": null,
   "metadata": {
    "collapsed": true
   },
   "outputs": [],
   "source": [
    "# No need to run it, already saved the .parquet.\n",
    "\n",
    "# We flatten the meta dataframe\n",
    "def flatten(salesRank):\n",
    "    if salesRank == None:\n",
    "        return None, None\n",
    "    else:\n",
    "        for category, rank in salesRank.asDict().items():\n",
    "            if rank != None:\n",
    "                return (category, rank)\n",
    "    return None, None\n",
    "flatten = udf(flatten, StructType([StructField(\"category\", StringType()), StructField(\"rank\", IntegerType())]))\n",
    "df_flattened = meta_df.withColumn(\"salesRank\", flatten(\"salesRank\"))\n",
    "df_flattened = df_flattened.drop(\"_corrupt_record\")\n",
    "df_flattened = df_flattened.select(list(set(df_flattened.schema.names) - set([\"salesRank\", \"related\"]))+ [\"salesRank.*\", \"related.*\"])\n",
    "df_flattened.write.parquet(\"metadata.parquet\")"
   ]
  },
  {
   "cell_type": "code",
   "execution_count": null,
   "metadata": {
    "collapsed": true
   },
   "outputs": [],
   "source": [
    "# No need to run it, already saved the .parquet.\n",
    "\n",
    "# We check that there is no metadata with two ranks\n",
    "def not_one_or_none(salesRank):\n",
    "    count = 0\n",
    "    # If no rank, then false\n",
    "    if salesRank == None:\n",
    "        return 0\n",
    "    for category, rank in salesRank.asDict().items():\n",
    "        if rank != None:\n",
    "            count += 1\n",
    "    return int(count != 1 and count != 0)\n",
    "not_one_or_none = udf(not_one_or_none, IntegerType())\n",
    "not_one_or_none = meta_df.withColumn(\"exactly_one\", not_one_or_none(\"salesRank\")).agg(F.sum(\"exactly_one\").alias(\"sum\")).head()[0]\n",
    "print(\"There is %.d article with not exactly one category for a rank\"%not_one_or_none)"
   ]
  },
  {
   "cell_type": "markdown",
   "metadata": {},
   "source": [
    "Here we load the metadata and data review."
   ]
  },
  {
   "cell_type": "code",
   "execution_count": 4,
   "metadata": {
    "collapsed": true
   },
   "outputs": [],
   "source": [
    "#this must be run.\n",
    "\n",
    "df_review = sqlContext.read.parquet(\"data.parquet\")\n",
    "num_reviews = df_review.count()"
   ]
  },
  {
   "cell_type": "code",
   "execution_count": 5,
   "metadata": {
    "collapsed": true
   },
   "outputs": [],
   "source": [
    "#this must be run.\n",
    "\n",
    "meta_df = sqlContext.read.parquet(\"metadata.parquet\")"
   ]
  },
  {
   "cell_type": "markdown",
   "metadata": {},
   "source": [
    "Compute the total number of products."
   ]
  },
  {
   "cell_type": "code",
   "execution_count": 18,
   "metadata": {},
   "outputs": [
    {
     "data": {
      "text/plain": [
       "9430088"
      ]
     },
     "execution_count": 18,
     "metadata": {},
     "output_type": "execute_result"
    }
   ],
   "source": [
    "total_products = meta_df.count()\n",
    "total_products"
   ]
  },
  {
   "cell_type": "markdown",
   "metadata": {},
   "source": [
    "Compute the ratio between ranked and total products."
   ]
  },
  {
   "cell_type": "code",
   "execution_count": 21,
   "metadata": {},
   "outputs": [
    {
     "name": "stdout",
     "output_type": "stream",
     "text": [
      "ranked_products: 6151598, total products: 9430088, ratio: 0.652\n"
     ]
    }
   ],
   "source": [
    "ranked_products = meta_df.dropna(subset=['rank']).count()\n",
    "ratio = ranked_products/total_products\n",
    "print(\"ranked_products: %d, total products: %d, ratio: %.3f\"%(ranked_products, total_products, ratio))"
   ]
  },
  {
   "cell_type": "markdown",
   "metadata": {},
   "source": [
    "We can notice that in this restricted dataset less than one third of the products is ranked, a fact that makes our rank-based analysis less representative. "
   ]
  },
  {
   "cell_type": "markdown",
   "metadata": {
    "collapsed": true
   },
   "source": [
    "## Part 1: Reviews Feature"
   ]
  },
  {
   "cell_type": "markdown",
   "metadata": {},
   "source": [
    "The first part of the analysis is dedicated to studying Amazon's reviews feature."
   ]
  },
  {
   "cell_type": "markdown",
   "metadata": {},
   "source": [
    "As a first step, we explore some metrics related to reviews: a quantitative one - the number of words per review - and a qualitative one - the helpfulness of a review. "
   ]
  },
  {
   "cell_type": "markdown",
   "metadata": {},
   "source": [
    "### Word count\n",
    "\n",
    "The wordcount is a metric measuring the length of reviews."
   ]
  },
  {
   "cell_type": "code",
   "execution_count": 8,
   "metadata": {},
   "outputs": [
    {
     "name": "stdout",
     "output_type": "stream",
     "text": [
      "+-------+------------------+\n",
      "|summary|         wordcount|\n",
      "+-------+------------------+\n",
      "|  count|          18186733|\n",
      "|   mean| 134.3130121831117|\n",
      "| stddev|171.91125779517296|\n",
      "|    min|                 1|\n",
      "|    max|              6465|\n",
      "+-------+------------------+\n",
      "\n",
      "The pearson correlation is -0.062 and the spearman is -0.129\n"
     ]
    }
   ],
   "source": [
    "wordCount = F.udf(lambda text: len(text.split(\" \")), T.IntegerType())\n",
    "\n",
    "df_review = df_review.withColumn('wordcount', wordCount(df_review[\"reviewText\"]))\n",
    "df_review.select(\"wordcount\").describe().show()\n",
    "overall = df_review.select(\"overall\").rdd.map(lambda x: x[0])\n",
    "wordcount = df_review.select(\"wordcount\").rdd.map(lambda x: x[0])\n",
    "pearson_corr = correlation(df_review, \"overall\", \"wordcount\", method='pearson')\n",
    "spearman_corr = correlation(df_review, \"overall\", \"wordcount\", method='spearman')\n",
    "print(\"The pearson correlation is %.3f and the spearman is %.3f\"%(pearson_corr, spearman_corr))"
   ]
  },
  {
   "cell_type": "markdown",
   "metadata": {},
   "source": [
    "It can be noted the correlation between review rating and length is very low."
   ]
  },
  {
   "cell_type": "code",
   "execution_count": 16,
   "metadata": {},
   "outputs": [
    {
     "data": {
      "text/plain": [
       "<matplotlib.text.Text at 0x7fb804159978>"
      ]
     },
     "execution_count": 16,
     "metadata": {},
     "output_type": "execute_result"
    },
    {
     "data": {
      "image/png": "[encoded data removed]",
      "text/plain": [
       "<matplotlib.figure.Figure at 0x7fb80418b780>"
      ]
     },
     "metadata": {},
     "output_type": "display_data"
    }
   ],
   "source": [
    "fig, ax = plt.subplots()\n",
    "fig.set_size_inches(8, 5)\n",
    "hist(ax, df_review.select(\"wordcount\"), log=True)\n",
    "ax.set_title(\"Histogram of word counts per review\")\n",
    "ax.set_xlabel(\"Number of words\")\n",
    "ax.set_ylabel(\"Number of occurence\");"
   ]
  },
  {
   "cell_type": "markdown",
   "metadata": {},
   "source": [
    "It seems that in average reviews are short (< 1000 words)."
   ]
  },
  {
   "cell_type": "markdown",
   "metadata": {},
   "source": [
    "### Helpfulness\n",
    "\n",
    "The helpfulness is a metric measuring the uselfulness of reviews.\n",
    "\n",
    "We get the helpfulness of a review by computing the ratio of people that found a review helpful and those that voted. If we have no data, we simply put -1 as a ratio."
   ]
  },
  {
   "cell_type": "code",
   "execution_count": 27,
   "metadata": {
    "collapsed": true
   },
   "outputs": [],
   "source": [
    "df_review = df_review.withColumn(\"helpfulness\", F.when(df_review.helpful.getField(1) > 0, df_review.helpful.getField(0)/df_review.helpful.getField(1)).otherwise(-1))\n",
    "df_review_helpfulness = df_review.filter(df_review[\"helpfulness\"] > 0.0)"
   ]
  },
  {
   "cell_type": "code",
   "execution_count": 31,
   "metadata": {},
   "outputs": [
    {
     "name": "stdout",
     "output_type": "stream",
     "text": [
      "+-------+--------------------+\n",
      "|summary|         helpfulness|\n",
      "+-------+--------------------+\n",
      "|  count|             8253640|\n",
      "|   mean|  0.8225495937557575|\n",
      "| stddev| 0.23955228002122816|\n",
      "|    min|0.003460207612456...|\n",
      "|    max|                 1.0|\n",
      "+-------+--------------------+\n",
      "\n"
     ]
    }
   ],
   "source": [
    "df_review_helpfulness.select(\"helpfulness\").describe().show()"
   ]
  },
  {
   "cell_type": "markdown",
   "metadata": {},
   "source": [
    "There seems to have some discrepancies amongst the ratio, since the max is at 8.0. We will check that it does not occur too often and may drop the data in the future."
   ]
  },
  {
   "cell_type": "code",
   "execution_count": 30,
   "metadata": {},
   "outputs": [
    {
     "data": {
      "text/plain": [
       "25"
      ]
     },
     "execution_count": 30,
     "metadata": {},
     "output_type": "execute_result"
    }
   ],
   "source": [
    "df_review_outliers = df_review_helpfulness.filter(df_review[\"helpfulness\"] > 1.0)\n",
    "\n",
    "df_review_helpfulness = df_review_helpfulness.filter(df_review[\"helpfulness\"] <= 1.0)\n",
    "\n",
    "df_review_outliers.select(\"helpful\").count()"
   ]
  },
  {
   "cell_type": "markdown",
   "metadata": {},
   "source": [
    "Since only 25 reviews have problems, we will simply filter them out.\n",
    "\n",
    "We then look at some distribution of helpfulness and rating."
   ]
  },
  {
   "cell_type": "code",
   "execution_count": 19,
   "metadata": {},
   "outputs": [
    {
     "data": {
      "image/png": "[encoded data removed]",
      "text/plain": [
       "<matplotlib.figure.Figure at 0x7fb7fd7e5fd0>"
      ]
     },
     "metadata": {},
     "output_type": "display_data"
    }
   ],
   "source": [
    "fig, ax = plt.subplots()\n",
    "fig.set_size_inches(8, 5)\n",
    "hist(ax, df_review_helpfulness.select(\"helpfulness\"))\n",
    "ax.set_title(\"Histogram of helpfulness\")\n",
    "ax.set_xlabel(\"Helpfulness\")\n",
    "ax.set_ylabel(\"Number of occurence\");"
   ]
  },
  {
   "cell_type": "markdown",
   "metadata": {},
   "source": [
    "In general the helpfulness is very high - between 0.9 and 1. Maybe people generally vote only if the review was helpful?"
   ]
  },
  {
   "cell_type": "code",
   "execution_count": 20,
   "metadata": {},
   "outputs": [
    {
     "data": {
      "image/png": "[encoded data removed]",
      "text/plain": [
       "<matplotlib.figure.Figure at 0x7fb804062c88>"
      ]
     },
     "metadata": {},
     "output_type": "display_data"
    }
   ],
   "source": [
    "fig, ax = plt.subplots()\n",
    "fig.set_size_inches(8, 5)\n",
    "hist(ax, df_review_helpfulness.select(\"overall\"))\n",
    "ax.set_title(\"Histogram of overall rating\")\n",
    "ax.set_xlabel(\"Rating\")\n",
    "ax.set_ylabel(\"Number of occurence\");"
   ]
  },
  {
   "cell_type": "markdown",
   "metadata": {},
   "source": [
    "Here we compute correlation between the review's rating of the product and the review helpfulness."
   ]
  },
  {
   "cell_type": "code",
   "execution_count": 22,
   "metadata": {},
   "outputs": [
    {
     "data": {
      "text/html": [
       "<div>\n",
       "<style scoped>\n",
       "    .dataframe tbody tr th:only-of-type {\n",
       "        vertical-align: middle;\n",
       "    }\n",
       "\n",
       "    .dataframe tbody tr th {\n",
       "        vertical-align: top;\n",
       "    }\n",
       "\n",
       "    .dataframe thead th {\n",
       "        text-align: right;\n",
       "    }\n",
       "</style>\n",
       "<table border=\"1\" class=\"dataframe\">\n",
       "  <thead>\n",
       "    <tr style=\"text-align: right;\">\n",
       "      <th></th>\n",
       "      <th>overall</th>\n",
       "      <th>helpfulness</th>\n",
       "    </tr>\n",
       "  </thead>\n",
       "  <tbody>\n",
       "    <tr>\n",
       "      <th>overall</th>\n",
       "      <td>1.00000</td>\n",
       "      <td>0.29288</td>\n",
       "    </tr>\n",
       "    <tr>\n",
       "      <th>helpfulness</th>\n",
       "      <td>0.29288</td>\n",
       "      <td>1.00000</td>\n",
       "    </tr>\n",
       "  </tbody>\n",
       "</table>\n",
       "</div>"
      ],
      "text/plain": [
       "             overall  helpfulness\n",
       "overall      1.00000      0.29288\n",
       "helpfulness  0.29288      1.00000"
      ]
     },
     "execution_count": 22,
     "metadata": {},
     "output_type": "execute_result"
    }
   ],
   "source": [
    "df_review_helpfulness.select(\"overall\", \"helpfulness\").toPandas().corr(method = 'spearman')"
   ]
  },
  {
   "cell_type": "markdown",
   "metadata": {},
   "source": [
    "Here we compute the correlation between a product ranking and -respectively - the number of reviews it has, the average of the reviews helpfulness, the average of the reviews rating."
   ]
  },
  {
   "cell_type": "code",
   "execution_count": 24,
   "metadata": {},
   "outputs": [
    {
     "name": "stdout",
     "output_type": "stream",
     "text": [
      "-0.03279435475548705 0.10355802500411362 -0.02118792947357656\n"
     ]
    }
   ],
   "source": [
    "output_df = meta_df[['asin', 'rank']]\n",
    "\n",
    "joined_df = meta_df.join(df_review, 'asin')\n",
    "grouped_df = joined_df.groupBy('asin')\n",
    "\n",
    "review_count_df = grouped_df.count()\n",
    "mean_helpfulness_df = grouped_df.mean('helpfulness', 'overall')\n",
    "output_df = output_df.join(review_count_df, 'asin').join(mean_helpfulness_df, 'asin')\n",
    "rank_count_correlation = output_df.corr('rank', 'count', method='pearson')\n",
    "rank_helpfulness_correlation = output_df.corr('rank', 'avg(helpfulness)', method='pearson')\n",
    "rank_overall_correlation = output_df.corr('rank', 'avg(overall)', method='pearson')\n",
    "print(rank_count_correlation, rank_helpfulness_correlation, rank_overall_correlation)"
   ]
  },
  {
   "cell_type": "markdown",
   "metadata": {},
   "source": [
    "With these three correlations we aren't able to draw any meaningful conclusion.\n",
    "\n",
    "We also try to find some link between helpfulness and word counts.\n",
    "We will first make a scatterplot of helpfulness and wordcount to see if there is some visual link, then we look at the correlation."
   ]
  },
  {
   "cell_type": "code",
   "execution_count": 32,
   "metadata": {
    "scrolled": true
   },
   "outputs": [
    {
     "data": {
      "text/plain": [
       "<matplotlib.text.Text at 0x7f133c40cb00>"
      ]
     },
     "execution_count": 32,
     "metadata": {},
     "output_type": "execute_result"
    },
    {
     "data": {
      "image/png": "[encoded data removed]",
      "text/plain": [
       "<matplotlib.figure.Figure at 0x7f13ec0255c0>"
      ]
     },
     "metadata": {},
     "output_type": "display_data"
    }
   ],
   "source": [
    "ax = df_review_helpfulness.select(\"helpfulness\", \"wordcount\").toPandas().plot.scatter(\"helpfulness\", \"wordcount\")\n",
    "ax.set_title(\"Scatter plot of word count and helpfulness\")"
   ]
  },
  {
   "cell_type": "code",
   "execution_count": 33,
   "metadata": {
    "scrolled": true
   },
   "outputs": [
    {
     "data": {
      "text/html": [
       "<div>\n",
       "<style scoped>\n",
       "    .dataframe tbody tr th:only-of-type {\n",
       "        vertical-align: middle;\n",
       "    }\n",
       "\n",
       "    .dataframe tbody tr th {\n",
       "        vertical-align: top;\n",
       "    }\n",
       "\n",
       "    .dataframe thead th {\n",
       "        text-align: right;\n",
       "    }\n",
       "</style>\n",
       "<table border=\"1\" class=\"dataframe\">\n",
       "  <thead>\n",
       "    <tr style=\"text-align: right;\">\n",
       "      <th></th>\n",
       "      <th>helpfulness</th>\n",
       "      <th>wordcount</th>\n",
       "    </tr>\n",
       "  </thead>\n",
       "  <tbody>\n",
       "    <tr>\n",
       "      <th>helpfulness</th>\n",
       "      <td>1.000000</td>\n",
       "      <td>-0.040743</td>\n",
       "    </tr>\n",
       "    <tr>\n",
       "      <th>wordcount</th>\n",
       "      <td>-0.040743</td>\n",
       "      <td>1.000000</td>\n",
       "    </tr>\n",
       "  </tbody>\n",
       "</table>\n",
       "</div>"
      ],
      "text/plain": [
       "             helpfulness  wordcount\n",
       "helpfulness     1.000000  -0.040743\n",
       "wordcount      -0.040743   1.000000"
      ]
     },
     "execution_count": 33,
     "metadata": {},
     "output_type": "execute_result"
    }
   ],
   "source": [
    "spearman_corr = df_review_helpfulness.select(\"helpfulness\", \"wordcount\").toPandas().corr(method = \"spearman\")\n",
    "spearman_corr"
   ]
  },
  {
   "cell_type": "markdown",
   "metadata": {},
   "source": [
    "Unfortunately, there is no obvious link between those two variables."
   ]
  },
  {
   "cell_type": "markdown",
   "metadata": {},
   "source": [
    "## influence of reviewer personality"
   ]
  },
  {
   "cell_type": "markdown",
   "metadata": {},
   "source": [
    "We get the count of review of distinct article per reviewer and filter those that have less than 5 review."
   ]
  },
  {
   "cell_type": "code",
   "execution_count": 22,
   "metadata": {
    "collapsed": true
   },
   "outputs": [],
   "source": [
    "df_count = df_review.groupBy(\"reviewerID\").agg(F.countDistinct(\"asin\").alias('review_count')).filter(\"`review_count` >= 5\")"
   ]
  },
  {
   "cell_type": "code",
   "execution_count": 33,
   "metadata": {},
   "outputs": [
    {
     "data": {
      "image/png": "[encoded data removed]",
      "text/plain": [
       "<matplotlib.figure.Figure at 0x7fb66d151f60>"
      ]
     },
     "metadata": {},
     "output_type": "display_data"
    }
   ],
   "source": [
    "ax = df_count.select('review_count').toPandas().plot.hist('review_count')\n",
    "ax.set_yscale('log')"
   ]
  },
  {
   "cell_type": "markdown",
   "metadata": {},
   "source": [
    "We get all reviews of reviewers with more than 5 articles."
   ]
  },
  {
   "cell_type": "code",
   "execution_count": 28,
   "metadata": {},
   "outputs": [
    {
     "name": "stdout",
     "output_type": "stream",
     "text": [
      "We have 18186733, i.e. 100.000% of review who belongs to reviewer with 5 or more reviews\n"
     ]
    }
   ],
   "source": [
    "df_filtered = df_review.join(df_count, on='reviewerID').drop('count')\n",
    "num_five_reviews = df_filtered.count()\n",
    "print(\"We have %.d, i.e. %.3f%% of review who belongs to reviewer with 5 or more reviews\"%(num_five_reviews, num_five_reviews/num_reviews*100))"
   ]
  },
  {
   "cell_type": "markdown",
   "metadata": {},
   "source": [
    "We compute the average grade for each reviewer."
   ]
  },
  {
   "cell_type": "code",
   "execution_count": 24,
   "metadata": {},
   "outputs": [
    {
     "data": {
      "text/plain": [
       "1116318"
      ]
     },
     "execution_count": 24,
     "metadata": {},
     "output_type": "execute_result"
    }
   ],
   "source": [
    "average_std_score = df_filtered.groupBy(\"reviewerID\").agg(F.avg(\"overall\").alias(\"mean\"), F.stddev(\"overall\").alias(\"std\"))\n",
    "average_std_score.cache().count()"
   ]
  },
  {
   "cell_type": "markdown",
   "metadata": {},
   "source": [
    "Here are some statistic concerning the average grade for each reviewer.\n",
    "\n",
    "The first row contains the total number of reviewer considered.\n",
    "\n",
    "The second row contains the mean of the reviewers' averages grades (left) and the standard deviation of said mean (right).\n",
    "\n",
    "The third row contains the mean of the reviewers' standard deviations (left) and the standard deviation of said mean (right).\n",
    "\n",
    "The fourth row contains the mean of the reviewer's lower grades (left) and the standard deviation of said mean (right).\n",
    "\n",
    "The fourth row contains the mean of the reviewer's higher grades (left) and the standard deviation of said mean (right)."
   ]
  },
  {
   "cell_type": "code",
   "execution_count": 25,
   "metadata": {},
   "outputs": [
    {
     "name": "stdout",
     "output_type": "stream",
     "text": [
      "+-------+------------------+------------------+\n",
      "|summary|              mean|               std|\n",
      "+-------+------------------+------------------+\n",
      "|  count|           1116318|           1116318|\n",
      "|   mean| 4.237445234962943|0.8689434742290486|\n",
      "| stddev|0.6430152136139993|0.5406193821169274|\n",
      "|    min|               1.0|               0.0|\n",
      "|    max|               5.0|2.1908902300206647|\n",
      "+-------+------------------+------------------+\n",
      "\n"
     ]
    }
   ],
   "source": [
    "average_std_score.select(\"mean\", \"std\").describe().show()"
   ]
  },
  {
   "cell_type": "markdown",
   "metadata": {},
   "source": [
    "We then plot the average grade for each reviewer through histograms, with the grade on the x-axys and the number of reviewers who have such mean ranking on the y-axis."
   ]
  },
  {
   "cell_type": "code",
   "execution_count": 26,
   "metadata": {},
   "outputs": [
    {
     "data": {
      "image/png": "[encoded data removed]",
      "text/plain": [
       "<matplotlib.figure.Figure at 0x7fb8041911d0>"
      ]
     },
     "metadata": {},
     "output_type": "display_data"
    }
   ],
   "source": [
    "fig, ax = plt.subplots()\n",
    "fig.set_size_inches(8, 5)\n",
    "hist(ax, average_std_score.select(\"mean\"))\n",
    "ax.set_title(\"Histogram of mean rating per reviewer\")\n",
    "ax.set_xlabel(\"Mean rating\")\n",
    "ax.set_ylabel(\"Number of occurence\");"
   ]
  },
  {
   "cell_type": "markdown",
   "metadata": {},
   "source": [
    "It can be noted that reviewers tend to give high ratings."
   ]
  },
  {
   "cell_type": "markdown",
   "metadata": {},
   "source": [
    "We then plot the average standard deviation for each reviewer through histograms, with the grade on the x-axys and the number of reviewers who have such average standard deviation on the y-axis."
   ]
  },
  {
   "cell_type": "code",
   "execution_count": 27,
   "metadata": {},
   "outputs": [
    {
     "data": {
      "image/png": "[encoded data removed]",
      "text/plain": [
       "<matplotlib.figure.Figure at 0x7fb7fd3b4278>"
      ]
     },
     "metadata": {},
     "output_type": "display_data"
    }
   ],
   "source": [
    "fig, ax = plt.subplots()\n",
    "fig.set_size_inches(8, 5)\n",
    "hist(ax, average_std_score.select(\"std\"))\n",
    "ax.set_title(\"Histogram of mean std per reviewer\")\n",
    "ax.set_xlabel(\"Mean std\")\n",
    "ax.set_ylabel(\"Number of occurence\");"
   ]
  },
  {
   "cell_type": "markdown",
   "metadata": {},
   "source": [
    "It can be noted that the majority of reviewers tend to have either a very small standard deviation (0-0.25) or a standard deviation between 0.5 and 1.5. The number of people with an higher standard deviation are sensibily less."
   ]
  },
  {
   "cell_type": "markdown",
   "metadata": {},
   "source": [
    "Here, we look at the mean of the ratings given by reviewer with small (<0.25) standard deviation.\n",
    "We also look at what percentage of reviewer they correspond."
   ]
  },
  {
   "cell_type": "code",
   "execution_count": 29,
   "metadata": {},
   "outputs": [
    {
     "name": "stdout",
     "output_type": "stream",
     "text": [
      "There is 13.73% of reviewer with std < 0.25\n"
     ]
    },
    {
     "data": {
      "image/png": "[encoded data removed]",
      "text/plain": [
       "<matplotlib.figure.Figure at 0x7fb7fd307cf8>"
      ]
     },
     "metadata": {},
     "output_type": "display_data"
    }
   ],
   "source": [
    "print(\"There is %.2f%% of reviewer with std < 0.25\"%(average_std_score.filter(average_std_score.std < 0.25).count()/average_std_score.count()*100))\n",
    "fig, ax = plt.subplots()\n",
    "fig.set_size_inches(8, 5)\n",
    "hist(ax, average_std_score.filter(average_std_score.std < 0.25).select(\"mean\"))\n",
    "ax.set_title(\"Histogram of mean rating per reviewer with std < 0.25\")\n",
    "ax.set_xlabel(\"Mean rating\")\n",
    "ax.set_ylabel(\"Number of occurence\");"
   ]
  },
  {
   "cell_type": "markdown",
   "metadata": {},
   "source": [
    "It can be noted that people with a small standard deviation, i.e. people who tend to always give the same rating, tend to give only very high rating (>4.5)."
   ]
  },
  {
   "cell_type": "markdown",
   "metadata": {},
   "source": [
    "In conclusion, we have hints that there's a certain bias related to reviewers' personality and habits. \n",
    "The fact that the mean of the average reviewer rating is so high for example could make us think that people tend to rate the product they're satisfied with and not those they're unsastisfied with.\n",
    "The fact that the reviewers with little standard deviation tend to give high ratings also speaks in that direction."
   ]
  },
  {
   "cell_type": "markdown",
   "metadata": {},
   "source": [
    "## brand fidelity/hate"
   ]
  },
  {
   "cell_type": "markdown",
   "metadata": {},
   "source": [
    "We load the metadata datas and only keep the article number and the brand that are not null, since we are interested in brands.\n",
    "\n",
    "We then join the dataframe of reviews with the metadata and display some stats."
   ]
  },
  {
   "cell_type": "code",
   "execution_count": 11,
   "metadata": {},
   "outputs": [
    {
     "name": "stdout",
     "output_type": "stream",
     "text": [
      "We have 3195304, which represents 17.569% of review with a brand and who belongs to reviewer with 5 or more reviews\n",
      "We have 17.569% of review amongst those who belongs to reviewer with 5 or more reviews that have a brand \n"
     ]
    }
   ],
   "source": [
    "# df_meta = sqlContext.read.json(\"meta_auto_baby_grocery.json\")\n",
    "df_meta_brand = meta_df.select(\"asin\", \"brand\").dropna()\n",
    "\n",
    "df_with_brand = df_review.join(df_meta_brand, on='asin')\n",
    "num_reviews_with_brand = df_with_brand.count()\n",
    "\n",
    "print(\"We have %.d, which represents %.3f%% of review with a brand and who belongs to reviewer with 5 or more reviews\"%(num_reviews_with_brand, num_reviews_with_brand/num_reviews*100))\n",
    "print(\"We have %.3f%% of review amongst those who belongs to reviewer with 5 or more reviews that have a brand \"%(num_reviews_with_brand/num_five_reviews*100))"
   ]
  },
  {
   "cell_type": "markdown",
   "metadata": {},
   "source": [
    "We can see that once again we loose a lot of reviews with this approach, but it is still an interesting number to work with.\n",
    "\n",
    "Then we group by brand and reviewer, compute some stats and filter out all reviewers that have less than 5 reviews for a specific brand."
   ]
  },
  {
   "cell_type": "code",
   "execution_count": 12,
   "metadata": {},
   "outputs": [
    {
     "name": "stdout",
     "output_type": "stream",
     "text": [
      "We have 27991 brand/reviewers tuples\n"
     ]
    }
   ],
   "source": [
    "df_brand_reviewer = df_with_brand.groupBy([\"brand\", \"reviewerID\"]).agg(F.count(\"overall\").alias(\"count\"), F.avg(\"overall\").alias(\"mean\"), F.stddev(\"overall\").alias(\"std\")).filter(\"`count` >= 5\")\n",
    "brand_reviewers_count = df_brand_reviewer.cache().count()\n",
    "print(\"We have %.d brand/reviewers tuples\"%(brand_reviewers_count))"
   ]
  },
  {
   "cell_type": "markdown",
   "metadata": {},
   "source": [
    "We then show some stats about the mean and std."
   ]
  },
  {
   "cell_type": "code",
   "execution_count": 13,
   "metadata": {},
   "outputs": [
    {
     "name": "stdout",
     "output_type": "stream",
     "text": [
      "+-------+------------------+-----------------+------------------+\n",
      "|summary|             count|             mean|               std|\n",
      "+-------+------------------+-----------------+------------------+\n",
      "|  count|             27991|            27991|             27991|\n",
      "|   mean|10.549819584866563|4.285022974122227|0.7416057878513868|\n",
      "| stddev| 18.57718396527397|0.645902890517677|0.5229705628819817|\n",
      "|    min|                 5|              1.0|               0.0|\n",
      "|    max|               794|              5.0|2.1908902300206647|\n",
      "+-------+------------------+-----------------+------------------+\n",
      "\n"
     ]
    },
    {
     "data": {
      "image/png": "[encoded data removed]",
      "text/plain": [
       "<matplotlib.figure.Figure at 0x7fb804366470>"
      ]
     },
     "metadata": {},
     "output_type": "display_data"
    },
    {
     "data": {
      "image/png": "[encoded data removed]",
      "text/plain": [
       "<matplotlib.figure.Figure at 0x7fb80433c390>"
      ]
     },
     "metadata": {},
     "output_type": "display_data"
    }
   ],
   "source": [
    "df_brand_reviewer.select(\"count\", \"mean\", \"std\").describe().show()\n",
    "fig, ax = plt.subplots()\n",
    "fig.set_size_inches(8, 5)\n",
    "hist(ax, df_brand_reviewer.select(\"mean\"));\n",
    "fig, ax = plt.subplots()\n",
    "fig.set_size_inches(8, 5)\n",
    "hist(ax, df_brand_reviewer.select(\"std\"));"
   ]
  },
  {
   "cell_type": "markdown",
   "metadata": {},
   "source": [
    "By comparing qualitatively those graphs with the one from Question 2, we can see that the ratings seems to be having less deviation, showing a tendency to love/hate toward a brand.\n",
    "\n",
    "We try to see if there is an obvious correlation between number of reviews for a brand and the mean rate:"
   ]
  },
  {
   "cell_type": "code",
   "execution_count": 14,
   "metadata": {},
   "outputs": [
    {
     "name": "stdout",
     "output_type": "stream",
     "text": [
      "The pearson correlation is -0.050 and the spearman is -0.116\n"
     ]
    }
   ],
   "source": [
    "pearson_corr = correlation(df_brand_reviewer, \"count\", \"mean\", method='pearson')\n",
    "spearman_corr = correlation(df_brand_reviewer, \"count\", \"mean\", method='spearman')\n",
    "print(\"The pearson correlation is %.3f and the spearman is %.3f\"%(pearson_corr, spearman_corr))"
   ]
  },
  {
   "cell_type": "markdown",
   "metadata": {},
   "source": [
    "These correlation aren't meaningful."
   ]
  },
  {
   "cell_type": "markdown",
   "metadata": {},
   "source": [
    "## Part 2: advertising features"
   ]
  },
  {
   "cell_type": "markdown",
   "metadata": {},
   "source": [
    "This function allows to explode a column whose data type is a structure in a dataframe."
   ]
  },
  {
   "cell_type": "code",
   "execution_count": 135,
   "metadata": {
    "collapsed": true
   },
   "outputs": [],
   "source": [
    "def explode_and_join(column_to_explode):\n",
    "    q4_meta_df = meta_df.select(\"asin\", \"rank\", F.explode(column_to_explode).alias(\"paired_product\")).dropna(how='any')\n",
    "    q4_joined_meta_df = q4_meta_df.alias(\"df1\").join(q4_meta_df.alias(\"df2\").select(F.col(\"asin\").alias(\"paired_asin\"), F.col(\"rank\").alias(\"paired_rank\")), F.col(\"paired_product\") == F.col(\"paired_asin\"), \"inner\")\n",
    "    return q4_joined_meta_df"
   ]
  },
  {
   "cell_type": "markdown",
   "metadata": {},
   "source": [
    "This function explodes two columns of a dataframe."
   ]
  },
  {
   "cell_type": "code",
   "execution_count": 136,
   "metadata": {
    "collapsed": true
   },
   "outputs": [],
   "source": [
    "def explode_and_join_tuple(column_to_explode_1, alias_1, column_to_explode_2, alias_2):\n",
    "    q4_meta_df = meta_df.select(\"asin\", \"rank\", alias_2, F.explode(column_to_explode_1).alias(alias_1)).dropna(how='any')\n",
    "    q4_meta_df = q4_meta_df.select(\"asin\", \"rank\", alias_1, F.explode(column_to_explode_2).alias(alias_2)).dropna(how='any')\n",
    "    q4_joined_meta_df = q4_meta_df.alias(\"df1\").join(q4_meta_df.alias(\"df2\").select(F.col(\"asin\").alias(alias_1 + \"_asin\"), F.col(\"rank\").alias(alias_1 + \"_rank\")), F.col(alias_1) == F.col(alias_1 + \"_asin\"), \"inner\").dropna(how='any')\n",
    "    q4_joined_meta_df = q4_joined_meta_df.alias(\"df1\").join(q4_meta_df.alias(\"df2\").select(F.col(\"asin\").alias(alias_2 + \"_asin\"), F.col(\"rank\").alias(alias_2 + \"_rank\")), F.col(alias_2) == F.col(alias_2 + \"_asin\"), \"inner\").dropna(how='any')\n",
    "    #q4_joined_meta_df = q4_meta_df.alias(\"df1\").join(q4_meta_df.alias(\"df2\").select(F.col(\"asin\").alias(\"paired_asin\"), F.col(\"rank\").alias(\"paired_rank\")), F.col(\"paired_product\") == F.col(\"paired_asin\"), \"inner\")\n",
    "    return q4_joined_meta_df.limit(1000)"
   ]
  },
  {
   "cell_type": "markdown",
   "metadata": {},
   "source": [
    "As a first thing, we explode the 'bought together' column of the dataframe. Each row of the resulting dataframe will have too product ranking: \"rank\", which is the rank of the original product, and \"paired rank\", which is the rank of o product which was bought together with the original."
   ]
  },
  {
   "cell_type": "code",
   "execution_count": 137,
   "metadata": {
    "collapsed": true
   },
   "outputs": [],
   "source": [
    "bought_together_df = explode_and_join(\"bought_together\")"
   ]
  },
  {
   "cell_type": "markdown",
   "metadata": {},
   "source": [
    "Following this, we plot the \"rank\" and \"paired_rank\"."
   ]
  },
  {
   "cell_type": "code",
   "execution_count": 38,
   "metadata": {},
   "outputs": [
    {
     "data": {
      "image/png": "[encoded data removed]",
      "text/plain": [
       "<matplotlib.figure.Figure at 0x7fb7fd387080>"
      ]
     },
     "metadata": {},
     "output_type": "display_data"
    }
   ],
   "source": [
    "ax = bought_together_df.toPandas().plot.scatter(\"rank\", \"paired_rank\")\n",
    "# ax.set_xlim(0, 1000000)\n",
    "# ax.set_ylim(0, 1000000)\n",
    "ax.set_title(\"Scatter plot of rank and paired rank\");"
   ]
  },
  {
   "cell_type": "markdown",
   "metadata": {},
   "source": [
    "Then compute their Spearman correlation."
   ]
  },
  {
   "cell_type": "code",
   "execution_count": 138,
   "metadata": {},
   "outputs": [
    {
     "data": {
      "text/plain": [
       "SpearmanrResult(correlation=0.5644786356133229, pvalue=0.0)"
      ]
     },
     "execution_count": 138,
     "metadata": {},
     "output_type": "execute_result"
    }
   ],
   "source": [
    "from scipy.stats import spearmanr\n",
    "df = bought_together_df.select('rank', 'paired_rank').toPandas()\n",
    "spearmanr(df['rank'], df['paired_rank'])"
   ]
  },
  {
   "cell_type": "code",
   "execution_count": 35,
   "metadata": {},
   "outputs": [
    {
     "data": {
      "text/html": [
       "<div>\n",
       "<style scoped>\n",
       "    .dataframe tbody tr th:only-of-type {\n",
       "        vertical-align: middle;\n",
       "    }\n",
       "\n",
       "    .dataframe tbody tr th {\n",
       "        vertical-align: top;\n",
       "    }\n",
       "\n",
       "    .dataframe thead th {\n",
       "        text-align: right;\n",
       "    }\n",
       "</style>\n",
       "<table border=\"1\" class=\"dataframe\">\n",
       "  <thead>\n",
       "    <tr style=\"text-align: right;\">\n",
       "      <th></th>\n",
       "      <th>rank</th>\n",
       "      <th>paired_rank</th>\n",
       "    </tr>\n",
       "  </thead>\n",
       "  <tbody>\n",
       "    <tr>\n",
       "      <th>rank</th>\n",
       "      <td>1.000000</td>\n",
       "      <td>0.564479</td>\n",
       "    </tr>\n",
       "    <tr>\n",
       "      <th>paired_rank</th>\n",
       "      <td>0.564479</td>\n",
       "      <td>1.000000</td>\n",
       "    </tr>\n",
       "  </tbody>\n",
       "</table>\n",
       "</div>"
      ],
      "text/plain": [
       "                 rank  paired_rank\n",
       "rank         1.000000     0.564479\n",
       "paired_rank  0.564479     1.000000"
      ]
     },
     "execution_count": 35,
     "metadata": {},
     "output_type": "execute_result"
    }
   ],
   "source": [
    "rank_bought_together_correlation = bought_together_df.select('rank', 'paired_rank').toPandas().corr( method='spearman')\n",
    "rank_bought_together_correlation"
   ]
  },
  {
   "cell_type": "markdown",
   "metadata": {},
   "source": [
    "The Spearman correlation has a remarkable value."
   ]
  },
  {
   "cell_type": "markdown",
   "metadata": {},
   "source": [
    "We do the same with the 'also_bought' feature."
   ]
  },
  {
   "cell_type": "code",
   "execution_count": 36,
   "metadata": {
    "collapsed": true
   },
   "outputs": [],
   "source": [
    "also_bought_df = explode_and_join(\"also_bought\")"
   ]
  },
  {
   "cell_type": "markdown",
   "metadata": {},
   "source": [
    "And compute its correlation."
   ]
  },
  {
   "cell_type": "code",
   "execution_count": 37,
   "metadata": {},
   "outputs": [
    {
     "data": {
      "text/plain": [
       "0.4513344392636174"
      ]
     },
     "execution_count": 37,
     "metadata": {},
     "output_type": "execute_result"
    }
   ],
   "source": [
    "rank_also_bought_correlation = also_bought_df.corr('rank', 'paired_rank', method='pearson')\n",
    "rank_also_bought_correlation"
   ]
  },
  {
   "cell_type": "markdown",
   "metadata": {},
   "source": [
    "This correlation is too weak to be meaningful."
   ]
  },
  {
   "cell_type": "markdown",
   "metadata": {},
   "source": [
    "We do the same with the 'also_viewed' feature."
   ]
  },
  {
   "cell_type": "code",
   "execution_count": 40,
   "metadata": {
    "collapsed": true
   },
   "outputs": [],
   "source": [
    "also_viewed_df = explode_and_join(\"also_viewed\")"
   ]
  },
  {
   "cell_type": "code",
   "execution_count": 41,
   "metadata": {},
   "outputs": [
    {
     "data": {
      "text/plain": [
       "0.10400314137543323"
      ]
     },
     "execution_count": 41,
     "metadata": {},
     "output_type": "execute_result"
    }
   ],
   "source": [
    "rank_also_viewed_correlation = also_viewed_df.corr('rank', 'paired_rank', method='pearson')\n",
    "rank_also_viewed_correlation"
   ]
  },
  {
   "cell_type": "markdown",
   "metadata": {},
   "source": [
    "This correlation is too weak to be meaningful."
   ]
  },
  {
   "cell_type": "code",
   "execution_count": 13,
   "metadata": {},
   "outputs": [],
   "source": [
    "# tuple_df = explode_and_join_tuple(\"also_bought\", \"also_bought\", \"bought_together\", \"bought_together\")\n",
    "\n",
    "# also_bought_bought_together_correlation = tuple_df.select(\"also_bought\", \"bought_together\").toPandas().corr(method = 'spearman')\n",
    "\n",
    "# also_bought_bought_together_correlation\n",
    "\n",
    "# tuple_df = explode_and_join_tuple(\"also_bought\", \"also_bought\", \"also_viewed\", \"also_viewed\")\n",
    "\n",
    "# also_bought_also_viewed_correlation = tuple_df.select(\"also_bought\", \"also_viewed\").toPandas().corr(method = 'spearman')\n",
    "\n",
    "# print(also_bought_bought_together_correlation, also_bought_also_viewed_correlation)"
   ]
  },
  {
   "cell_type": "markdown",
   "metadata": {},
   "source": [
    "Here we tried to explode two columns of the dataset to compute the intra advertising feature correlation. However, due to the exponential compelexity of the operation, we failed."
   ]
  },
  {
   "cell_type": "markdown",
   "metadata": {},
   "source": [
    "## Question 6: product categorization"
   ]
  },
  {
   "cell_type": "markdown",
   "metadata": {},
   "source": [
    "Here we divise the products per category and computet the number of review, average helpfulness of the reviews and average rating of the reviews per category."
   ]
  },
  {
   "cell_type": "code",
   "execution_count": 122,
   "metadata": {},
   "outputs": [
    {
     "data": {
      "text/plain": [
       "6678"
      ]
     },
     "execution_count": 122,
     "metadata": {},
     "output_type": "execute_result"
    }
   ],
   "source": [
    "def explode_categories():\n",
    "    q6_meta_df = meta_df.select(\"asin\", \"rank\", F.explode(\"categories\").alias(\"category\")).select(\"asin\", \"rank\", F.explode(\"category\").alias(\"category\")).dropna(how='any')\n",
    "    review_count_per_category = q6_meta_df.join(df_review_helpfulness, \"asin\").groupby(\"category\")\\\n",
    "        .agg(F.count(\"asin\").alias(\"num_reviews\"),\\\n",
    "             F.countDistinct(\"asin\").alias(\"num_products\"),\\\n",
    "             F.avg(\"helpfulness\"),\\\n",
    "             F.mean(\"overall\"))\n",
    "    review_count_per_category = review_count_per_category.orderBy(\"num_reviews\", ascending = False)\n",
    "    return review_count_per_category\n",
    "    \n",
    "review_count_per_category = explode_categories()\n",
    "review_count_per_category.count()"
   ]
  },
  {
   "cell_type": "markdown",
   "metadata": {},
   "source": [
    "The we compute some statistics."
   ]
  },
  {
   "cell_type": "code",
   "execution_count": 109,
   "metadata": {},
   "outputs": [
    {
     "name": "stdout",
     "output_type": "stream",
     "text": [
      "+-------+--------+------------------+-----------------+-------------------+------------------+\n",
      "|summary|category|       num_reviews|     num_products|   avg(helpfulness)|      avg(overall)|\n",
      "+-------+--------+------------------+-----------------+-------------------+------------------+\n",
      "|  count|    6678|              6678|             6678|               6678|              6678|\n",
      "|   mean|    null|2073.9144953578916|177.7395926924229| 0.8708999992861884|4.1894200454996255|\n",
      "| stddev|    null| 42300.27890626757|2842.843360606542|0.08031026500821586|0.4556422371234701|\n",
      "|    min| #508510|                 1|                1| 0.3333333333333333|               1.0|\n",
      "|    max| pediped|           2571076|           209707|                1.0|               5.0|\n",
      "+-------+--------+------------------+-----------------+-------------------+------------------+\n",
      "\n"
     ]
    }
   ],
   "source": [
    "review_count_per_category.describe().show()"
   ]
  },
  {
   "cell_type": "markdown",
   "metadata": {},
   "source": [
    "It can be noted that the average helpfulness is high (0.9) and the average overall rating too (4.00)."
   ]
  },
  {
   "cell_type": "code",
   "execution_count": 49,
   "metadata": {},
   "outputs": [
    {
     "data": {
      "text/html": [
       "<div>\n",
       "<style scoped>\n",
       "    .dataframe tbody tr th:only-of-type {\n",
       "        vertical-align: middle;\n",
       "    }\n",
       "\n",
       "    .dataframe tbody tr th {\n",
       "        vertical-align: top;\n",
       "    }\n",
       "\n",
       "    .dataframe thead th {\n",
       "        text-align: right;\n",
       "    }\n",
       "</style>\n",
       "<table border=\"1\" class=\"dataframe\">\n",
       "  <thead>\n",
       "    <tr style=\"text-align: right;\">\n",
       "      <th></th>\n",
       "      <th>avg(helpfulness)</th>\n",
       "      <th>avg(overall)</th>\n",
       "    </tr>\n",
       "  </thead>\n",
       "  <tbody>\n",
       "    <tr>\n",
       "      <th>avg(helpfulness)</th>\n",
       "      <td>1.000000</td>\n",
       "      <td>0.138791</td>\n",
       "    </tr>\n",
       "    <tr>\n",
       "      <th>avg(overall)</th>\n",
       "      <td>0.138791</td>\n",
       "      <td>1.000000</td>\n",
       "    </tr>\n",
       "  </tbody>\n",
       "</table>\n",
       "</div>"
      ],
      "text/plain": [
       "                  avg(helpfulness)  avg(overall)\n",
       "avg(helpfulness)          1.000000      0.138791\n",
       "avg(overall)              0.138791      1.000000"
      ]
     },
     "execution_count": 49,
     "metadata": {},
     "output_type": "execute_result"
    }
   ],
   "source": [
    "correlation1 = review_count_per_category.select('avg(helpfulness)', 'avg(overall)').toPandas().corr(method = 'spearman')\n",
    "correlation1"
   ]
  },
  {
   "cell_type": "markdown",
   "metadata": {},
   "source": [
    "There's a weak correlation between average helpfulness and average overall rating, again. "
   ]
  },
  {
   "cell_type": "code",
   "execution_count": 107,
   "metadata": {},
   "outputs": [
    {
     "data": {
      "text/html": [
       "<div>\n",
       "<style scoped>\n",
       "    .dataframe tbody tr th:only-of-type {\n",
       "        vertical-align: middle;\n",
       "    }\n",
       "\n",
       "    .dataframe tbody tr th {\n",
       "        vertical-align: top;\n",
       "    }\n",
       "\n",
       "    .dataframe thead th {\n",
       "        text-align: right;\n",
       "    }\n",
       "</style>\n",
       "<table border=\"1\" class=\"dataframe\">\n",
       "  <thead>\n",
       "    <tr style=\"text-align: right;\">\n",
       "      <th></th>\n",
       "      <th>avg(helpfulness)</th>\n",
       "      <th>num_reviews</th>\n",
       "    </tr>\n",
       "  </thead>\n",
       "  <tbody>\n",
       "    <tr>\n",
       "      <th>avg(helpfulness)</th>\n",
       "      <td>1.000000</td>\n",
       "      <td>-0.202871</td>\n",
       "    </tr>\n",
       "    <tr>\n",
       "      <th>num_reviews</th>\n",
       "      <td>-0.202871</td>\n",
       "      <td>1.000000</td>\n",
       "    </tr>\n",
       "  </tbody>\n",
       "</table>\n",
       "</div>"
      ],
      "text/plain": [
       "                  avg(helpfulness)  num_reviews\n",
       "avg(helpfulness)          1.000000    -0.202871\n",
       "num_reviews              -0.202871     1.000000"
      ]
     },
     "execution_count": 107,
     "metadata": {},
     "output_type": "execute_result"
    }
   ],
   "source": [
    "correlation2 = review_count_per_category.select('avg(helpfulness)', 'num_reviews').toPandas().corr(method = 'spearman')\n",
    "correlation2"
   ]
  },
  {
   "cell_type": "markdown",
   "metadata": {},
   "source": [
    "there's a remarkable negative correlation between the average helpfulness of reviews and the number of review associated to a category."
   ]
  },
  {
   "cell_type": "code",
   "execution_count": 108,
   "metadata": {},
   "outputs": [
    {
     "data": {
      "text/html": [
       "<div>\n",
       "<style scoped>\n",
       "    .dataframe tbody tr th:only-of-type {\n",
       "        vertical-align: middle;\n",
       "    }\n",
       "\n",
       "    .dataframe tbody tr th {\n",
       "        vertical-align: top;\n",
       "    }\n",
       "\n",
       "    .dataframe thead th {\n",
       "        text-align: right;\n",
       "    }\n",
       "</style>\n",
       "<table border=\"1\" class=\"dataframe\">\n",
       "  <thead>\n",
       "    <tr style=\"text-align: right;\">\n",
       "      <th></th>\n",
       "      <th>avg(overall)</th>\n",
       "      <th>num_reviews</th>\n",
       "    </tr>\n",
       "  </thead>\n",
       "  <tbody>\n",
       "    <tr>\n",
       "      <th>avg(overall)</th>\n",
       "      <td>1.00000</td>\n",
       "      <td>-0.13671</td>\n",
       "    </tr>\n",
       "    <tr>\n",
       "      <th>num_reviews</th>\n",
       "      <td>-0.13671</td>\n",
       "      <td>1.00000</td>\n",
       "    </tr>\n",
       "  </tbody>\n",
       "</table>\n",
       "</div>"
      ],
      "text/plain": [
       "              avg(overall)  num_reviews\n",
       "avg(overall)       1.00000     -0.13671\n",
       "num_reviews       -0.13671      1.00000"
      ]
     },
     "execution_count": 108,
     "metadata": {},
     "output_type": "execute_result"
    }
   ],
   "source": [
    "correlation3 = review_count_per_category.select('avg(overall)', 'num_reviews').toPandas().corr(method = 'spearman')\n",
    "correlation3"
   ]
  },
  {
   "cell_type": "markdown",
   "metadata": {},
   "source": [
    "There's a barely noticeable correlation between the overall rating and the number of reviews."
   ]
  },
  {
   "cell_type": "markdown",
   "metadata": {},
   "source": [
    "If we take into account the categories where the product is ranked:"
   ]
  },
  {
   "cell_type": "code",
   "execution_count": 123,
   "metadata": {
    "collapsed": true
   },
   "outputs": [],
   "source": [
    "meta_df_per_category = meta_df.select(\"asin\", \"rank\", \"category\", \"price\").dropna(how='any')\\\n",
    "    .join(df_review_helpfulness, \"asin\")\\\n",
    "    .groupby(\"category\")\\\n",
    "    .agg(F.count(\"asin\").alias(\"num_reviews\"),\\\n",
    "         F.countDistinct(\"asin\").alias(\"num_products\"),\\\n",
    "         F.avg(\"helpfulness\"),\\\n",
    "         F.mean(\"overall\"))"
   ]
  },
  {
   "cell_type": "code",
   "execution_count": 134,
   "metadata": {},
   "outputs": [
    {
     "data": {
      "text/plain": [
       "SpearmanrResult(correlation=0.40956618464961064, pvalue=0.024602214878570946)"
      ]
     },
     "execution_count": 134,
     "metadata": {},
     "output_type": "execute_result"
    }
   ],
   "source": [
    "from scipy.stats import spearmanr\n",
    "df = meta_df_per_category.select('avg(helpfulness)', 'avg(overall)').toPandas()\n",
    "spearmanr(df['avg(helpfulness)'], df['avg(overall)'])"
   ]
  },
  {
   "cell_type": "code",
   "execution_count": 124,
   "metadata": {},
   "outputs": [
    {
     "data": {
      "text/html": [
       "<div>\n",
       "<style scoped>\n",
       "    .dataframe tbody tr th:only-of-type {\n",
       "        vertical-align: middle;\n",
       "    }\n",
       "\n",
       "    .dataframe tbody tr th {\n",
       "        vertical-align: top;\n",
       "    }\n",
       "\n",
       "    .dataframe thead th {\n",
       "        text-align: right;\n",
       "    }\n",
       "</style>\n",
       "<table border=\"1\" class=\"dataframe\">\n",
       "  <thead>\n",
       "    <tr style=\"text-align: right;\">\n",
       "      <th></th>\n",
       "      <th>avg(helpfulness)</th>\n",
       "      <th>avg(overall)</th>\n",
       "    </tr>\n",
       "  </thead>\n",
       "  <tbody>\n",
       "    <tr>\n",
       "      <th>avg(helpfulness)</th>\n",
       "      <td>1.000000</td>\n",
       "      <td>0.409566</td>\n",
       "    </tr>\n",
       "    <tr>\n",
       "      <th>avg(overall)</th>\n",
       "      <td>0.409566</td>\n",
       "      <td>1.000000</td>\n",
       "    </tr>\n",
       "  </tbody>\n",
       "</table>\n",
       "</div>"
      ],
      "text/plain": [
       "                  avg(helpfulness)  avg(overall)\n",
       "avg(helpfulness)          1.000000      0.409566\n",
       "avg(overall)              0.409566      1.000000"
      ]
     },
     "execution_count": 124,
     "metadata": {},
     "output_type": "execute_result"
    }
   ],
   "source": [
    "meta_df_per_category.select('avg(helpfulness)', 'avg(overall)').toPandas().corr(method = 'spearman')"
   ]
  },
  {
   "cell_type": "code",
   "execution_count": 133,
   "metadata": {},
   "outputs": [
    {
     "data": {
      "text/plain": [
       "SpearmanrResult(correlation=-0.35216907675194659, pvalue=0.056313580681743504)"
      ]
     },
     "execution_count": 133,
     "metadata": {},
     "output_type": "execute_result"
    }
   ],
   "source": [
    "from scipy.stats import spearmanr\n",
    "df = meta_df_per_category.select('avg(helpfulness)', 'num_reviews').toPandas()\n",
    "spearmanr(df['avg(helpfulness)'], df['num_reviews'])"
   ]
  },
  {
   "cell_type": "code",
   "execution_count": 125,
   "metadata": {
    "scrolled": true
   },
   "outputs": [
    {
     "data": {
      "text/html": [
       "<div>\n",
       "<style scoped>\n",
       "    .dataframe tbody tr th:only-of-type {\n",
       "        vertical-align: middle;\n",
       "    }\n",
       "\n",
       "    .dataframe tbody tr th {\n",
       "        vertical-align: top;\n",
       "    }\n",
       "\n",
       "    .dataframe thead th {\n",
       "        text-align: right;\n",
       "    }\n",
       "</style>\n",
       "<table border=\"1\" class=\"dataframe\">\n",
       "  <thead>\n",
       "    <tr style=\"text-align: right;\">\n",
       "      <th></th>\n",
       "      <th>avg(helpfulness)</th>\n",
       "      <th>num_reviews</th>\n",
       "    </tr>\n",
       "  </thead>\n",
       "  <tbody>\n",
       "    <tr>\n",
       "      <th>avg(helpfulness)</th>\n",
       "      <td>1.000000</td>\n",
       "      <td>-0.352169</td>\n",
       "    </tr>\n",
       "    <tr>\n",
       "      <th>num_reviews</th>\n",
       "      <td>-0.352169</td>\n",
       "      <td>1.000000</td>\n",
       "    </tr>\n",
       "  </tbody>\n",
       "</table>\n",
       "</div>"
      ],
      "text/plain": [
       "                  avg(helpfulness)  num_reviews\n",
       "avg(helpfulness)          1.000000    -0.352169\n",
       "num_reviews              -0.352169     1.000000"
      ]
     },
     "execution_count": 125,
     "metadata": {},
     "output_type": "execute_result"
    }
   ],
   "source": [
    "meta_df_per_category.select('avg(helpfulness)', 'num_reviews').toPandas().corr(method = 'spearman')"
   ]
  },
  {
   "cell_type": "code",
   "execution_count": 126,
   "metadata": {
    "scrolled": true
   },
   "outputs": [
    {
     "data": {
      "text/html": [
       "<div>\n",
       "<style scoped>\n",
       "    .dataframe tbody tr th:only-of-type {\n",
       "        vertical-align: middle;\n",
       "    }\n",
       "\n",
       "    .dataframe tbody tr th {\n",
       "        vertical-align: top;\n",
       "    }\n",
       "\n",
       "    .dataframe thead th {\n",
       "        text-align: right;\n",
       "    }\n",
       "</style>\n",
       "<table border=\"1\" class=\"dataframe\">\n",
       "  <thead>\n",
       "    <tr style=\"text-align: right;\">\n",
       "      <th></th>\n",
       "      <th>avg(overall)</th>\n",
       "      <th>num_reviews</th>\n",
       "    </tr>\n",
       "  </thead>\n",
       "  <tbody>\n",
       "    <tr>\n",
       "      <th>avg(overall)</th>\n",
       "      <td>1.000000</td>\n",
       "      <td>-0.099444</td>\n",
       "    </tr>\n",
       "    <tr>\n",
       "      <th>num_reviews</th>\n",
       "      <td>-0.099444</td>\n",
       "      <td>1.000000</td>\n",
       "    </tr>\n",
       "  </tbody>\n",
       "</table>\n",
       "</div>"
      ],
      "text/plain": [
       "              avg(overall)  num_reviews\n",
       "avg(overall)      1.000000    -0.099444\n",
       "num_reviews      -0.099444     1.000000"
      ]
     },
     "execution_count": 126,
     "metadata": {},
     "output_type": "execute_result"
    }
   ],
   "source": [
    "meta_df_per_category.select('avg(overall)', 'num_reviews').toPandas().corr(method = 'spearman')"
   ]
  },
  {
   "cell_type": "code",
   "execution_count": 127,
   "metadata": {},
   "outputs": [
    {
     "data": {
      "text/html": [
       "<div>\n",
       "<style scoped>\n",
       "    .dataframe tbody tr th:only-of-type {\n",
       "        vertical-align: middle;\n",
       "    }\n",
       "\n",
       "    .dataframe tbody tr th {\n",
       "        vertical-align: top;\n",
       "    }\n",
       "\n",
       "    .dataframe thead th {\n",
       "        text-align: right;\n",
       "    }\n",
       "</style>\n",
       "<table border=\"1\" class=\"dataframe\">\n",
       "  <thead>\n",
       "    <tr style=\"text-align: right;\">\n",
       "      <th></th>\n",
       "      <th>avg(overall)</th>\n",
       "      <th>num_products</th>\n",
       "    </tr>\n",
       "  </thead>\n",
       "  <tbody>\n",
       "    <tr>\n",
       "      <th>avg(overall)</th>\n",
       "      <td>1.000000</td>\n",
       "      <td>0.019355</td>\n",
       "    </tr>\n",
       "    <tr>\n",
       "      <th>num_products</th>\n",
       "      <td>0.019355</td>\n",
       "      <td>1.000000</td>\n",
       "    </tr>\n",
       "  </tbody>\n",
       "</table>\n",
       "</div>"
      ],
      "text/plain": [
       "              avg(overall)  num_products\n",
       "avg(overall)      1.000000      0.019355\n",
       "num_products      0.019355      1.000000"
      ]
     },
     "execution_count": 127,
     "metadata": {},
     "output_type": "execute_result"
    }
   ],
   "source": [
    "meta_df_per_category.select('avg(overall)', 'num_products').toPandas().corr(method = 'spearman')"
   ]
  },
  {
   "cell_type": "code",
   "execution_count": 129,
   "metadata": {},
   "outputs": [
    {
     "data": {
      "text/html": [
       "<div>\n",
       "<style scoped>\n",
       "    .dataframe tbody tr th:only-of-type {\n",
       "        vertical-align: middle;\n",
       "    }\n",
       "\n",
       "    .dataframe tbody tr th {\n",
       "        vertical-align: top;\n",
       "    }\n",
       "\n",
       "    .dataframe thead th {\n",
       "        text-align: right;\n",
       "    }\n",
       "</style>\n",
       "<table border=\"1\" class=\"dataframe\">\n",
       "  <thead>\n",
       "    <tr style=\"text-align: right;\">\n",
       "      <th></th>\n",
       "      <th>avg(helpfulness)</th>\n",
       "      <th>num_products</th>\n",
       "    </tr>\n",
       "  </thead>\n",
       "  <tbody>\n",
       "    <tr>\n",
       "      <th>avg(helpfulness)</th>\n",
       "      <td>1.000000</td>\n",
       "      <td>-0.297442</td>\n",
       "    </tr>\n",
       "    <tr>\n",
       "      <th>num_products</th>\n",
       "      <td>-0.297442</td>\n",
       "      <td>1.000000</td>\n",
       "    </tr>\n",
       "  </tbody>\n",
       "</table>\n",
       "</div>"
      ],
      "text/plain": [
       "                  avg(helpfulness)  num_products\n",
       "avg(helpfulness)          1.000000     -0.297442\n",
       "num_products             -0.297442      1.000000"
      ]
     },
     "execution_count": 129,
     "metadata": {},
     "output_type": "execute_result"
    }
   ],
   "source": [
    "meta_df_per_category.select('avg(helpfulness)', 'num_products').toPandas().corr(method = 'spearman')"
   ]
  },
  {
   "cell_type": "markdown",
   "metadata": {},
   "source": [
    "## Price"
   ]
  },
  {
   "cell_type": "code",
   "execution_count": 66,
   "metadata": {},
   "outputs": [
    {
     "name": "stdout",
     "output_type": "stream",
     "text": [
      "There is 55.842% of product with a price\n"
     ]
    }
   ],
   "source": [
    "print(\"There is %.3f%% of product with a price\"%(meta_df.dropna(subset=[\"price\"]).count()/total_products*100))"
   ]
  },
  {
   "cell_type": "code",
   "execution_count": 68,
   "metadata": {},
   "outputs": [],
   "source": [
    "df_review_with_price = meta_df.dropna(subset=[\"price\"]).select(\"asin\", \"price\").join(df_review.select(\"asin\", \"reviewerID\", \"overall\", \"helpfulness\"), \"asin\")"
   ]
  },
  {
   "cell_type": "code",
   "execution_count": 69,
   "metadata": {},
   "outputs": [
    {
     "name": "stdout",
     "output_type": "stream",
     "text": [
      "There is 73.693% of review with a product that have a price\n"
     ]
    }
   ],
   "source": [
    "print(\"There is %.3f%% of review with a product that have a price\"%(df_review_with_price.count()/num_reviews*100))"
   ]
  },
  {
   "cell_type": "code",
   "execution_count": 79,
   "metadata": {},
   "outputs": [
    {
     "data": {
      "text/html": [
       "<div>\n",
       "<style scoped>\n",
       "    .dataframe tbody tr th:only-of-type {\n",
       "        vertical-align: middle;\n",
       "    }\n",
       "\n",
       "    .dataframe tbody tr th {\n",
       "        vertical-align: top;\n",
       "    }\n",
       "\n",
       "    .dataframe thead th {\n",
       "        text-align: right;\n",
       "    }\n",
       "</style>\n",
       "<table border=\"1\" class=\"dataframe\">\n",
       "  <thead>\n",
       "    <tr style=\"text-align: right;\">\n",
       "      <th></th>\n",
       "      <th>price</th>\n",
       "      <th>overall</th>\n",
       "    </tr>\n",
       "  </thead>\n",
       "  <tbody>\n",
       "    <tr>\n",
       "      <th>price</th>\n",
       "      <td>1.000000</td>\n",
       "      <td>0.010689</td>\n",
       "    </tr>\n",
       "    <tr>\n",
       "      <th>overall</th>\n",
       "      <td>0.010689</td>\n",
       "      <td>1.000000</td>\n",
       "    </tr>\n",
       "  </tbody>\n",
       "</table>\n",
       "</div>"
      ],
      "text/plain": [
       "            price   overall\n",
       "price    1.000000  0.010689\n",
       "overall  0.010689  1.000000"
      ]
     },
     "execution_count": 79,
     "metadata": {},
     "output_type": "execute_result"
    }
   ],
   "source": [
    "df_review_with_price.select(\"price\", \"overall\").toPandas().corr(method = 'spearman')"
   ]
  },
  {
   "cell_type": "code",
   "execution_count": 81,
   "metadata": {},
   "outputs": [
    {
     "data": {
      "text/html": [
       "<div>\n",
       "<style scoped>\n",
       "    .dataframe tbody tr th:only-of-type {\n",
       "        vertical-align: middle;\n",
       "    }\n",
       "\n",
       "    .dataframe tbody tr th {\n",
       "        vertical-align: top;\n",
       "    }\n",
       "\n",
       "    .dataframe thead th {\n",
       "        text-align: right;\n",
       "    }\n",
       "</style>\n",
       "<table border=\"1\" class=\"dataframe\">\n",
       "  <thead>\n",
       "    <tr style=\"text-align: right;\">\n",
       "      <th></th>\n",
       "      <th>price</th>\n",
       "      <th>overall</th>\n",
       "    </tr>\n",
       "  </thead>\n",
       "  <tbody>\n",
       "    <tr>\n",
       "      <th>price</th>\n",
       "      <td>1.000000</td>\n",
       "      <td>-0.040482</td>\n",
       "    </tr>\n",
       "    <tr>\n",
       "      <th>overall</th>\n",
       "      <td>-0.040482</td>\n",
       "      <td>1.000000</td>\n",
       "    </tr>\n",
       "  </tbody>\n",
       "</table>\n",
       "</div>"
      ],
      "text/plain": [
       "            price   overall\n",
       "price    1.000000 -0.040482\n",
       "overall -0.040482  1.000000"
      ]
     },
     "execution_count": 81,
     "metadata": {},
     "output_type": "execute_result"
    }
   ],
   "source": [
    "df_review_with_price.groupBy(\"reviewerID\").agg(F.mean(\"price\").alias(\"price\"), F.mean(\"overall\").alias(\"overall\"))\\\n",
    "    .select(\"price\", \"overall\").toPandas().corr(method= 'spearman')"
   ]
  },
  {
   "cell_type": "code",
   "execution_count": 82,
   "metadata": {},
   "outputs": [
    {
     "data": {
      "text/html": [
       "<div>\n",
       "<style scoped>\n",
       "    .dataframe tbody tr th:only-of-type {\n",
       "        vertical-align: middle;\n",
       "    }\n",
       "\n",
       "    .dataframe tbody tr th {\n",
       "        vertical-align: top;\n",
       "    }\n",
       "\n",
       "    .dataframe thead th {\n",
       "        text-align: right;\n",
       "    }\n",
       "</style>\n",
       "<table border=\"1\" class=\"dataframe\">\n",
       "  <thead>\n",
       "    <tr style=\"text-align: right;\">\n",
       "      <th></th>\n",
       "      <th>price</th>\n",
       "      <th>overall</th>\n",
       "    </tr>\n",
       "  </thead>\n",
       "  <tbody>\n",
       "    <tr>\n",
       "      <th>price</th>\n",
       "      <td>1.000000</td>\n",
       "      <td>0.024085</td>\n",
       "    </tr>\n",
       "    <tr>\n",
       "      <th>overall</th>\n",
       "      <td>0.024085</td>\n",
       "      <td>1.000000</td>\n",
       "    </tr>\n",
       "  </tbody>\n",
       "</table>\n",
       "</div>"
      ],
      "text/plain": [
       "            price   overall\n",
       "price    1.000000  0.024085\n",
       "overall  0.024085  1.000000"
      ]
     },
     "execution_count": 82,
     "metadata": {},
     "output_type": "execute_result"
    }
   ],
   "source": [
    "df_review_with_price.groupBy(\"asin\").agg(F.mean(\"price\").alias(\"price\"), F.mean(\"overall\").alias(\"overall\"))\\\n",
    "    .select(\"price\", \"overall\").toPandas().corr(method= 'spearman')"
   ]
  },
  {
   "cell_type": "code",
   "execution_count": 84,
   "metadata": {},
   "outputs": [
    {
     "data": {
      "text/html": [
       "<div>\n",
       "<style scoped>\n",
       "    .dataframe tbody tr th:only-of-type {\n",
       "        vertical-align: middle;\n",
       "    }\n",
       "\n",
       "    .dataframe tbody tr th {\n",
       "        vertical-align: top;\n",
       "    }\n",
       "\n",
       "    .dataframe thead th {\n",
       "        text-align: right;\n",
       "    }\n",
       "</style>\n",
       "<table border=\"1\" class=\"dataframe\">\n",
       "  <thead>\n",
       "    <tr style=\"text-align: right;\">\n",
       "      <th></th>\n",
       "      <th>price</th>\n",
       "      <th>helpfulness</th>\n",
       "    </tr>\n",
       "  </thead>\n",
       "  <tbody>\n",
       "    <tr>\n",
       "      <th>price</th>\n",
       "      <td>1.000000</td>\n",
       "      <td>0.050943</td>\n",
       "    </tr>\n",
       "    <tr>\n",
       "      <th>helpfulness</th>\n",
       "      <td>0.050943</td>\n",
       "      <td>1.000000</td>\n",
       "    </tr>\n",
       "  </tbody>\n",
       "</table>\n",
       "</div>"
      ],
      "text/plain": [
       "                price  helpfulness\n",
       "price        1.000000     0.050943\n",
       "helpfulness  0.050943     1.000000"
      ]
     },
     "execution_count": 84,
     "metadata": {},
     "output_type": "execute_result"
    }
   ],
   "source": [
    "df_review_with_price.select(\"price\", \"helpfulness\").toPandas().corr(method = 'spearman')"
   ]
  },
  {
   "cell_type": "code",
   "execution_count": 85,
   "metadata": {},
   "outputs": [
    {
     "data": {
      "text/html": [
       "<div>\n",
       "<style scoped>\n",
       "    .dataframe tbody tr th:only-of-type {\n",
       "        vertical-align: middle;\n",
       "    }\n",
       "\n",
       "    .dataframe tbody tr th {\n",
       "        vertical-align: top;\n",
       "    }\n",
       "\n",
       "    .dataframe thead th {\n",
       "        text-align: right;\n",
       "    }\n",
       "</style>\n",
       "<table border=\"1\" class=\"dataframe\">\n",
       "  <thead>\n",
       "    <tr style=\"text-align: right;\">\n",
       "      <th></th>\n",
       "      <th>price</th>\n",
       "      <th>helpfulness</th>\n",
       "    </tr>\n",
       "  </thead>\n",
       "  <tbody>\n",
       "    <tr>\n",
       "      <th>price</th>\n",
       "      <td>1.000000</td>\n",
       "      <td>0.061797</td>\n",
       "    </tr>\n",
       "    <tr>\n",
       "      <th>helpfulness</th>\n",
       "      <td>0.061797</td>\n",
       "      <td>1.000000</td>\n",
       "    </tr>\n",
       "  </tbody>\n",
       "</table>\n",
       "</div>"
      ],
      "text/plain": [
       "                price  helpfulness\n",
       "price        1.000000     0.061797\n",
       "helpfulness  0.061797     1.000000"
      ]
     },
     "execution_count": 85,
     "metadata": {},
     "output_type": "execute_result"
    }
   ],
   "source": [
    "df_review_with_price.groupBy(\"reviewerID\").agg(F.mean(\"price\").alias(\"price\"), F.mean(\"helpfulness\").alias(\"helpfulness\"))\\\n",
    "    .select(\"price\", \"helpfulness\").toPandas().corr(method= 'spearman')"
   ]
  },
  {
   "cell_type": "code",
   "execution_count": 86,
   "metadata": {},
   "outputs": [
    {
     "data": {
      "text/html": [
       "<div>\n",
       "<style scoped>\n",
       "    .dataframe tbody tr th:only-of-type {\n",
       "        vertical-align: middle;\n",
       "    }\n",
       "\n",
       "    .dataframe tbody tr th {\n",
       "        vertical-align: top;\n",
       "    }\n",
       "\n",
       "    .dataframe thead th {\n",
       "        text-align: right;\n",
       "    }\n",
       "</style>\n",
       "<table border=\"1\" class=\"dataframe\">\n",
       "  <thead>\n",
       "    <tr style=\"text-align: right;\">\n",
       "      <th></th>\n",
       "      <th>price</th>\n",
       "      <th>helpfulness</th>\n",
       "    </tr>\n",
       "  </thead>\n",
       "  <tbody>\n",
       "    <tr>\n",
       "      <th>price</th>\n",
       "      <td>1.000000</td>\n",
       "      <td>0.126135</td>\n",
       "    </tr>\n",
       "    <tr>\n",
       "      <th>helpfulness</th>\n",
       "      <td>0.126135</td>\n",
       "      <td>1.000000</td>\n",
       "    </tr>\n",
       "  </tbody>\n",
       "</table>\n",
       "</div>"
      ],
      "text/plain": [
       "                price  helpfulness\n",
       "price        1.000000     0.126135\n",
       "helpfulness  0.126135     1.000000"
      ]
     },
     "execution_count": 86,
     "metadata": {},
     "output_type": "execute_result"
    }
   ],
   "source": [
    "df_review_with_price.groupBy(\"asin\").agg(F.mean(\"price\").alias(\"price\"), F.mean(\"helpfulness\").alias(\"helpfulness\"))\\\n",
    "    .select(\"price\", \"helpfulness\").toPandas().corr(method= 'spearman')"
   ]
  },
  {
   "cell_type": "code",
   "execution_count": 91,
   "metadata": {},
   "outputs": [
    {
     "name": "stdout",
     "output_type": "stream",
     "text": [
      "There is 41.142% of product with a price and a rank\n"
     ]
    }
   ],
   "source": [
    "print(\"There is %.3f%% of product with a price and a rank\"\\\n",
    "      %(meta_df.dropna(subset=[\"rank\", \"price\"]).count()/total_products*100))"
   ]
  },
  {
   "cell_type": "code",
   "execution_count": 93,
   "metadata": {},
   "outputs": [
    {
     "data": {
      "text/html": [
       "<div>\n",
       "<style scoped>\n",
       "    .dataframe tbody tr th:only-of-type {\n",
       "        vertical-align: middle;\n",
       "    }\n",
       "\n",
       "    .dataframe tbody tr th {\n",
       "        vertical-align: top;\n",
       "    }\n",
       "\n",
       "    .dataframe thead th {\n",
       "        text-align: right;\n",
       "    }\n",
       "</style>\n",
       "<table border=\"1\" class=\"dataframe\">\n",
       "  <thead>\n",
       "    <tr style=\"text-align: right;\">\n",
       "      <th></th>\n",
       "      <th>rank</th>\n",
       "      <th>price</th>\n",
       "    </tr>\n",
       "  </thead>\n",
       "  <tbody>\n",
       "    <tr>\n",
       "      <th>rank</th>\n",
       "      <td>1.000000</td>\n",
       "      <td>-0.115126</td>\n",
       "    </tr>\n",
       "    <tr>\n",
       "      <th>price</th>\n",
       "      <td>-0.115126</td>\n",
       "      <td>1.000000</td>\n",
       "    </tr>\n",
       "  </tbody>\n",
       "</table>\n",
       "</div>"
      ],
      "text/plain": [
       "           rank     price\n",
       "rank   1.000000 -0.115126\n",
       "price -0.115126  1.000000"
      ]
     },
     "execution_count": 93,
     "metadata": {},
     "output_type": "execute_result"
    }
   ],
   "source": [
    "meta_df.dropna(subset=[\"rank\", \"price\"]).select(\"rank\", \"price\").toPandas().corr(method = 'spearman')"
   ]
  },
  {
   "cell_type": "code",
   "execution_count": 95,
   "metadata": {},
   "outputs": [
    {
     "name": "stdout",
     "output_type": "stream",
     "text": [
      "+-------+------------------+\n",
      "|summary|             price|\n",
      "+-------+------------------+\n",
      "|  count|           5265930|\n",
      "|   mean|34.010683132935085|\n",
      "| stddev| 69.44239253554785|\n",
      "|    min|               0.0|\n",
      "|    max|            999.99|\n",
      "+-------+------------------+\n",
      "\n"
     ]
    }
   ],
   "source": [
    "meta_df.dropna(subset=[\"price\"]).select(\"price\").describe().show()"
   ]
  },
  {
   "cell_type": "code",
   "execution_count": 96,
   "metadata": {
    "collapsed": true
   },
   "outputs": [],
   "source": [
    "q6_meta_df = meta_df.select(\"asin\", \"rank\", \"price\", F.explode(\"categories\").alias(\"category\")).select(\"asin\", \"rank\",\"price\", F.explode(\"category\").alias(\"category\")).dropna(how='any')"
   ]
  },
  {
   "cell_type": "code",
   "execution_count": 98,
   "metadata": {},
   "outputs": [
    {
     "name": "stdout",
     "output_type": "stream",
     "text": [
      "+-------+--------------------+------------------+------------------+--------+\n",
      "|summary|                asin|              rank|             price|category|\n",
      "+-------+--------------------+------------------+------------------+--------+\n",
      "|  count|            15123975|          15123975|          15123975|15123975|\n",
      "|   mean| 1.438651372909462E9|487668.86235768045|36.802601613034945|  1803.0|\n",
      "| stddev|1.6205991469499478E9| 948432.5224093457| 68.81361947598435|     0.0|\n",
      "|    min|          0000000868|                 1|               0.0|        |\n",
      "|    max|          SMLRBIMX03|          14689097|            999.99|    zinc|\n",
      "+-------+--------------------+------------------+------------------+--------+\n",
      "\n"
     ]
    }
   ],
   "source": [
    "q6_meta_df.describe().show()"
   ]
  },
  {
   "cell_type": "code",
   "execution_count": 102,
   "metadata": {},
   "outputs": [
    {
     "data": {
      "text/html": [
       "<div>\n",
       "<style scoped>\n",
       "    .dataframe tbody tr th:only-of-type {\n",
       "        vertical-align: middle;\n",
       "    }\n",
       "\n",
       "    .dataframe tbody tr th {\n",
       "        vertical-align: top;\n",
       "    }\n",
       "\n",
       "    .dataframe thead th {\n",
       "        text-align: right;\n",
       "    }\n",
       "</style>\n",
       "<table border=\"1\" class=\"dataframe\">\n",
       "  <thead>\n",
       "    <tr style=\"text-align: right;\">\n",
       "      <th></th>\n",
       "      <th>price</th>\n",
       "      <th>rank</th>\n",
       "    </tr>\n",
       "  </thead>\n",
       "  <tbody>\n",
       "    <tr>\n",
       "      <th>price</th>\n",
       "      <td>1.000000</td>\n",
       "      <td>-0.080791</td>\n",
       "    </tr>\n",
       "    <tr>\n",
       "      <th>rank</th>\n",
       "      <td>-0.080791</td>\n",
       "      <td>1.000000</td>\n",
       "    </tr>\n",
       "  </tbody>\n",
       "</table>\n",
       "</div>"
      ],
      "text/plain": [
       "          price      rank\n",
       "price  1.000000 -0.080791\n",
       "rank  -0.080791  1.000000"
      ]
     },
     "execution_count": 102,
     "metadata": {},
     "output_type": "execute_result"
    }
   ],
   "source": [
    "q6_meta_df.groupBy(\"category\").agg(F.mean(\"price\").alias(\"price\"), F.mean(\"rank\").alias(\"rank\")).toPandas().corr(method = 'spearman')"
   ]
  }
 ],
 "metadata": {
  "kernelspec": {
   "display_name": "Python 3",
   "language": "python",
   "name": "python3"
  },
  "language_info": {
   "codemirror_mode": {
    "name": "ipython",
    "version": 3
   },
   "file_extension": ".py",
   "mimetype": "text/x-python",
   "name": "python",
   "nbconvert_exporter": "python",
   "pygments_lexer": "ipython3",
   "version": "3.6.2"
  }
 },
 "nbformat": 4,
 "nbformat_minor": 2
}
