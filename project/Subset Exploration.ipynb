{
 "cells": [
  {
   "cell_type": "markdown",
   "metadata": {},
   "source": [
    "# Introduction\n",
    "\n",
    "What we did in this notebook is selecting a small part of the amazon dataset and use it to test the methods we implemented.\n",
    "\n",
    "We tried to write code which makes use of Spark SQL, however due to the limitated competences of certain members of the group we weren't always able to provide efficient code. This issue will be resolved in Milestone 3.\n",
    "\n",
    "Please also note that due to time constraints and cluster overload we weren't able to properly test our methods on the cluster."
   ]
  },
  {
   "cell_type": "markdown",
   "metadata": {},
   "source": [
    "# Import/Helpers"
   ]
  },
  {
   "cell_type": "code",
   "execution_count": 43,
   "metadata": {
    "collapsed": true
   },
   "outputs": [],
   "source": [
    "import os\n",
    "import findspark\n",
    "#os.environ['SPARK_HOME'] = '/opt/apache-spark'\n",
    "# os.environ['SPARK_HOME'] = '/usr/local/Cellar/apache-spark/2.2.0/libexec/'\n",
    "findspark.init()\n",
    "from pyspark import SQLContext, SparkContext, SparkConf\n",
    "from pyspark.sql import functions as F\n",
    "from pyspark.sql import types as T\n",
    "from pyspark.mllib.stat import Statistics as S\n",
    "import json\n",
    "import numpy as np\n",
    "import scipy.stats as stats\n",
    "import pandas as pd\n",
    "from pyspark.sql.functions import udf\n",
    "from pyspark.sql.types import *\n",
    "from pyspark_dist_explore import hist\n",
    "import seaborn as sns\n",
    "import matplotlib.pyplot as plt\n",
    "%matplotlib inline"
   ]
  },
  {
   "cell_type": "code",
   "execution_count": 2,
   "metadata": {
    "collapsed": true
   },
   "outputs": [],
   "source": [
    "def correlation(df, col1, col2, method='pearson'):\n",
    "    rdd1 = df.select(col1).rdd.map(lambda x: x[0])\n",
    "    rdd2 = df.select(col2).rdd.map(lambda x: x[0])\n",
    "    return S.corr(rdd1, rdd2, method)"
   ]
  },
  {
   "cell_type": "markdown",
   "metadata": {},
   "source": [
    "Creation of a Spark contest."
   ]
  },
  {
   "cell_type": "code",
   "execution_count": 3,
   "metadata": {
    "collapsed": true
   },
   "outputs": [],
   "source": [
    "memory = '2g'\n",
    "pyspark_submit_args = ' --driver-memory ' + memory + ' pyspark-shell'\n",
    "os.environ[\"PYSPARK_SUBMIT_ARGS\"] = pyspark_submit_args\n",
    "sc = SparkContext()\n",
    "sqlContext = SQLContext(sc)"
   ]
  },
  {
   "cell_type": "markdown",
   "metadata": {},
   "source": [
    "# Questions"
   ]
  },
  {
   "cell_type": "markdown",
   "metadata": {},
   "source": [
    "We load the data from the json file. The data is a small subset containing only items from the following categories:\n",
    "\"Baby\", \"Automotive\" and \"Grocery and Gourmet Food\". We will use this dataset on our local machine to qualitatively manipulate the data. "
   ]
  },
  {
   "cell_type": "code",
   "execution_count": 4,
   "metadata": {
    "collapsed": true
   },
   "outputs": [],
   "source": [
    "#df_review = sqlContext.read.json(\"reviews_auto_baby_grocery.json\")\n",
    "#df_review = sqlContext.read.json(\"datasets/data.json\")\n",
    "#df_review.write.parquet(\"data.parquet\")"
   ]
  },
  {
   "cell_type": "code",
   "execution_count": 4,
   "metadata": {
    "collapsed": true
   },
   "outputs": [],
   "source": [
    "# df_review = sqlContext.read.json(\"reviews_auto_baby_grocery.json\")\n",
    "df_review = sqlContext.read.parquet(\"data.parquet\")\n",
    "num_reviews = df_review.count()"
   ]
  },
  {
   "cell_type": "markdown",
   "metadata": {},
   "source": [
    "Here we load the product's metadata."
   ]
  },
  {
   "cell_type": "code",
   "execution_count": 5,
   "metadata": {
    "collapsed": true
   },
   "outputs": [],
   "source": [
    " #meta_df = sqlContext.read.json(\"meta_auto_baby_grocery.json\")\n",
    "meta_df = sqlContext.read.parquet(\"metadata.parquet\")\n",
    "#meta_df = sqlContext.read.json(\"datasets/metadata.json\")"
   ]
  },
  {
   "cell_type": "markdown",
   "metadata": {},
   "source": [
    "Setup for parquet file:"
   ]
  },
  {
   "cell_type": "code",
   "execution_count": null,
   "metadata": {
    "collapsed": true
   },
   "outputs": [],
   "source": [
    "# We flatten the meta dataframe\n",
    "# No need to run it, already checked...\n",
    "def flatten(salesRank):\n",
    "    if salesRank == None:\n",
    "        return None, None\n",
    "    else:\n",
    "        for category, rank in salesRank.asDict().items():\n",
    "            if rank != None:\n",
    "                return (category, rank)\n",
    "    return None, None\n",
    "flatten = udf(flatten, StructType([StructField(\"category\", StringType()), StructField(\"rank\", IntegerType())]))\n",
    "df_flattened = meta_df.withColumn(\"salesRank\", flatten(\"salesRank\"))\n",
    "df_flattened = df_flattened.drop(\"_corrupt_record\")\n",
    "df_flattened = df_flattened.select(list(set(df_flattened.schema.names) - set([\"salesRank\", \"related\"]))+ [\"salesRank.*\", \"related.*\"])\n",
    "df_flattened.write.parquet(\"metadata.parquet\")"
   ]
  },
  {
   "cell_type": "code",
   "execution_count": null,
   "metadata": {
    "collapsed": true,
    "scrolled": false
   },
   "outputs": [],
   "source": [
    "meta_df"
   ]
  },
  {
   "cell_type": "code",
   "execution_count": null,
   "metadata": {
    "collapsed": true
   },
   "outputs": [],
   "source": [
    "# No need to run it, already checked...\n",
    "\n",
    "# We check that there is no metadata with two ranks\n",
    "def not_one_or_none(salesRank):\n",
    "    count = 0\n",
    "    # If no rank, then false\n",
    "    if salesRank == None:\n",
    "        return 0\n",
    "    for category, rank in salesRank.asDict().items():\n",
    "        if rank != None:\n",
    "            count += 1\n",
    "    return int(count != 1 and count != 0)\n",
    "not_one_or_none = udf(not_one_or_none, IntegerType())\n",
    "not_one_or_none = meta_df.withColumn(\"exactly_one\", not_one_or_none(\"salesRank\")).agg(F.sum(\"exactly_one\").alias(\"sum\")).head()[0]\n",
    "print(\"There is %.d article with not exactly one category for a rank\"%not_one_or_none)"
   ]
  },
  {
   "cell_type": "markdown",
   "metadata": {},
   "source": [
    "We filter the salesRank to have only ranked products. There is two possiblity, either the salesRank is completely none, either the categories are all None. we take care of both cases."
   ]
  },
  {
   "cell_type": "code",
   "execution_count": 6,
   "metadata": {},
   "outputs": [
    {
     "data": {
      "text/plain": [
       "6151598"
      ]
     },
     "execution_count": 6,
     "metadata": {},
     "output_type": "execute_result"
    }
   ],
   "source": [
    "filtered_meta_df = meta_df.dropna(subset=['rank', \"category\"])\n",
    "filtered_meta_df.count()"
   ]
  },
  {
   "cell_type": "code",
   "execution_count": 11,
   "metadata": {
    "collapsed": true
   },
   "outputs": [],
   "source": [
    "good_reviews = df_review.filter(df_review['overall'] > 3)\n",
    "bad_reviews = df_review.filter(df_review['overall'] <= 3)"
   ]
  },
  {
   "cell_type": "code",
   "execution_count": 12,
   "metadata": {},
   "outputs": [
    {
     "ename": "KeyboardInterrupt",
     "evalue": "",
     "output_type": "error",
     "traceback": [
      "\u001b[0;31m---------------------------------------------------------------------------\u001b[0m",
      "\u001b[0;31mKeyboardInterrupt\u001b[0m                         Traceback (most recent call last)",
      "\u001b[0;32m<ipython-input-12-5548925f8023>\u001b[0m in \u001b[0;36m<module>\u001b[0;34m()\u001b[0m\n\u001b[1;32m     22\u001b[0m \u001b[0;31m# \"em\" = expectation-maximization\u001b[0m\u001b[0;34m\u001b[0m\u001b[0;34m\u001b[0m\u001b[0m\n\u001b[1;32m     23\u001b[0m \u001b[0mlda\u001b[0m \u001b[0;34m=\u001b[0m \u001b[0mLDA\u001b[0m\u001b[0;34m(\u001b[0m\u001b[0mk\u001b[0m\u001b[0;34m=\u001b[0m\u001b[0;36m25\u001b[0m\u001b[0;34m,\u001b[0m \u001b[0mseed\u001b[0m\u001b[0;34m=\u001b[0m\u001b[0;36m123\u001b[0m\u001b[0;34m,\u001b[0m \u001b[0moptimizer\u001b[0m\u001b[0;34m=\u001b[0m\u001b[0;34m\"em\"\u001b[0m\u001b[0;34m,\u001b[0m \u001b[0mfeaturesCol\u001b[0m\u001b[0;34m=\u001b[0m\u001b[0;34m\"features\"\u001b[0m\u001b[0;34m)\u001b[0m\u001b[0;34m\u001b[0m\u001b[0m\n\u001b[0;32m---> 24\u001b[0;31m \u001b[0mldamodel\u001b[0m \u001b[0;34m=\u001b[0m \u001b[0mlda\u001b[0m\u001b[0;34m.\u001b[0m\u001b[0mfit\u001b[0m\u001b[0;34m(\u001b[0m\u001b[0mrescaledData\u001b[0m\u001b[0;34m)\u001b[0m\u001b[0;34m\u001b[0m\u001b[0m\n\u001b[0m\u001b[1;32m     25\u001b[0m \u001b[0;34m\u001b[0m\u001b[0m\n\u001b[1;32m     26\u001b[0m \u001b[0mmodel\u001b[0m\u001b[0;34m.\u001b[0m\u001b[0misDistributed\u001b[0m\u001b[0;34m(\u001b[0m\u001b[0;34m)\u001b[0m\u001b[0;34m\u001b[0m\u001b[0m\n",
      "\u001b[0;32m/opt/apache-spark/python/pyspark/ml/base.py\u001b[0m in \u001b[0;36mfit\u001b[0;34m(self, dataset, params)\u001b[0m\n\u001b[1;32m     62\u001b[0m                 \u001b[0;32mreturn\u001b[0m \u001b[0mself\u001b[0m\u001b[0;34m.\u001b[0m\u001b[0mcopy\u001b[0m\u001b[0;34m(\u001b[0m\u001b[0mparams\u001b[0m\u001b[0;34m)\u001b[0m\u001b[0;34m.\u001b[0m\u001b[0m_fit\u001b[0m\u001b[0;34m(\u001b[0m\u001b[0mdataset\u001b[0m\u001b[0;34m)\u001b[0m\u001b[0;34m\u001b[0m\u001b[0m\n\u001b[1;32m     63\u001b[0m             \u001b[0;32melse\u001b[0m\u001b[0;34m:\u001b[0m\u001b[0;34m\u001b[0m\u001b[0m\n\u001b[0;32m---> 64\u001b[0;31m                 \u001b[0;32mreturn\u001b[0m \u001b[0mself\u001b[0m\u001b[0;34m.\u001b[0m\u001b[0m_fit\u001b[0m\u001b[0;34m(\u001b[0m\u001b[0mdataset\u001b[0m\u001b[0;34m)\u001b[0m\u001b[0;34m\u001b[0m\u001b[0m\n\u001b[0m\u001b[1;32m     65\u001b[0m         \u001b[0;32melse\u001b[0m\u001b[0;34m:\u001b[0m\u001b[0;34m\u001b[0m\u001b[0m\n\u001b[1;32m     66\u001b[0m             raise ValueError(\"Params must be either a param map or a list/tuple of param maps, \"\n",
      "\u001b[0;32m/opt/apache-spark/python/pyspark/ml/wrapper.py\u001b[0m in \u001b[0;36m_fit\u001b[0;34m(self, dataset)\u001b[0m\n\u001b[1;32m    263\u001b[0m \u001b[0;34m\u001b[0m\u001b[0m\n\u001b[1;32m    264\u001b[0m     \u001b[0;32mdef\u001b[0m \u001b[0m_fit\u001b[0m\u001b[0;34m(\u001b[0m\u001b[0mself\u001b[0m\u001b[0;34m,\u001b[0m \u001b[0mdataset\u001b[0m\u001b[0;34m)\u001b[0m\u001b[0;34m:\u001b[0m\u001b[0;34m\u001b[0m\u001b[0m\n\u001b[0;32m--> 265\u001b[0;31m         \u001b[0mjava_model\u001b[0m \u001b[0;34m=\u001b[0m \u001b[0mself\u001b[0m\u001b[0;34m.\u001b[0m\u001b[0m_fit_java\u001b[0m\u001b[0;34m(\u001b[0m\u001b[0mdataset\u001b[0m\u001b[0;34m)\u001b[0m\u001b[0;34m\u001b[0m\u001b[0m\n\u001b[0m\u001b[1;32m    266\u001b[0m         \u001b[0;32mreturn\u001b[0m \u001b[0mself\u001b[0m\u001b[0;34m.\u001b[0m\u001b[0m_create_model\u001b[0m\u001b[0;34m(\u001b[0m\u001b[0mjava_model\u001b[0m\u001b[0;34m)\u001b[0m\u001b[0;34m\u001b[0m\u001b[0m\n\u001b[1;32m    267\u001b[0m \u001b[0;34m\u001b[0m\u001b[0m\n",
      "\u001b[0;32m/opt/apache-spark/python/pyspark/ml/wrapper.py\u001b[0m in \u001b[0;36m_fit_java\u001b[0;34m(self, dataset)\u001b[0m\n\u001b[1;32m    260\u001b[0m         \"\"\"\n\u001b[1;32m    261\u001b[0m         \u001b[0mself\u001b[0m\u001b[0;34m.\u001b[0m\u001b[0m_transfer_params_to_java\u001b[0m\u001b[0;34m(\u001b[0m\u001b[0;34m)\u001b[0m\u001b[0;34m\u001b[0m\u001b[0m\n\u001b[0;32m--> 262\u001b[0;31m         \u001b[0;32mreturn\u001b[0m \u001b[0mself\u001b[0m\u001b[0;34m.\u001b[0m\u001b[0m_java_obj\u001b[0m\u001b[0;34m.\u001b[0m\u001b[0mfit\u001b[0m\u001b[0;34m(\u001b[0m\u001b[0mdataset\u001b[0m\u001b[0;34m.\u001b[0m\u001b[0m_jdf\u001b[0m\u001b[0;34m)\u001b[0m\u001b[0;34m\u001b[0m\u001b[0m\n\u001b[0m\u001b[1;32m    263\u001b[0m \u001b[0;34m\u001b[0m\u001b[0m\n\u001b[1;32m    264\u001b[0m     \u001b[0;32mdef\u001b[0m \u001b[0m_fit\u001b[0m\u001b[0;34m(\u001b[0m\u001b[0mself\u001b[0m\u001b[0;34m,\u001b[0m \u001b[0mdataset\u001b[0m\u001b[0;34m)\u001b[0m\u001b[0;34m:\u001b[0m\u001b[0;34m\u001b[0m\u001b[0m\n",
      "\u001b[0;32m/opt/apache-spark/python/lib/py4j-0.10.4-src.zip/py4j/java_gateway.py\u001b[0m in \u001b[0;36m__call__\u001b[0;34m(self, *args)\u001b[0m\n\u001b[1;32m   1129\u001b[0m             \u001b[0mproto\u001b[0m\u001b[0;34m.\u001b[0m\u001b[0mEND_COMMAND_PART\u001b[0m\u001b[0;34m\u001b[0m\u001b[0m\n\u001b[1;32m   1130\u001b[0m \u001b[0;34m\u001b[0m\u001b[0m\n\u001b[0;32m-> 1131\u001b[0;31m         \u001b[0manswer\u001b[0m \u001b[0;34m=\u001b[0m \u001b[0mself\u001b[0m\u001b[0;34m.\u001b[0m\u001b[0mgateway_client\u001b[0m\u001b[0;34m.\u001b[0m\u001b[0msend_command\u001b[0m\u001b[0;34m(\u001b[0m\u001b[0mcommand\u001b[0m\u001b[0;34m)\u001b[0m\u001b[0;34m\u001b[0m\u001b[0m\n\u001b[0m\u001b[1;32m   1132\u001b[0m         return_value = get_return_value(\n\u001b[1;32m   1133\u001b[0m             answer, self.gateway_client, self.target_id, self.name)\n",
      "\u001b[0;32m/opt/apache-spark/python/lib/py4j-0.10.4-src.zip/py4j/java_gateway.py\u001b[0m in \u001b[0;36msend_command\u001b[0;34m(self, command, retry, binary)\u001b[0m\n\u001b[1;32m    881\u001b[0m         \u001b[0mconnection\u001b[0m \u001b[0;34m=\u001b[0m \u001b[0mself\u001b[0m\u001b[0;34m.\u001b[0m\u001b[0m_get_connection\u001b[0m\u001b[0;34m(\u001b[0m\u001b[0;34m)\u001b[0m\u001b[0;34m\u001b[0m\u001b[0m\n\u001b[1;32m    882\u001b[0m         \u001b[0;32mtry\u001b[0m\u001b[0;34m:\u001b[0m\u001b[0;34m\u001b[0m\u001b[0m\n\u001b[0;32m--> 883\u001b[0;31m             \u001b[0mresponse\u001b[0m \u001b[0;34m=\u001b[0m \u001b[0mconnection\u001b[0m\u001b[0;34m.\u001b[0m\u001b[0msend_command\u001b[0m\u001b[0;34m(\u001b[0m\u001b[0mcommand\u001b[0m\u001b[0;34m)\u001b[0m\u001b[0;34m\u001b[0m\u001b[0m\n\u001b[0m\u001b[1;32m    884\u001b[0m             \u001b[0;32mif\u001b[0m \u001b[0mbinary\u001b[0m\u001b[0;34m:\u001b[0m\u001b[0;34m\u001b[0m\u001b[0m\n\u001b[1;32m    885\u001b[0m                 \u001b[0;32mreturn\u001b[0m \u001b[0mresponse\u001b[0m\u001b[0;34m,\u001b[0m \u001b[0mself\u001b[0m\u001b[0;34m.\u001b[0m\u001b[0m_create_connection_guard\u001b[0m\u001b[0;34m(\u001b[0m\u001b[0mconnection\u001b[0m\u001b[0;34m)\u001b[0m\u001b[0;34m\u001b[0m\u001b[0m\n",
      "\u001b[0;32m/opt/apache-spark/python/lib/py4j-0.10.4-src.zip/py4j/java_gateway.py\u001b[0m in \u001b[0;36msend_command\u001b[0;34m(self, command)\u001b[0m\n\u001b[1;32m   1026\u001b[0m \u001b[0;34m\u001b[0m\u001b[0m\n\u001b[1;32m   1027\u001b[0m         \u001b[0;32mtry\u001b[0m\u001b[0;34m:\u001b[0m\u001b[0;34m\u001b[0m\u001b[0m\n\u001b[0;32m-> 1028\u001b[0;31m             \u001b[0manswer\u001b[0m \u001b[0;34m=\u001b[0m \u001b[0msmart_decode\u001b[0m\u001b[0;34m(\u001b[0m\u001b[0mself\u001b[0m\u001b[0;34m.\u001b[0m\u001b[0mstream\u001b[0m\u001b[0;34m.\u001b[0m\u001b[0mreadline\u001b[0m\u001b[0;34m(\u001b[0m\u001b[0;34m)\u001b[0m\u001b[0;34m[\u001b[0m\u001b[0;34m:\u001b[0m\u001b[0;34m-\u001b[0m\u001b[0;36m1\u001b[0m\u001b[0;34m]\u001b[0m\u001b[0;34m)\u001b[0m\u001b[0;34m\u001b[0m\u001b[0m\n\u001b[0m\u001b[1;32m   1029\u001b[0m             \u001b[0mlogger\u001b[0m\u001b[0;34m.\u001b[0m\u001b[0mdebug\u001b[0m\u001b[0;34m(\u001b[0m\u001b[0;34m\"Answer received: {0}\"\u001b[0m\u001b[0;34m.\u001b[0m\u001b[0mformat\u001b[0m\u001b[0;34m(\u001b[0m\u001b[0manswer\u001b[0m\u001b[0;34m)\u001b[0m\u001b[0;34m)\u001b[0m\u001b[0;34m\u001b[0m\u001b[0m\n\u001b[1;32m   1030\u001b[0m             \u001b[0;32mif\u001b[0m \u001b[0manswer\u001b[0m\u001b[0;34m.\u001b[0m\u001b[0mstartswith\u001b[0m\u001b[0;34m(\u001b[0m\u001b[0mproto\u001b[0m\u001b[0;34m.\u001b[0m\u001b[0mRETURN_MESSAGE\u001b[0m\u001b[0;34m)\u001b[0m\u001b[0;34m:\u001b[0m\u001b[0;34m\u001b[0m\u001b[0m\n",
      "\u001b[0;32m~/.conda/envs/idp/lib/python3.6/socket.py\u001b[0m in \u001b[0;36mreadinto\u001b[0;34m(self, b)\u001b[0m\n\u001b[1;32m    584\u001b[0m         \u001b[0;32mwhile\u001b[0m \u001b[0;32mTrue\u001b[0m\u001b[0;34m:\u001b[0m\u001b[0;34m\u001b[0m\u001b[0m\n\u001b[1;32m    585\u001b[0m             \u001b[0;32mtry\u001b[0m\u001b[0;34m:\u001b[0m\u001b[0;34m\u001b[0m\u001b[0m\n\u001b[0;32m--> 586\u001b[0;31m                 \u001b[0;32mreturn\u001b[0m \u001b[0mself\u001b[0m\u001b[0;34m.\u001b[0m\u001b[0m_sock\u001b[0m\u001b[0;34m.\u001b[0m\u001b[0mrecv_into\u001b[0m\u001b[0;34m(\u001b[0m\u001b[0mb\u001b[0m\u001b[0;34m)\u001b[0m\u001b[0;34m\u001b[0m\u001b[0m\n\u001b[0m\u001b[1;32m    587\u001b[0m             \u001b[0;32mexcept\u001b[0m \u001b[0mtimeout\u001b[0m\u001b[0;34m:\u001b[0m\u001b[0;34m\u001b[0m\u001b[0m\n\u001b[1;32m    588\u001b[0m                 \u001b[0mself\u001b[0m\u001b[0;34m.\u001b[0m\u001b[0m_timeout_occurred\u001b[0m \u001b[0;34m=\u001b[0m \u001b[0;32mTrue\u001b[0m\u001b[0;34m\u001b[0m\u001b[0m\n",
      "\u001b[0;31mKeyboardInterrupt\u001b[0m: "
     ]
    }
   ],
   "source": [
    "from pyspark.ml.feature import HashingTF, IDF, Tokenizer, StopWordsRemover, CountVectorizer, IDF\n",
    "from pyspark.ml.clustering import LDA\n",
    "\n",
    "tokenizer = Tokenizer(inputCol=\"reviewText\", outputCol=\"raw\")\n",
    "tokenized = tokenizer.transform(bad_reviews)\n",
    "\n",
    "remover = StopWordsRemover(inputCol=\"raw\", outputCol=\"words\")\n",
    "clean_text = remover.transform(tokenized)\n",
    "\n",
    "cv = CountVectorizer(inputCol=\"words\", outputCol=\"rawFeatures\", vocabSize = 1000)\n",
    "cvmodel = cv.fit(clean_text)\n",
    "featurizedData = cvmodel.transform(clean_text)\n",
    " \n",
    "vocab = cvmodel.vocabulary\n",
    "vocab_broadcast = sc.broadcast(vocab)\n",
    " \n",
    "idf = IDF(inputCol=\"rawFeatures\", outputCol=\"features\")\n",
    "idfModel = idf.fit(featurizedData)\n",
    "rescaledData = idfModel.transform(featurizedData) # TFIDF\n",
    "\n",
    "# Generate 25 Data-Driven Topics:\n",
    "# \"em\" = expectation-maximization \n",
    "lda = LDA(k=25, seed=123, optimizer=\"em\", featuresCol=\"features\")\n",
    "ldamodel = lda.fit(rescaledData)\n",
    " \n",
    "model.isDistributed()\n",
    "model.vocabSize()\n",
    " \n",
    "ldatopics = ldamodel.describeTopics()\n",
    "# Show the top 25 Topics\n",
    "ldatopics.show(25)"
   ]
  },
  {
   "cell_type": "markdown",
   "metadata": {},
   "source": [
    "# Time analysis"
   ]
  },
  {
   "cell_type": "code",
   "execution_count": 8,
   "metadata": {},
   "outputs": [],
   "source": [
    "df_time = df_review.withColumn(\"year\", F.from_unixtime(df_review.unixReviewTime, \"yyyy\"))\n",
    "df_time = df_time.withColumn(\"month\", F.from_unixtime(df_review.unixReviewTime, \"MM\"))"
   ]
  },
  {
   "cell_type": "code",
   "execution_count": 21,
   "metadata": {},
   "outputs": [],
   "source": [
    "avg_year = df_time.groupBy(\"year\").agg(F.mean(\"overall\").alias(\"avg_rating\"), F.stddev(\"overall\").alias(\"std_rating\")).toPandas()\n",
    "avg_year.sort_values(by='year').set_index(\"year\").plot()"
   ]
  },
  {
   "cell_type": "code",
   "execution_count": 27,
   "metadata": {},
   "outputs": [
    {
     "data": {
      "image/png": "[encoded data removed]",
      "text/plain": [
       "<matplotlib.figure.Figure at 0x7fdf0dc38898>"
      ]
     },
     "metadata": {},
     "output_type": "display_data"
    }
   ],
   "source": [
    "avg_year = df_time.groupBy(\"month\").agg(F.mean(\"overall\").alias(\"avg_rating\"), F.stddev(\"overall\").alias(\"std_rating\")).toPandas()\n",
    "avg_year.sort_values(by='month').set_index(\"month\").drop(\"std_rating\", axis=1).plot();"
   ]
  },
  {
   "cell_type": "code",
   "execution_count": 49,
   "metadata": {},
   "outputs": [],
   "source": [
    "from datetime import datetime\n",
    "weekDay = udf(lambda x: datetime.fromtimestamp(x).strftime(\"%A\"), StringType())\n",
    "avg_weekday = df_review.withColumn(\"weekDay\", day(\"unixReviewTime\")).groupBy(\"weekDay\").agg(F.mean(\"overall\").alias(\"avg_rating\"), F.stddev(\"overall\").alias(\"std_rating\")).toPandas()"
   ]
  },
  {
   "cell_type": "code",
   "execution_count": 50,
   "metadata": {},
   "outputs": [
    {
     "data": {
      "text/plain": [
       "<matplotlib.figure.Figure at 0x7fdf0db09518>"
      ]
     },
     "metadata": {},
     "output_type": "display_data"
    },
    {
     "data": {
      "image/png": "[encoded data removed]",
      "text/plain": [
       "<matplotlib.figure.Figure at 0x7fdf0da36518>"
      ]
     },
     "metadata": {},
     "output_type": "display_data"
    },
    {
     "data": {
      "image/png": "[encoded data removed]",
      "text/plain": [
       "<matplotlib.figure.Figure at 0x7fdf0d9a89e8>"
      ]
     },
     "metadata": {},
     "output_type": "display_data"
    }
   ],
   "source": [
    "avg_weekday[\"weekDay\"] = pd.Categorical(avg_weekday['weekDay'], categories=['Monday','Tuesday','Wednesday','Thursday','Friday','Saturday', 'Sunday'], ordered=True)\n",
    "avg_weekday = avg_weekday.set_index(\"weekDay\").sort_index()\n",
    "plt.figure(0)\n",
    "avg_weekday.drop(\"std_rating\", axis=1).plot();\n",
    "plt.figure(1)\n",
    "avg_weekday.drop(\"avg_rating\", axis=1).plot();"
   ]
  },
  {
   "cell_type": "markdown",
   "metadata": {
    "collapsed": true
   },
   "source": [
    "## Question 1: review quantity vs quality "
   ]
  },
  {
   "cell_type": "markdown",
   "metadata": {},
   "source": [
    "Here we explore some metrics related to reviews: a quantitative one - the number of words per review - and a qualitative one - the helpfulness of a review. "
   ]
  },
  {
   "cell_type": "markdown",
   "metadata": {},
   "source": [
    "### Word count\n",
    "Here we count the number of word in a certain review."
   ]
  },
  {
   "cell_type": "code",
   "execution_count": 7,
   "metadata": {
    "collapsed": true
   },
   "outputs": [],
   "source": [
    "wordCount = F.udf(lambda text: len(text.split(\" \")), T.IntegerType())\n",
    "\n",
    "df = df_review.withColumn('wordcount', wordCount(df_review[\"reviewText\"]))"
   ]
  },
  {
   "cell_type": "code",
   "execution_count": 13,
   "metadata": {},
   "outputs": [
    {
     "data": {
      "text/plain": [
       "[Row(reviewerID='A1PHR2L45UYEP8', mean_wc=105.34782608695652, std_wc=65.96875266747443, mean_rating=4.173913043478261)]"
      ]
     },
     "execution_count": 13,
     "metadata": {},
     "output_type": "execute_result"
    }
   ],
   "source": [
    "df_reviewer = df.groupBy(\"reviewerID\").agg(F.mean(\"wordcount\").alias(\"mean_wc\"), F.stddev(\"wordcount\").alias(\"std_wc\"), F.mean(\"overall\").alias(\"mean_rating\"))\n",
    "df_reviewer.head(1)"
   ]
  },
  {
   "cell_type": "code",
   "execution_count": 27,
   "metadata": {
    "collapsed": true
   },
   "outputs": [],
   "source": [
    "pandas_df = df_reviewer.toPandas()\n",
    "pandas_df.set_index(\"reviewerID\", inplace=True)"
   ]
  },
  {
   "cell_type": "code",
   "execution_count": 21,
   "metadata": {
    "collapsed": true
   },
   "outputs": [],
   "source": [
    "data = df_reviewer.rdd.map(lambda x: list(x.asDict().values()))\\\n",
    "    .collect()\n",
    "data = np.array(data)"
   ]
  },
  {
   "cell_type": "code",
   "execution_count": 31,
   "metadata": {},
   "outputs": [
    {
     "data": {
      "text/html": [
       "<div>\n",
       "<style scoped>\n",
       "    .dataframe tbody tr th:only-of-type {\n",
       "        vertical-align: middle;\n",
       "    }\n",
       "\n",
       "    .dataframe tbody tr th {\n",
       "        vertical-align: top;\n",
       "    }\n",
       "\n",
       "    .dataframe thead th {\n",
       "        text-align: right;\n",
       "    }\n",
       "</style>\n",
       "<table border=\"1\" class=\"dataframe\">\n",
       "  <thead>\n",
       "    <tr style=\"text-align: right;\">\n",
       "      <th></th>\n",
       "      <th>mean_wc</th>\n",
       "      <th>std_wc</th>\n",
       "      <th>mean_rating</th>\n",
       "    </tr>\n",
       "  </thead>\n",
       "  <tbody>\n",
       "    <tr>\n",
       "      <th>mean_wc</th>\n",
       "      <td>1.000000</td>\n",
       "      <td>0.846044</td>\n",
       "      <td>-0.129266</td>\n",
       "    </tr>\n",
       "    <tr>\n",
       "      <th>std_wc</th>\n",
       "      <td>0.846044</td>\n",
       "      <td>1.000000</td>\n",
       "      <td>-0.131520</td>\n",
       "    </tr>\n",
       "    <tr>\n",
       "      <th>mean_rating</th>\n",
       "      <td>-0.129266</td>\n",
       "      <td>-0.131520</td>\n",
       "      <td>1.000000</td>\n",
       "    </tr>\n",
       "  </tbody>\n",
       "</table>\n",
       "</div>"
      ],
      "text/plain": [
       "              mean_wc    std_wc  mean_rating\n",
       "mean_wc      1.000000  0.846044    -0.129266\n",
       "std_wc       0.846044  1.000000    -0.131520\n",
       "mean_rating -0.129266 -0.131520     1.000000"
      ]
     },
     "execution_count": 31,
     "metadata": {},
     "output_type": "execute_result"
    }
   ],
   "source": [
    "pandas_df.corr()"
   ]
  },
  {
   "cell_type": "code",
   "execution_count": 20,
   "metadata": {},
   "outputs": [
    {
     "data": {
      "text/plain": [
       "['0385500521',\n",
       " [1, 2],\n",
       " 3.0,\n",
       " \"The author's fundamental hypothesis, that Western armies are more effective warriors than any other, because the Western armies are free (or, perhaps I should say, are not living under authoritarian governments), has remained with me. I have considered the hypothesis during several subsequent reads. For instance, I am considering it in light of what I am reading about WWI. Though initially hesitant to do so (particularly the French), the French and English armies eventually adapted to their conditions, as they should be want to do, according to Hanson's hypothesis. In this case I am drawn to the hypothesis.However, I am, at the same time, dissuaded from believing the theory by the same treatise about WWI. The Russians, though not exactly living in a free society under the Czar, had to overcome tremendous logistical obstacles to present a credible threat to the Germans. I can't help but doubt the ingenuity shown by individuals in the Russian Army in getting before the Germans, particularly during the first few weeks of August 1914, when the French desperately needed the Russians to distract the Germans.Hanson has made an interesting case here. Though I am not thoroughly convinced by his theory, I can say that the work is thoughtfully presented.\",\n",
       " '01 10, 2003',\n",
       " 'A3QR3RP2NX9C72',\n",
       " 'Bryce Wisan \"brycedub\"',\n",
       " 'Not entirely convincing',\n",
       " 1042156800]"
      ]
     },
     "execution_count": 20,
     "metadata": {},
     "output_type": "execute_result"
    }
   ],
   "source": [
    "row = df_review.head()\n",
    "list(row.asDict().values())"
   ]
  },
  {
   "cell_type": "code",
   "execution_count": 7,
   "metadata": {
    "collapsed": true
   },
   "outputs": [],
   "source": [
    "df = df.select([\"overall\", \"wordcount\"])\n",
    "data = df.rdd.map(lambda x: (x[0], x[1]))\\\n",
    "    .collect()\n",
    "data = np.array(data)"
   ]
  },
  {
   "cell_type": "code",
   "execution_count": 10,
   "metadata": {},
   "outputs": [
    {
     "data": {
      "text/plain": [
       "(array([[-0.00039671]]), array([[ 0.]]))"
      ]
     },
     "execution_count": 10,
     "metadata": {},
     "output_type": "execute_result"
    }
   ],
   "source": [
    "import scipy.stats as stats\n",
    "import mord\n",
    "ordinal_ridge = mord.OrdinalRidge()\n",
    "X = data[:, 1].reshape(-1, 1)\n",
    "y = data[:, 0].reshape(-1, 1)\n",
    "ordinal_ridge.fit(X, y)\n",
    "sse = np.sum((ordinal_ridge.predict(X) - y) ** 2, axis=0) / float(X.shape[0] - X.shape[1])\n",
    "se = np.array([\n",
    "    np.sqrt(np.diagonal(sse[i] * np.linalg.inv(np.dot(X.T, X))))\n",
    "    for i in range(sse.shape[0])\n",
    "    ])\n",
    "\n",
    "t = ordinal_ridge.coef_ / se\n",
    "p = 2 * (1 - stats.t.cdf(np.abs(t), y.shape[0] - X.shape[1]))\n",
    "ordinal_ridge.coef_, p"
   ]
  },
  {
   "cell_type": "code",
   "execution_count": 13,
   "metadata": {},
   "outputs": [
    {
     "data": {
      "text/plain": [
       "<matplotlib.axes._subplots.AxesSubplot at 0x7f86c0e6c940>"
      ]
     },
     "execution_count": 13,
     "metadata": {},
     "output_type": "execute_result"
    },
    {
     "data": {
      "image/png": "[encoded data removed]",
      "text/plain": [
       "<matplotlib.figure.Figure at 0x7f86c09e4748>"
      ]
     },
     "metadata": {},
     "output_type": "display_data"
    }
   ],
   "source": [
    "sns.distplot(data[:, 0], kde=False)"
   ]
  },
  {
   "cell_type": "code",
   "execution_count": 21,
   "metadata": {
    "collapsed": true
   },
   "outputs": [],
   "source": [
    "mask = data[:, 1] > np.percentile(data[:, 1], 99)"
   ]
  },
  {
   "cell_type": "code",
   "execution_count": 22,
   "metadata": {},
   "outputs": [
    {
     "data": {
      "text/plain": [
       "<matplotlib.axes._subplots.AxesSubplot at 0x7f87c07a91d0>"
      ]
     },
     "execution_count": 22,
     "metadata": {},
     "output_type": "execute_result"
    },
    {
     "data": {
      "image/png": "[encoded data removed]",
      "text/plain": [
       "<matplotlib.figure.Figure at 0x7f879aad09b0>"
      ]
     },
     "metadata": {},
     "output_type": "display_data"
    }
   ],
   "source": [
    "sns.distplot(data[mask][:, 0], kde=False)"
   ]
  },
  {
   "cell_type": "code",
   "execution_count": 14,
   "metadata": {},
   "outputs": [
    {
     "data": {
      "text/plain": [
       "<matplotlib.axes._subplots.AxesSubplot at 0x7f86f21e6cf8>"
      ]
     },
     "execution_count": 14,
     "metadata": {},
     "output_type": "execute_result"
    },
    {
     "data": {
      "image/png": "[encoded data removed]",
      "text/plain": [
       "<matplotlib.figure.Figure at 0x7f86d46d1048>"
      ]
     },
     "metadata": {},
     "output_type": "display_data"
    }
   ],
   "source": [
    "sns.distplot(data[:, 1], kde=False)"
   ]
  },
  {
   "cell_type": "code",
   "execution_count": 17,
   "metadata": {},
   "outputs": [
    {
     "name": "stderr",
     "output_type": "stream",
     "text": [
      "/home/raph/.conda/envs/idp/lib/python3.6/site-packages/seaborn/categorical.py:598: FutureWarning: remove_na is deprecated and is a private function. Do not use.\n",
      "  kde_data = remove_na(group_data)\n",
      "/home/raph/.conda/envs/idp/lib/python3.6/site-packages/seaborn/categorical.py:826: FutureWarning: remove_na is deprecated and is a private function. Do not use.\n",
      "  violin_data = remove_na(group_data)\n"
     ]
    },
    {
     "data": {
      "text/plain": [
       "<matplotlib.axes._subplots.AxesSubplot at 0x7f879aaac358>"
      ]
     },
     "execution_count": 17,
     "metadata": {},
     "output_type": "execute_result"
    },
    {
     "data": {
      "image/png": "[encoded data removed]",
      "text/plain": [
       "<matplotlib.figure.Figure at 0x7f879aad01d0>"
      ]
     },
     "metadata": {},
     "output_type": "display_data"
    }
   ],
   "source": [
    "sns.violinplot(x=data[:,0], y=data[:,1])"
   ]
  },
  {
   "cell_type": "code",
   "execution_count": 20,
   "metadata": {},
   "outputs": [
    {
     "data": {
      "text/plain": [
       "WilcoxonResult(statistic=648618786.0, pvalue=0.0)"
      ]
     },
     "execution_count": 20,
     "metadata": {},
     "output_type": "execute_result"
    }
   ],
   "source": [
    "import scipy.stats as stats\n",
    "stats.wilcoxon(data[:,0], data[:, 1])"
   ]
  },
  {
   "cell_type": "code",
   "execution_count": 19,
   "metadata": {},
   "outputs": [
    {
     "data": {
      "text/plain": [
       "array([ 1.,  2.,  3.,  4.,  5.])"
      ]
     },
     "execution_count": 19,
     "metadata": {},
     "output_type": "execute_result"
    }
   ],
   "source": [
    "np.unique(data[:,0])"
   ]
  },
  {
   "cell_type": "code",
   "execution_count": 25,
   "metadata": {
    "collapsed": true
   },
   "outputs": [],
   "source": [
    "del data"
   ]
  },
  {
   "cell_type": "code",
   "execution_count": 14,
   "metadata": {},
   "outputs": [
    {
     "name": "stdout",
     "output_type": "stream",
     "text": [
      "+-------+------------------+\n",
      "|summary|         wordcount|\n",
      "+-------+------------------+\n",
      "|  count|          18186733|\n",
      "|   mean| 134.3130121831117|\n",
      "| stddev|171.91125779517296|\n",
      "|    min|                 1|\n",
      "|    max|              6465|\n",
      "+-------+------------------+\n",
      "\n"
     ]
    }
   ],
   "source": [
    "df.select(\"wordcount\").describe().show()"
   ]
  },
  {
   "cell_type": "code",
   "execution_count": 12,
   "metadata": {},
   "outputs": [
    {
     "name": "stdout",
     "output_type": "stream",
     "text": [
      "+-------+------------------+\n",
      "|summary|         wordcount|\n",
      "+-------+------------------+\n",
      "|  count|          18186733|\n",
      "|   mean| 134.3130121831117|\n",
      "| stddev|171.91125779517296|\n",
      "|    min|                 1|\n",
      "|    max|              6465|\n",
      "+-------+------------------+\n",
      "\n",
      "The pearson correlation is -0.062 and the spearman is -0.129\n"
     ]
    }
   ],
   "source": [
    "# wordCount = F.udf(lambda text: len(text.split(\" \")), T.IntegerType())\n",
    "\n",
    "# df = df_review.withColumn('wordcount', wordCount(df_review[\"reviewText\"]))\n",
    "\n",
    "df.select(\"wordcount\").describe().show()\n",
    "overall = df.select(\"overall\").rdd.map(lambda x: x[0])\n",
    "wordcount = df.select(\"wordcount\").rdd.map(lambda x: x[0])\n",
    "pearson_corr = correlation(df, \"overall\", \"wordcount\", method='pearson')\n",
    "spearman_corr = correlation(df, \"overall\", \"wordcount\", method='spearman')\n",
    "print(\"The pearson correlation is %.3f and the spearman is %.3f\"%(pearson_corr, spearman_corr))"
   ]
  },
  {
   "cell_type": "code",
   "execution_count": 13,
   "metadata": {},
   "outputs": [
    {
     "data": {
      "image/png": "[encoded data removed]",
      "text/plain": [
       "<matplotlib.figure.Figure at 0x7f9870b1d518>"
      ]
     },
     "metadata": {},
     "output_type": "display_data"
    }
   ],
   "source": [
    "fig, ax = plt.subplots()\n",
    "fig.set_size_inches(8, 5)\n",
    "hist(ax, df.select(\"wordcount\"), log=True);\n",
    "# pearson_corr = correlation(df.filter(df.wordcount > 1000), \"overall\", \"wordcount\", method='pearson')\n",
    "# spearman_corr = correlation(df.filter(df.wordcount > 1000), \"overall\", \"wordcount\", method='spearman')\n",
    "# print(\"The pearson correlation is %.3f and the spearman is %.3f\"%(pearson_corr, spearman_corr))"
   ]
  },
  {
   "cell_type": "markdown",
   "metadata": {},
   "source": [
    "### Helpfulness\n",
    "We get the \"helpfulness\" of a review by computing the ratio of people that found a review helpful and those that voted. If we have no data, we simply put -1 as a ratio."
   ]
  },
  {
   "cell_type": "code",
   "execution_count": 6,
   "metadata": {
    "collapsed": true
   },
   "outputs": [],
   "source": [
    "df_review = df_review.withColumn(\"helpfulness\", F.when(df_review.helpful.getField(1) > 0, df_review.helpful.getField(0)/df_review.helpful.getField(1)).otherwise(-1))"
   ]
  },
  {
   "cell_type": "code",
   "execution_count": 7,
   "metadata": {},
   "outputs": [
    {
     "name": "stdout",
     "output_type": "stream",
     "text": [
      "+-------+-----------------+\n",
      "|summary|      helpfulness|\n",
      "+-------+-----------------+\n",
      "|  count|          9401162|\n",
      "|   mean|0.722155372460653|\n",
      "| stddev|  0.3505765314957|\n",
      "|    min|              0.0|\n",
      "|    max|              8.0|\n",
      "+-------+-----------------+\n",
      "\n"
     ]
    }
   ],
   "source": [
    "df_review.filter(df_review[\"helpfulness\"] >= 0.0).select(\"helpfulness\").describe().show()"
   ]
  },
  {
   "cell_type": "markdown",
   "metadata": {},
   "source": [
    "There seems to have some discrepancies amongst the ratio, since the max is at 2.0. We will check that it does not occur too often and may drop the data in the future."
   ]
  },
  {
   "cell_type": "code",
   "execution_count": 8,
   "metadata": {},
   "outputs": [
    {
     "data": {
      "text/plain": [
       "25"
      ]
     },
     "execution_count": 8,
     "metadata": {},
     "output_type": "execute_result"
    }
   ],
   "source": [
    "df_review.filter(df_review[\"helpfulness\"] > 1.0).select(\"helpful\").count()"
   ]
  },
  {
   "cell_type": "code",
   "execution_count": 9,
   "metadata": {
    "collapsed": true
   },
   "outputs": [],
   "source": [
    "df_review_filtered = df_review.filter((df_review[\"helpfulness\"] >= 0.0) & (df_review[\"helpfulness\"] <= 1.0))"
   ]
  },
  {
   "cell_type": "code",
   "execution_count": 27,
   "metadata": {
    "collapsed": true
   },
   "outputs": [],
   "source": [
    "data = df_review_filtered\\\n",
    "    .select(\"overall\", \"helpfulness\")\\\n",
    "    .rdd.map(lambda x: (x[0], x[1]))\\\n",
    "    .collect()\n",
    "data = np.array(data)"
   ]
  },
  {
   "cell_type": "code",
   "execution_count": 28,
   "metadata": {},
   "outputs": [
    {
     "data": {
      "text/plain": [
       "RanksumsResult(statistic=3630.0517801282044, pvalue=0.0)"
      ]
     },
     "execution_count": 28,
     "metadata": {},
     "output_type": "execute_result"
    }
   ],
   "source": [
    "stats.ranksums(data[:, 0], data[:, 1])"
   ]
  },
  {
   "cell_type": "code",
   "execution_count": 18,
   "metadata": {},
   "outputs": [
    {
     "data": {
      "text/plain": [
       "(array([[ 0.9771911]]), array([[ 0.]]))"
      ]
     },
     "execution_count": 18,
     "metadata": {},
     "output_type": "execute_result"
    }
   ],
   "source": [
    "import scipy.stats as stats\n",
    "import mord\n",
    "ordinal_ridge = mord.OrdinalRidge()\n",
    "X = data[:, 1].reshape(-1, 1)\n",
    "y = data[:, 0].reshape(-1, 1)\n",
    "ordinal_ridge.fit(X, y)\n",
    "sse = np.sum((ordinal_ridge.predict(X) - y) ** 2, axis=0) / float(X.shape[0] - X.shape[1])\n",
    "se = np.array([\n",
    "    np.sqrt(np.diagonal(sse[i] * np.linalg.inv(np.dot(X.T, X))))\n",
    "    for i in range(sse.shape[0])\n",
    "    ])\n",
    "\n",
    "t = ordinal_ridge.coef_ / se\n",
    "p = 2 * (1 - stats.t.cdf(np.abs(t), y.shape[0] - X.shape[1]))\n",
    "ordinal_ridge.coef_, p"
   ]
  },
  {
   "cell_type": "code",
   "execution_count": 29,
   "metadata": {},
   "outputs": [
    {
     "data": {
      "text/plain": [
       "(0.27540777233401909, 0.0)"
      ]
     },
     "execution_count": 29,
     "metadata": {},
     "output_type": "execute_result"
    }
   ],
   "source": [
    "stats.pearsonr(data[:, 0], data[:, 1])"
   ]
  },
  {
   "cell_type": "markdown",
   "metadata": {},
   "source": [
    "Since only two reviews have problems, we will simply ignore them.\n",
    "\n",
    "We then look at some distribution of helpfulness and rating."
   ]
  },
  {
   "cell_type": "code",
   "execution_count": 10,
   "metadata": {},
   "outputs": [
    {
     "data": {
      "image/png": "[encoded data removed]",
      "text/plain": [
       "<matplotlib.figure.Figure at 0x7faf5efb5a58>"
      ]
     },
     "metadata": {},
     "output_type": "display_data"
    }
   ],
   "source": [
    "fig, ax = plt.subplots()\n",
    "fig.set_size_inches(8, 5)\n",
    "hist(ax, df_review_filtered.select(\"helpfulness\"));"
   ]
  },
  {
   "cell_type": "code",
   "execution_count": 11,
   "metadata": {},
   "outputs": [
    {
     "data": {
      "image/png": "[encoded data removed]",
      "text/plain": [
       "<matplotlib.figure.Figure at 0x7faf5ef8bb70>"
      ]
     },
     "metadata": {},
     "output_type": "display_data"
    }
   ],
   "source": [
    "fig, ax = plt.subplots()\n",
    "fig.set_size_inches(8, 5)\n",
    "hist(ax, df_review_filtered.select(\"overall\"));"
   ]
  },
  {
   "cell_type": "code",
   "execution_count": 12,
   "metadata": {},
   "outputs": [
    {
     "data": {
      "text/plain": [
       "0.2754077723340075"
      ]
     },
     "execution_count": 12,
     "metadata": {},
     "output_type": "execute_result"
    }
   ],
   "source": [
    "correlation(df_review_filtered, \"overall\", \"helpfulness\")"
   ]
  },
  {
   "cell_type": "markdown",
   "metadata": {},
   "source": [
    "With only these three metrics we aren't able to draw any meaningful conclusion."
   ]
  },
  {
   "cell_type": "code",
   "execution_count": 13,
   "metadata": {},
   "outputs": [
    {
     "data": {
      "text/plain": [
       "(0.25795961383403848, 0.0)"
      ]
     },
     "execution_count": 13,
     "metadata": {},
     "output_type": "execute_result"
    }
   ],
   "source": [
    "mean_helpfulness_df = df_review_filtered.groupBy('reviewerID').agg(F.mean(\"helpfulness\").alias(\"helpfulness\"), F.mean(\"overall\").alias(\"overall\"))\n",
    "data = mean_helpfulness_df\\\n",
    "    .select(\"overall\", \"helpfulness\")\\\n",
    "    .rdd.map(lambda x: (x[0], x[1]))\\\n",
    "    .collect()\n",
    "data = np.array(data)\n",
    "stats.pearsonr(data[:,0], data[:, 1])"
   ]
  },
  {
   "cell_type": "code",
   "execution_count": 54,
   "metadata": {},
   "outputs": [
    {
     "data": {
      "text/plain": [
       "(0.31337405033599253, 0.0)"
      ]
     },
     "execution_count": 54,
     "metadata": {},
     "output_type": "execute_result"
    }
   ],
   "source": [
    "mean_helpfulness_df = df_review_filtered.groupBy('asin').agg(F.mean(\"helpfulness\").alias(\"helpfulness\"), F.mean(\"overall\").alias(\"overall\"), F.stddev(\"overall\").alias(\"std_overall\"))\n",
    "data = mean_helpfulness_df\\\n",
    "    .select(\"overall\", \"helpfulness\")\\\n",
    "    .rdd.map(lambda x: (x[0], x[1]))\\\n",
    "    .collect()\n",
    "data = np.array(data)\n",
    "stats.pearsonr(data[:,0], data[:, 1])"
   ]
  },
  {
   "cell_type": "code",
   "execution_count": 55,
   "metadata": {
    "collapsed": true
   },
   "outputs": [],
   "source": [
    "data = meta_df.dropna(subset=[\"rank\"]).select('asin', 'rank').join(mean_helpfulness_df, 'asin').toPandas()\n",
    "# data = np.array(data)"
   ]
  },
  {
   "cell_type": "code",
   "execution_count": 57,
   "metadata": {},
   "outputs": [
    {
     "data": {
      "text/html": [
       "<div>\n",
       "<style scoped>\n",
       "    .dataframe tbody tr th:only-of-type {\n",
       "        vertical-align: middle;\n",
       "    }\n",
       "\n",
       "    .dataframe tbody tr th {\n",
       "        vertical-align: top;\n",
       "    }\n",
       "\n",
       "    .dataframe thead th {\n",
       "        text-align: right;\n",
       "    }\n",
       "</style>\n",
       "<table border=\"1\" class=\"dataframe\">\n",
       "  <thead>\n",
       "    <tr style=\"text-align: right;\">\n",
       "      <th></th>\n",
       "      <th>rank</th>\n",
       "      <th>helpfulness</th>\n",
       "      <th>overall</th>\n",
       "      <th>std_overall</th>\n",
       "    </tr>\n",
       "  </thead>\n",
       "  <tbody>\n",
       "    <tr>\n",
       "      <th>rank</th>\n",
       "      <td>1.000000</td>\n",
       "      <td>0.077486</td>\n",
       "      <td>0.006359</td>\n",
       "      <td>-0.043353</td>\n",
       "    </tr>\n",
       "    <tr>\n",
       "      <th>helpfulness</th>\n",
       "      <td>0.077486</td>\n",
       "      <td>1.000000</td>\n",
       "      <td>0.307072</td>\n",
       "      <td>-0.319635</td>\n",
       "    </tr>\n",
       "    <tr>\n",
       "      <th>overall</th>\n",
       "      <td>0.006359</td>\n",
       "      <td>0.307072</td>\n",
       "      <td>1.000000</td>\n",
       "      <td>-0.694842</td>\n",
       "    </tr>\n",
       "    <tr>\n",
       "      <th>std_overall</th>\n",
       "      <td>-0.043353</td>\n",
       "      <td>-0.319635</td>\n",
       "      <td>-0.694842</td>\n",
       "      <td>1.000000</td>\n",
       "    </tr>\n",
       "  </tbody>\n",
       "</table>\n",
       "</div>"
      ],
      "text/plain": [
       "                 rank  helpfulness   overall  std_overall\n",
       "rank         1.000000     0.077486  0.006359    -0.043353\n",
       "helpfulness  0.077486     1.000000  0.307072    -0.319635\n",
       "overall      0.006359     0.307072  1.000000    -0.694842\n",
       "std_overall -0.043353    -0.319635 -0.694842     1.000000"
      ]
     },
     "execution_count": 57,
     "metadata": {},
     "output_type": "execute_result"
    }
   ],
   "source": [
    "data.corr()"
   ]
  },
  {
   "cell_type": "code",
   "execution_count": 34,
   "metadata": {},
   "outputs": [
    {
     "name": "stdout",
     "output_type": "stream",
     "text": [
      "(0.0063591142455847165, 3.2883160174460342e-05)\n",
      "(0.077485553719954664, 0.0)\n"
     ]
    }
   ],
   "source": [
    "print(stats.pearsonr(data[:,0], data[:, 1]))\n",
    "print(stats.pearsonr(data[:,0], data[:, 2]))"
   ]
  },
  {
   "cell_type": "markdown",
   "metadata": {},
   "source": [
    "Here we compute the correlation between a product ranking and -respectively - the number of reviews it has, the average of the reviews helpfulness, the average of the reviews ranking."
   ]
  },
  {
   "cell_type": "code",
   "execution_count": 13,
   "metadata": {},
   "outputs": [
    {
     "name": "stdout",
     "output_type": "stream",
     "text": [
      "-0.03279435475548705 0.10355802500411367 -0.021187929473576554\n"
     ]
    }
   ],
   "source": [
    "output_df = meta_df[['asin', 'rank']]\n",
    "\n",
    "joined_df = meta_df.join(df_review, 'asin')\n",
    "grouped_df = joined_df.groupBy('asin')\n",
    "\n",
    "review_count_df = grouped_df.count()\n",
    "mean_helpfulness_df = grouped_df.mean('helpfulness', 'overall')\n",
    "output_df = output_df.join(review_count_df, 'asin').join(mean_helpfulness_df, 'asin')\n",
    "rank_count_correlation = output_df.corr('rank', 'count', method='pearson')\n",
    "rank_helpfulness_correlation = output_df.corr('rank', 'avg(helpfulness)', method='pearson')\n",
    "rank_overall_correlation = output_df.corr('rank', 'avg(overall)', method='pearson')\n",
    "print(rank_count_correlation, rank_helpfulness_correlation, rank_overall_correlation)"
   ]
  },
  {
   "cell_type": "markdown",
   "metadata": {},
   "source": [
    "## Question 2: influence of reviewer personality"
   ]
  },
  {
   "cell_type": "markdown",
   "metadata": {},
   "source": [
    "We get the count of review of distinct article per reviewer and filter those that have less than 5 review."
   ]
  },
  {
   "cell_type": "code",
   "execution_count": 14,
   "metadata": {
    "collapsed": true
   },
   "outputs": [],
   "source": [
    "df_count = df_review.groupBy(\"reviewerID\").agg(F.countDistinct(\"asin\").alias('count')).filter(\"`count` >= 5\")"
   ]
  },
  {
   "cell_type": "markdown",
   "metadata": {},
   "source": [
    "We get all reviews of reviewers with more than 5 articles."
   ]
  },
  {
   "cell_type": "code",
   "execution_count": 15,
   "metadata": {},
   "outputs": [
    {
     "name": "stdout",
     "output_type": "stream",
     "text": [
      "We have 18186733, i.e. 1.000% of review who belongs to reviewer with 5 or more reviews\n"
     ]
    }
   ],
   "source": [
    "df_filtered = df_review.join(df_count, on='reviewerID').drop('count')\n",
    "num_five_reviews = df_filtered.count()\n",
    "print(\"We have %.d, i.e. %.3f%% of review who belongs to reviewer with 5 or more reviews\"%(num_five_reviews, num_five_reviews/num_reviews))"
   ]
  },
  {
   "cell_type": "markdown",
   "metadata": {},
   "source": [
    "We compute the average grade for each reviewer."
   ]
  },
  {
   "cell_type": "code",
   "execution_count": 16,
   "metadata": {},
   "outputs": [
    {
     "data": {
      "text/plain": [
       "1116318"
      ]
     },
     "execution_count": 16,
     "metadata": {},
     "output_type": "execute_result"
    }
   ],
   "source": [
    "average_std_score = df_review.groupBy(\"reviewerID\").agg(F.avg(\"overall\").alias(\"mean\"), F.stddev(\"overall\").alias(\"std\"))\n",
    "average_std_score.cache().count()"
   ]
  },
  {
   "cell_type": "markdown",
   "metadata": {},
   "source": [
    "Here are some statistic concerning the average grade for each reviewer.\n",
    "\n",
    "The first row contains the total number of reviewer considered.\n",
    "\n",
    "The second row contains the mean of the reviewers' averages grades (left) and the standard deviation of said mean (right).\n",
    "\n",
    "The third row contains the mean of the reviewers' standard deviations (left) and the standard deviation of said mean (right).\n",
    "\n",
    "The fourth row contains the mean of the reviewer's lower grades (left) and the standard deviation of said mean (right).\n",
    "\n",
    "The fourth row contains the mean of the reviewer's higher grades (left) and the standard deviation of said mean (right)."
   ]
  },
  {
   "cell_type": "code",
   "execution_count": 17,
   "metadata": {},
   "outputs": [
    {
     "name": "stdout",
     "output_type": "stream",
     "text": [
      "+-------+------------------+------------------+\n",
      "|summary|              mean|               std|\n",
      "+-------+------------------+------------------+\n",
      "|  count|           1116318|           1116318|\n",
      "|   mean| 4.237445234962943|0.8689434742290486|\n",
      "| stddev|0.6430152136139993|0.5406193821169274|\n",
      "|    min|               1.0|               0.0|\n",
      "|    max|               5.0|2.1908902300206647|\n",
      "+-------+------------------+------------------+\n",
      "\n"
     ]
    }
   ],
   "source": [
    "average_std_score.select(\"mean\", \"std\").describe().show()"
   ]
  },
  {
   "cell_type": "markdown",
   "metadata": {},
   "source": [
    "We then plot the average grade for each reviewer through histograms, with the grade on the x-axys and the number of reviewers who have such mean ranking on the y-axis."
   ]
  },
  {
   "cell_type": "code",
   "execution_count": 18,
   "metadata": {},
   "outputs": [
    {
     "data": {
      "image/png": "[encoded data removed]",
      "text/plain": [
       "<matplotlib.figure.Figure at 0x7faf5c2f0978>"
      ]
     },
     "metadata": {},
     "output_type": "display_data"
    }
   ],
   "source": [
    "fig, ax = plt.subplots()\n",
    "fig.set_size_inches(8, 5)\n",
    "hist(ax, average_std_score.select(\"mean\"));"
   ]
  },
  {
   "cell_type": "markdown",
   "metadata": {},
   "source": [
    "It can be noted that reviewers tend to give high ratings."
   ]
  },
  {
   "cell_type": "markdown",
   "metadata": {},
   "source": [
    "We then plot the average standard deviation for each reviewer through histograms, with the grade on the x-axys and the number of reviewers who have such average standard deviation on the y-axis."
   ]
  },
  {
   "cell_type": "code",
   "execution_count": 19,
   "metadata": {},
   "outputs": [
    {
     "data": {
      "image/png": "[encoded data removed]",
      "text/plain": [
       "<matplotlib.figure.Figure at 0x7faf5c22f240>"
      ]
     },
     "metadata": {},
     "output_type": "display_data"
    }
   ],
   "source": [
    "fig, ax = plt.subplots()\n",
    "fig.set_size_inches(8, 5)\n",
    "hist(ax, average_std_score.select(\"std\"));"
   ]
  },
  {
   "cell_type": "markdown",
   "metadata": {},
   "source": [
    "It can be noted that the majority of reviewers tend to have either a very small standard deviation (0-0.25) or a standard deviation between 0.5 and 1.5. The number of people with an higher standard deviation are sensibily less."
   ]
  },
  {
   "cell_type": "markdown",
   "metadata": {},
   "source": [
    "Here, we look at the mean of the ratings given by reviewer with small (<0.25) standard deviation.\n",
    "We also look at what percentage of reviewer they correspond."
   ]
  },
  {
   "cell_type": "code",
   "execution_count": 20,
   "metadata": {},
   "outputs": [
    {
     "name": "stdout",
     "output_type": "stream",
     "text": [
      "There is 13.73% of reviewer with std < 0.25\n"
     ]
    },
    {
     "data": {
      "image/png": "[encoded data removed]",
      "text/plain": [
       "<matplotlib.figure.Figure at 0x7faf5c2509e8>"
      ]
     },
     "metadata": {},
     "output_type": "display_data"
    }
   ],
   "source": [
    "print(\"There is %.2f%% of reviewer with std < 0.25\"%(average_std_score.filter(average_std_score.std < 0.25).count()/average_std_score.count()*100))\n",
    "fig, ax = plt.subplots()\n",
    "fig.set_size_inches(8, 5)\n",
    "hist(ax, average_std_score.filter(average_std_score.std < 0.25).select(\"mean\"));"
   ]
  },
  {
   "cell_type": "markdown",
   "metadata": {},
   "source": [
    "It can be noted that people with a small standard deviation, i.e. people who tend to always give the same rating, tend to give only very high rating (>4.5)."
   ]
  },
  {
   "cell_type": "markdown",
   "metadata": {},
   "source": [
    "In conclusion, we have hints that there's a certain bias related to reviewers' personality and habits. \n",
    "The fact that the mean of the average reviewer rating is so high for example could make us think that people tend to rate the product they're satisfied with and not those they're unsastisfied with.\n",
    "The fact that the reviewers with little standard deviation tend to give high ratings also speaks in that direction."
   ]
  },
  {
   "cell_type": "markdown",
   "metadata": {},
   "source": [
    "## Question 3: Brand fidelity/hate"
   ]
  },
  {
   "cell_type": "markdown",
   "metadata": {},
   "source": [
    "We load the metadata datas and only keep the article number and the brand that are not null, since we are interested in brands.\n",
    "\n",
    "We then join the dataframe of reviews with the metadata and display some stats."
   ]
  },
  {
   "cell_type": "code",
   "execution_count": 22,
   "metadata": {},
   "outputs": [
    {
     "name": "stdout",
     "output_type": "stream",
     "text": [
      "We have 3195304, which represents 0.176% of review with a brand and who belongs to reviewer with 5 or more reviews\n",
      "We have 0.176% of review amongst those who belongs to reviewer with 5 or more reviews that have a brand \n"
     ]
    }
   ],
   "source": [
    "# df_meta = sqlContext.read.json(\"meta_auto_baby_grocery.json\")\n",
    "df_meta_brand = meta_df.select(\"asin\", \"brand\").dropna()\n",
    "\n",
    "df_with_brand = df_filtered.join(df_meta_brand, on='asin')\n",
    "num_reviews_with_brand = df_with_brand.count()\n",
    "\n",
    "print(\"We have %.d, which represents %.3f%% of review with a brand and who belongs to reviewer with 5 or more reviews\"%(num_reviews_with_brand, num_reviews_with_brand/num_reviews))\n",
    "print(\"We have %.3f%% of review amongst those who belongs to reviewer with 5 or more reviews that have a brand \"%(num_reviews_with_brand/num_five_reviews))"
   ]
  },
  {
   "cell_type": "markdown",
   "metadata": {},
   "source": [
    "We can see that once again we loose a lot of reviews with this approach, but it is still an interesting number to work with.\n",
    "\n",
    "Then we group by brand and reviewer, compute some stats and filter out all reviewers that have less than 5 reviews for a specific brand."
   ]
  },
  {
   "cell_type": "code",
   "execution_count": 23,
   "metadata": {},
   "outputs": [
    {
     "name": "stdout",
     "output_type": "stream",
     "text": [
      "We have 27991 brand/reviewers tuples\n"
     ]
    }
   ],
   "source": [
    "df_brand_reviewer = df_with_brand.groupBy([\"brand\", \"reviewerID\"]).agg(F.count(\"overall\").alias(\"count\"), F.avg(\"overall\").alias(\"mean\"), F.stddev(\"overall\").alias(\"std\")).filter(\"`count` >= 5\")\n",
    "brand_reviewers_count = df_brand_reviewer.cache().count()\n",
    "print(\"We have %.d brand/reviewers tuples\"%(brand_reviewers_count))"
   ]
  },
  {
   "cell_type": "markdown",
   "metadata": {},
   "source": [
    "We then show some stats about the mean and std."
   ]
  },
  {
   "cell_type": "code",
   "execution_count": 24,
   "metadata": {},
   "outputs": [
    {
     "name": "stdout",
     "output_type": "stream",
     "text": [
      "+-------+------------------+------------------+------------------+\n",
      "|summary|             count|              mean|               std|\n",
      "+-------+------------------+------------------+------------------+\n",
      "|  count|             27991|             27991|             27991|\n",
      "|   mean|10.549819584866563| 4.285022974122227|0.7416057878513868|\n",
      "| stddev| 18.57718396527397|0.6459028905176771|0.5229705628819817|\n",
      "|    min|                 5|               1.0|               0.0|\n",
      "|    max|               794|               5.0|2.1908902300206647|\n",
      "+-------+------------------+------------------+------------------+\n",
      "\n"
     ]
    },
    {
     "data": {
      "image/png": "[encoded data removed]",
      "text/plain": [
       "<matplotlib.figure.Figure at 0x7faf5c0e1208>"
      ]
     },
     "metadata": {},
     "output_type": "display_data"
    },
    {
     "data": {
      "image/png": "[encoded data removed]",
      "text/plain": [
       "<matplotlib.figure.Figure at 0x7faf57ff32e8>"
      ]
     },
     "metadata": {},
     "output_type": "display_data"
    }
   ],
   "source": [
    "df_brand_reviewer.select(\"count\", \"mean\", \"std\").describe().show()\n",
    "fig, ax = plt.subplots()\n",
    "fig.set_size_inches(8, 5)\n",
    "hist(ax, df_brand_reviewer.select(\"mean\"));\n",
    "fig, ax = plt.subplots()\n",
    "fig.set_size_inches(8, 5)\n",
    "hist(ax, df_brand_reviewer.select(\"std\"));"
   ]
  },
  {
   "cell_type": "markdown",
   "metadata": {},
   "source": [
    "By comparing qualitatively (we will do a more precise analysis in milestone 3) those graphs with the one from Question 2, we can see that the ratings seems to be having less deviation, showing a tendency to love/hate toward a brand.\n",
    "\n",
    "We try to see if there is an obvious correlation between number of reviews for a brand and the mean rate:"
   ]
  },
  {
   "cell_type": "code",
   "execution_count": 25,
   "metadata": {},
   "outputs": [
    {
     "name": "stdout",
     "output_type": "stream",
     "text": [
      "The pearson correlation is -0.050 and the spearman is -0.116\n"
     ]
    }
   ],
   "source": [
    "pearson_corr = correlation(df_brand_reviewer, \"count\", \"mean\", method='pearson')\n",
    "spearman_corr = correlation(df_brand_reviewer, \"count\", \"mean\", method='spearman')\n",
    "print(\"The pearson correlation is %.3f and the spearman is %.3f\"%(pearson_corr, spearman_corr))"
   ]
  },
  {
   "cell_type": "markdown",
   "metadata": {},
   "source": [
    "At first sight, we cannot see an obvious relationship, however, we will do a more refined analysis in the next milestone."
   ]
  },
  {
   "cell_type": "markdown",
   "metadata": {},
   "source": [
    "Compute the total number of products."
   ]
  },
  {
   "cell_type": "code",
   "execution_count": 26,
   "metadata": {},
   "outputs": [
    {
     "data": {
      "text/plain": [
       "9430088"
      ]
     },
     "execution_count": 26,
     "metadata": {},
     "output_type": "execute_result"
    }
   ],
   "source": [
    "total_products = meta_df.count()\n",
    "total_products"
   ]
  },
  {
   "cell_type": "markdown",
   "metadata": {},
   "source": [
    "Compute the ratio between ranked and total products."
   ]
  },
  {
   "cell_type": "code",
   "execution_count": 27,
   "metadata": {},
   "outputs": [
    {
     "name": "stdout",
     "output_type": "stream",
     "text": [
      "ranked_products: 9430088 total products: 9430088 ratio: 1.0\n"
     ]
    }
   ],
   "source": [
    "ranked_products = meta_df.count()\n",
    "ranked_products\n",
    "ratio = ranked_products/total_products\n",
    "print(\"ranked_products: \" + str(ranked_products) + \" total products: \" + str(total_products) + \" ratio: \" + str(ratio))"
   ]
  },
  {
   "cell_type": "markdown",
   "metadata": {},
   "source": [
    "We can notice that in this restricted dataset less than one third of the products is ranked, a fact that makes our rank-based analysis less representative. "
   ]
  },
  {
   "cell_type": "markdown",
   "metadata": {},
   "source": [
    "We now check that there is exactly one category that has a sales rank."
   ]
  },
  {
   "cell_type": "markdown",
   "metadata": {},
   "source": [
    "## Question 4: influence of 'also bought' feature"
   ]
  },
  {
   "cell_type": "markdown",
   "metadata": {},
   "source": [
    "I'll begin by focusing on the 'bought together' feature and not on the 'also bought' feature right away.\n",
    "This both because the former is more relevant to the question and because it scales better: 'also bought' tends to be a very long list of products while 'bought together' is usually much shorter and easier to analyze."
   ]
  },
  {
   "cell_type": "markdown",
   "metadata": {},
   "source": [
    "In order to answer question 4, it is possible to use the following approach:\n",
    "1. Find the best ranked products for each category.\n",
    "2. look at the rank of the products that were bought together with them.\n",
    "3. draw  qualitative conclusions."
   ]
  },
  {
   "cell_type": "markdown",
   "metadata": {},
   "source": [
    "First we select the interesting columns of the metadata dataframe, flattening the hierarchical datastructure in the process."
   ]
  },
  {
   "cell_type": "markdown",
   "metadata": {},
   "source": [
    "Then we define a function that allows to find in which category a product has been ranked."
   ]
  },
  {
   "cell_type": "code",
   "execution_count": 7,
   "metadata": {
    "collapsed": true
   },
   "outputs": [],
   "source": [
    "def explode_and_join(column_to_explode):\n",
    "    q4_meta_df = meta_df.select(\"asin\", \"rank\", F.explode(column_to_explode).alias(\"paired_product\")).dropna(how='any')\n",
    "    q4_joined_meta_df = q4_meta_df.alias(\"df1\").join(q4_meta_df.alias(\"df2\").select(F.col(\"asin\").alias(\"paired_asin\"), F.col(\"rank\").alias(\"paired_rank\")), F.col(\"paired_product\") == F.col(\"paired_asin\"), \"inner\")\n",
    "    return q4_joined_meta_df"
   ]
  },
  {
   "cell_type": "code",
   "execution_count": 29,
   "metadata": {
    "collapsed": true
   },
   "outputs": [],
   "source": [
    "bought_together_df = explode_and_join(\"bought_together\")"
   ]
  },
  {
   "cell_type": "code",
   "execution_count": 30,
   "metadata": {},
   "outputs": [
    {
     "data": {
      "text/plain": [
       "<matplotlib.axes._subplots.AxesSubplot at 0x7faf5c046e10>"
      ]
     },
     "execution_count": 30,
     "metadata": {},
     "output_type": "execute_result"
    },
    {
     "data": {
      "image/png": "[encoded data removed]",
      "text/plain": [
       "<matplotlib.figure.Figure at 0x7faf57fa3898>"
      ]
     },
     "metadata": {},
     "output_type": "display_data"
    }
   ],
   "source": [
    "bought_together_df.toPandas().plot.scatter(\"rank\", \"paired_rank\")"
   ]
  },
  {
   "cell_type": "code",
   "execution_count": 31,
   "metadata": {},
   "outputs": [
    {
     "data": {
      "text/plain": [
       "0.6638457806127336"
      ]
     },
     "execution_count": 31,
     "metadata": {},
     "output_type": "execute_result"
    }
   ],
   "source": [
    "rank_bought_together_correlation = bought_together_df.corr('rank', 'paired_rank', method='pearson')\n",
    "rank_bought_together_correlation"
   ]
  },
  {
   "cell_type": "code",
   "execution_count": 32,
   "metadata": {
    "collapsed": true
   },
   "outputs": [],
   "source": [
    "also_bought_df = explode_and_join(\"also_bought\")"
   ]
  },
  {
   "cell_type": "code",
   "execution_count": 33,
   "metadata": {},
   "outputs": [
    {
     "data": {
      "text/plain": [
       "0.4513344392636174"
      ]
     },
     "execution_count": 33,
     "metadata": {},
     "output_type": "execute_result"
    }
   ],
   "source": [
    "rank_also_bought_correlation = also_bought_df.corr('rank', 'paired_rank', method='pearson')\n",
    "rank_also_bought_correlation"
   ]
  },
  {
   "cell_type": "code",
   "execution_count": 8,
   "metadata": {
    "collapsed": true
   },
   "outputs": [],
   "source": [
    "also_viewed_df = explode_and_join(\"also_viewed\")"
   ]
  },
  {
   "cell_type": "code",
   "execution_count": 9,
   "metadata": {},
   "outputs": [
    {
     "data": {
      "text/plain": [
       "[Row(asin='0061060003', rank=3044473, paired_product='0061060054', paired_asin='0061060054', paired_rank=2295748),\n",
       " Row(asin='0061138495', rank=2705300, paired_product='0061138525', paired_asin='0061138525', paired_rank=3530559),\n",
       " Row(asin='0061138495', rank=2705300, paired_product='0061138525', paired_asin='0061138525', paired_rank=3530559),\n",
       " Row(asin='0061138517', rank=3098352, paired_product='0061138525', paired_asin='0061138525', paired_rank=3530559),\n",
       " Row(asin='0061138517', rank=3098352, paired_product='0061138525', paired_asin='0061138525', paired_rank=3530559),\n",
       " Row(asin='0844279528', rank=2048231, paired_product='0071549838', paired_asin='0071549838', paired_rank=1256358),\n",
       " Row(asin='0844279528', rank=2048231, paired_product='0071549838', paired_asin='0071549838', paired_rank=1256358),\n",
       " Row(asin='0844279528', rank=2048231, paired_product='0071549838', paired_asin='0071549838', paired_rank=1256358),\n",
       " Row(asin='0844279528', rank=2048231, paired_product='0071549838', paired_asin='0071549838', paired_rank=1256358),\n",
       " Row(asin='0844279811', rank=1850040, paired_product='0071549838', paired_asin='0071549838', paired_rank=1256358),\n",
       " Row(asin='0844279811', rank=1850040, paired_product='0071549838', paired_asin='0071549838', paired_rank=1256358),\n",
       " Row(asin='0844279811', rank=1850040, paired_product='0071549838', paired_asin='0071549838', paired_rank=1256358),\n",
       " Row(asin='0844279811', rank=1850040, paired_product='0071549838', paired_asin='0071549838', paired_rank=1256358),\n",
       " Row(asin='0072936282', rank=1647496, paired_product='0073010731', paired_asin='0073010731', paired_rank=3212096),\n",
       " Row(asin='0072936282', rank=1647496, paired_product='0073010731', paired_asin='0073010731', paired_rank=3212096),\n",
       " Row(asin='0072936282', rank=1647496, paired_product='0073010731', paired_asin='0073010731', paired_rank=3212096),\n",
       " Row(asin='0072936282', rank=1647496, paired_product='0073010731', paired_asin='0073010731', paired_rank=3212096),\n",
       " Row(asin='0135168805', rank=1817205, paired_product='0136222587', paired_asin='0136222587', paired_rank=1500436),\n",
       " Row(asin='0135168805', rank=1817205, paired_product='0136222587', paired_asin='0136222587', paired_rank=1500436),\n",
       " Row(asin='0135168805', rank=1817205, paired_product='0136222587', paired_asin='0136222587', paired_rank=1500436),\n",
       " Row(asin='0135168805', rank=1817205, paired_product='0136222587', paired_asin='0136222587', paired_rank=1500436),\n",
       " Row(asin='0135168805', rank=1817205, paired_product='0136222587', paired_asin='0136222587', paired_rank=1500436),\n",
       " Row(asin='0135168805', rank=1817205, paired_product='0136222587', paired_asin='0136222587', paired_rank=1500436),\n",
       " Row(asin='0345392612', rank=1554866, paired_product='0140076611', paired_asin='0140076611', paired_rank=1027931),\n",
       " Row(asin='0345392612', rank=1554866, paired_product='0140076611', paired_asin='0140076611', paired_rank=1027931),\n",
       " Row(asin='0345392612', rank=1554866, paired_product='0140076611', paired_asin='0140076611', paired_rank=1027931),\n",
       " Row(asin='0345392612', rank=1554866, paired_product='0140076611', paired_asin='0140076611', paired_rank=1027931),\n",
       " Row(asin='0345392612', rank=1554866, paired_product='0140076611', paired_asin='0140076611', paired_rank=1027931),\n",
       " Row(asin='0345392612', rank=1554866, paired_product='0140076611', paired_asin='0140076611', paired_rank=1027931),\n",
       " Row(asin='0345392612', rank=1554866, paired_product='0140076611', paired_asin='0140076611', paired_rank=1027931),\n",
       " Row(asin='0345392612', rank=1554866, paired_product='0140076611', paired_asin='0140076611', paired_rank=1027931),\n",
       " Row(asin='0345392612', rank=1554866, paired_product='0140076611', paired_asin='0140076611', paired_rank=1027931),\n",
       " Row(asin='0345392612', rank=1554866, paired_product='0140076611', paired_asin='0140076611', paired_rank=1027931),\n",
       " Row(asin='0345392612', rank=1554866, paired_product='0140076611', paired_asin='0140076611', paired_rank=1027931),\n",
       " Row(asin='0345392612', rank=1554866, paired_product='0140076611', paired_asin='0140076611', paired_rank=1027931),\n",
       " Row(asin='0345392612', rank=1554866, paired_product='0140076611', paired_asin='0140076611', paired_rank=1027931),\n",
       " Row(asin='0345392612', rank=1554866, paired_product='0140076611', paired_asin='0140076611', paired_rank=1027931),\n",
       " Row(asin='0345392612', rank=1554866, paired_product='0140076611', paired_asin='0140076611', paired_rank=1027931),\n",
       " Row(asin='0345392612', rank=1554866, paired_product='0140076611', paired_asin='0140076611', paired_rank=1027931),\n",
       " Row(asin='0345392612', rank=1554866, paired_product='0140076611', paired_asin='0140076611', paired_rank=1027931),\n",
       " Row(asin='0345392612', rank=1554866, paired_product='0140076611', paired_asin='0140076611', paired_rank=1027931),\n",
       " Row(asin='0345392612', rank=1554866, paired_product='0140076611', paired_asin='0140076611', paired_rank=1027931),\n",
       " Row(asin='0345392612', rank=1554866, paired_product='0140076611', paired_asin='0140076611', paired_rank=1027931),\n",
       " Row(asin='0345392612', rank=1554866, paired_product='0140076611', paired_asin='0140076611', paired_rank=1027931),\n",
       " Row(asin='0345392612', rank=1554866, paired_product='0140076611', paired_asin='0140076611', paired_rank=1027931),\n",
       " Row(asin='0345392612', rank=1554866, paired_product='0140076611', paired_asin='0140076611', paired_rank=1027931),\n",
       " Row(asin='0345392612', rank=1554866, paired_product='0140076611', paired_asin='0140076611', paired_rank=1027931),\n",
       " Row(asin='0345392612', rank=1554866, paired_product='0140076611', paired_asin='0140076611', paired_rank=1027931),\n",
       " Row(asin='0345392612', rank=1554866, paired_product='0140076611', paired_asin='0140076611', paired_rank=1027931),\n",
       " Row(asin='0345392612', rank=1554866, paired_product='0140076611', paired_asin='0140076611', paired_rank=1027931),\n",
       " Row(asin='0345392612', rank=1554866, paired_product='0140076611', paired_asin='0140076611', paired_rank=1027931),\n",
       " Row(asin='0345392612', rank=1554866, paired_product='0140076611', paired_asin='0140076611', paired_rank=1027931),\n",
       " Row(asin='0345392612', rank=1554866, paired_product='0140076611', paired_asin='0140076611', paired_rank=1027931),\n",
       " Row(asin='0345392612', rank=1554866, paired_product='0140076611', paired_asin='0140076611', paired_rank=1027931),\n",
       " Row(asin='0345392612', rank=1554866, paired_product='0140076611', paired_asin='0140076611', paired_rank=1027931),\n",
       " Row(asin='0916291545', rank=1952202, paired_product='0140501266', paired_asin='0140501266', paired_rank=1095767),\n",
       " Row(asin='0916291545', rank=1952202, paired_product='0140501266', paired_asin='0140501266', paired_rank=1095767),\n",
       " Row(asin='0916291545', rank=1952202, paired_product='0140501266', paired_asin='0140501266', paired_rank=1095767),\n",
       " Row(asin='0916291545', rank=1952202, paired_product='0140501266', paired_asin='0140501266', paired_rank=1095767),\n",
       " Row(asin='0140366210', rank=487877, paired_product='0141190353', paired_asin='0141190353', paired_rank=563216),\n",
       " Row(asin='0140366210', rank=487877, paired_product='0141190353', paired_asin='0141190353', paired_rank=563216),\n",
       " Row(asin='0253192633', rank=5352419, paired_product='0146001761', paired_asin='0146001761', paired_rank=1974222),\n",
       " Row(asin='0253192633', rank=5352419, paired_product='0146001761', paired_asin='0146001761', paired_rank=1974222),\n",
       " Row(asin='0253192633', rank=5352419, paired_product='0146001761', paired_asin='0146001761', paired_rank=1974222),\n",
       " Row(asin='0253192633', rank=5352419, paired_product='0146001761', paired_asin='0146001761', paired_rank=1974222),\n",
       " Row(asin='0253192633', rank=5352419, paired_product='0146001761', paired_asin='0146001761', paired_rank=1974222),\n",
       " Row(asin='0253192633', rank=5352419, paired_product='0146001761', paired_asin='0146001761', paired_rank=1974222),\n",
       " Row(asin='0253192633', rank=5352419, paired_product='0146001761', paired_asin='0146001761', paired_rank=1974222),\n",
       " Row(asin='0253192633', rank=5352419, paired_product='0146001761', paired_asin='0146001761', paired_rank=1974222),\n",
       " Row(asin='0253192633', rank=5352419, paired_product='0146001761', paired_asin='0146001761', paired_rank=1974222),\n",
       " Row(asin='0253192633', rank=5352419, paired_product='0146001761', paired_asin='0146001761', paired_rank=1974222),\n",
       " Row(asin='0253192633', rank=5352419, paired_product='0146001761', paired_asin='0146001761', paired_rank=1974222),\n",
       " Row(asin='0253192633', rank=5352419, paired_product='0146001761', paired_asin='0146001761', paired_rank=1974222),\n",
       " Row(asin='0812830598', rank=652119, paired_product='0151761205', paired_asin='0151761205', paired_rank=1840915),\n",
       " Row(asin='0160591341', rank=1462880, paired_product='0160767180', paired_asin='0160767180', paired_rank=4179864),\n",
       " Row(asin='0160591341', rank=1462880, paired_product='0160767180', paired_asin='0160767180', paired_rank=4179864),\n",
       " Row(asin='0160591341', rank=1462880, paired_product='0160767180', paired_asin='0160767180', paired_rank=4179864),\n",
       " Row(asin='0160591341', rank=1462880, paired_product='0160767180', paired_asin='0160767180', paired_rank=4179864),\n",
       " Row(asin='0192712497', rank=2926544, paired_product='0192750755', paired_asin='0192750755', paired_rank=550602),\n",
       " Row(asin='0192712497', rank=2926544, paired_product='0192750755', paired_asin='0192750755', paired_rank=550602),\n",
       " Row(asin='0192712497', rank=2926544, paired_product='0192750755', paired_asin='0192750755', paired_rank=550602),\n",
       " Row(asin='0192712497', rank=2926544, paired_product='0192750755', paired_asin='0192750755', paired_rank=550602),\n",
       " Row(asin='0192712497', rank=2926544, paired_product='0192750755', paired_asin='0192750755', paired_rank=550602),\n",
       " Row(asin='0192712497', rank=2926544, paired_product='0192750755', paired_asin='0192750755', paired_rank=550602),\n",
       " Row(asin='0192712497', rank=2926544, paired_product='0192750755', paired_asin='0192750755', paired_rank=550602),\n",
       " Row(asin='0192712497', rank=2926544, paired_product='0192750755', paired_asin='0192750755', paired_rank=550602),\n",
       " Row(asin='0192712497', rank=2926544, paired_product='0192750755', paired_asin='0192750755', paired_rank=550602),\n",
       " Row(asin='0192712497', rank=2926544, paired_product='0192750755', paired_asin='0192750755', paired_rank=550602),\n",
       " Row(asin='0192712497', rank=2926544, paired_product='0192750755', paired_asin='0192750755', paired_rank=550602),\n",
       " Row(asin='0192712497', rank=2926544, paired_product='0192750755', paired_asin='0192750755', paired_rank=550602),\n",
       " Row(asin='0192712497', rank=2926544, paired_product='0192750755', paired_asin='0192750755', paired_rank=550602),\n",
       " Row(asin='0192712497', rank=2926544, paired_product='0192750755', paired_asin='0192750755', paired_rank=550602),\n",
       " Row(asin='B0013NDBX6', rank=2282599, paired_product='0199243158', paired_asin='0199243158', paired_rank=2267867),\n",
       " Row(asin='B0013NDBX6', rank=2282599, paired_product='0199243158', paired_asin='0199243158', paired_rank=2267867),\n",
       " Row(asin='B0013NDBX6', rank=2282599, paired_product='0199243158', paired_asin='0199243158', paired_rank=2267867),\n",
       " Row(asin='B0013NDBX6', rank=2282599, paired_product='0199243158', paired_asin='0199243158', paired_rank=2267867),\n",
       " Row(asin='1405098988', rank=3202135, paired_product='0230034985', paired_asin='0230034985', paired_rank=3444385),\n",
       " Row(asin='1405098988', rank=3202135, paired_product='0230034985', paired_asin='0230034985', paired_rank=3444385),\n",
       " Row(asin='1405098988', rank=3202135, paired_product='0230034985', paired_asin='0230034985', paired_rank=3444385),\n",
       " Row(asin='1405098988', rank=3202135, paired_product='0230034985', paired_asin='0230034985', paired_rank=3444385)]"
      ]
     },
     "execution_count": 9,
     "metadata": {},
     "output_type": "execute_result"
    }
   ],
   "source": [
    "also_viewed_df.limit(100).collect()"
   ]
  },
  {
   "cell_type": "code",
   "execution_count": 10,
   "metadata": {},
   "outputs": [
    {
     "data": {
      "text/plain": [
       "0.28586182272141314"
      ]
     },
     "execution_count": 10,
     "metadata": {},
     "output_type": "execute_result"
    }
   ],
   "source": [
    "rank_also_viewed_correlation = also_viewed_df.corr('rank', 'paired_rank', method='pearson')\n",
    "rank_also_viewed_correlation"
   ]
  },
  {
   "cell_type": "markdown",
   "metadata": {},
   "source": [
    "It can be noted that products with very different rankings were bought together.\n",
    "This means that question 4 might indeed make sense, there might be \"good\" product that improve the sales of \"bad\" products. As of now \"good\" means \"popular\" and bad means \"unpopolar\", but the definition might change when we delve even further into the data."
   ]
  },
  {
   "cell_type": "markdown",
   "metadata": {},
   "source": [
    "## Question 5: rank/review ratio"
   ]
  },
  {
   "cell_type": "markdown",
   "metadata": {},
   "source": [
    "The approach for question 5 is the following:\n",
    "1. For each rank category, take the 5 best ranked products\n",
    "2. look in the review table and see how many review were made for each product\n",
    "3. Print the values and try to qualitatevely interpet. "
   ]
  },
  {
   "cell_type": "markdown",
   "metadata": {},
   "source": [
    "Here we apply the described pipeline."
   ]
  },
  {
   "cell_type": "code",
   "execution_count": 14,
   "metadata": {
    "collapsed": true
   },
   "outputs": [],
   "source": [
    "data = review_count_per_product.rdd.map(lambda x: (x[1], x[2])).collect()"
   ]
  },
  {
   "cell_type": "code",
   "execution_count": 18,
   "metadata": {
    "collapsed": true
   },
   "outputs": [],
   "source": [
    "data = np.array(data)"
   ]
  },
  {
   "cell_type": "code",
   "execution_count": 22,
   "metadata": {},
   "outputs": [
    {
     "data": {
      "text/plain": [
       "KendalltauResult(correlation=-0.070864654178437361, pvalue=0.0)"
      ]
     },
     "execution_count": 22,
     "metadata": {},
     "output_type": "execute_result"
    }
   ],
   "source": [
    "stats.kendalltau(data[:, 0], data[:, 1])"
   ]
  },
  {
   "cell_type": "code",
   "execution_count": 11,
   "metadata": {},
   "outputs": [
    {
     "data": {
      "text/plain": [
       "-0.026873823134399902"
      ]
     },
     "execution_count": 11,
     "metadata": {},
     "output_type": "execute_result"
    }
   ],
   "source": [
    "q5_meta_df = meta_df.select(\"asin\", \"rank\").dropna(how='any')\n",
    "review_count_per_product = q5_meta_df.join(df_review, \"asin\").groupby(\"asin\", \"rank\").count()\n",
    "corr = review_count_per_product.corr(\"rank\", \"count\", method ='pearson')\n",
    "corr"
   ]
  },
  {
   "cell_type": "markdown",
   "metadata": {},
   "source": [
    "There's doesn't seem to be any correlation between the number of reviews associated to a product and its sales ranking according to these results, which don't hint at a linear relationship between number of reviews and sales."
   ]
  },
  {
   "cell_type": "markdown",
   "metadata": {},
   "source": [
    "## Question 6: product categorization"
   ]
  },
  {
   "cell_type": "code",
   "execution_count": null,
   "metadata": {
    "collapsed": true
   },
   "outputs": [],
   "source": [
    "def explode_categories():\n",
    "    q6_meta_df = meta_df.select(\"asin\", \"rank\", F.explode(\"categories\").alias(\"category\")).select(\"asin\", \"rank\", F.explode(\"category\").alias(\"category\")).dropna(how='any')\n",
    "    review_count_per_category = q6_meta_df.join(df_review, \"asin\").groupby(\"category\").count()\n",
    "    review_count_per_category = review_count_per_category.orderBy(\"count\", ascending = False)\n",
    "    return review_count_per_category\n",
    "    \n",
    "review_count_per_category = explode_categories()\n",
    "review_count_per_category.show()"
   ]
  },
  {
   "cell_type": "markdown",
   "metadata": {
    "collapsed": true
   },
   "source": [
    "# TO DO FOR MILESTONE 3 "
   ]
  },
  {
   "cell_type": "markdown",
   "metadata": {},
   "source": [
    "## Question 1 "
   ]
  },
  {
   "cell_type": "markdown",
   "metadata": {},
   "source": [
    "Find metrics allowing to draw meaningful conclusions."
   ]
  },
  {
   "cell_type": "markdown",
   "metadata": {},
   "source": [
    "## Question 2"
   ]
  },
  {
   "cell_type": "markdown",
   "metadata": {},
   "source": [
    "Better quantify the bias of the reviewer by analysing other aspects "
   ]
  },
  {
   "cell_type": "markdown",
   "metadata": {},
   "source": [
    "## Question 3"
   ]
  },
  {
   "cell_type": "markdown",
   "metadata": {},
   "source": [
    "Further delve into the data to produce a coherent conclusion."
   ]
  },
  {
   "cell_type": "markdown",
   "metadata": {},
   "source": [
    "## Question 4"
   ]
  },
  {
   "cell_type": "markdown",
   "metadata": {},
   "source": [
    "Further delve into the data and formally describe the relation between the 'also bought' and 'bought together' features as well as the meaning of a \"good\" and \"bad\" product, which as of now is associated to popularity. \n",
    "Also substitute the print based approach with a more complex one.\n",
    "\n",
    "Draw formally correct conclusion with regard to the influence of the 'also_bought' feature on sales."
   ]
  },
  {
   "cell_type": "markdown",
   "metadata": {},
   "source": [
    "## Question 5"
   ]
  },
  {
   "cell_type": "markdown",
   "metadata": {},
   "source": [
    "Confirm the conclusion by working on the whole dataset through the cluster and substitute the print based approach with a more complex one. "
   ]
  },
  {
   "cell_type": "markdown",
   "metadata": {},
   "source": [
    "## Question 6 "
   ]
  },
  {
   "cell_type": "markdown",
   "metadata": {},
   "source": [
    "Confirm the conclusion by working on the whole dataset through the cluster and substitute the dictionary based approach with a more complex one. "
   ]
  },
  {
   "cell_type": "markdown",
   "metadata": {},
   "source": [
    "## Refine analysis"
   ]
  },
  {
   "cell_type": "markdown",
   "metadata": {},
   "source": [
    "Eventually find new question related to reviews and answer them."
   ]
  },
  {
   "cell_type": "markdown",
   "metadata": {},
   "source": [
    "## Final Conclusion"
   ]
  },
  {
   "cell_type": "markdown",
   "metadata": {},
   "source": [
    "produce a clear description of the characteristic of an amazon review: how can review be in interpreted in the complex system that is Amazon?"
   ]
  },
  {
   "cell_type": "markdown",
   "metadata": {},
   "source": [
    "## Report"
   ]
  },
  {
   "cell_type": "markdown",
   "metadata": {},
   "source": [
    "sum up the results of the research in a 4-page report."
   ]
  },
  {
   "cell_type": "markdown",
   "metadata": {},
   "source": [
    "## Poster"
   ]
  },
  {
   "cell_type": "markdown",
   "metadata": {},
   "source": [
    "design a poster to present the results of our research."
   ]
  }
 ],
 "metadata": {
  "kernelspec": {
   "display_name": "Python 3",
   "language": "python",
   "name": "python3"
  },
  "language_info": {
   "codemirror_mode": {
    "name": "ipython",
    "version": 3
   },
   "file_extension": ".py",
   "mimetype": "text/x-python",
   "name": "python",
   "nbconvert_exporter": "python",
   "pygments_lexer": "ipython3",
   "version": "3.6.2"
  }
 },
 "nbformat": 4,
 "nbformat_minor": 2
}
