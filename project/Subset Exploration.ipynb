{
 "cells": [
  {
   "cell_type": "markdown",
   "metadata": {},
   "source": [
    "# Introduction\n",
    "\n",
    "What we did in this notebook is selecting a small part of the amazon dataset and use it to test the methods we implemented.\n",
    "\n",
    "We tried to write code which makes use of Spark SQL, however due to the limitated competences of certain members of the group we weren't always able to provide efficient code. This issue will be resolved in Milestone 3.\n",
    "\n",
    "Please also note that due to time constraints and cluster overload we weren't able to properly test our methods on the cluster."
   ]
  },
  {
   "cell_type": "markdown",
   "metadata": {},
   "source": [
    "# Import/Helpers"
   ]
  },
  {
   "cell_type": "code",
   "execution_count": 1,
   "metadata": {
    "collapsed": true
   },
   "outputs": [],
   "source": [
    "import os\n",
    "import findspark\n",
    "#os.environ['SPARK_HOME'] = '/opt/apache-spark'\n",
    "os.environ['SPARK_HOME'] = '/usr/local/Cellar/apache-spark/2.2.0/libexec/'\n",
    "findspark.init()\n",
    "from pyspark import SQLContext, SparkContext, SparkConf\n",
    "from pyspark.sql import functions as F\n",
    "from pyspark.sql import types as T\n",
    "from pyspark.mllib.stat import Statistics as S\n",
    "import json\n",
    "import numpy as np\n",
    "from pyspark.sql.functions import udf\n",
    "from pyspark.sql.types import *\n",
    "from pyspark_dist_explore import hist\n",
    "import seaborn as sns\n",
    "import matplotlib.pyplot as plt\n",
    "%matplotlib inline"
   ]
  },
  {
   "cell_type": "code",
   "execution_count": 2,
   "metadata": {
    "collapsed": true
   },
   "outputs": [],
   "source": [
    "def correlation(df, col1, col2, method='pearson'):\n",
    "    rdd1 = df.select(col1).rdd.map(lambda x: x[0])\n",
    "    rdd2 = df.select(col2).rdd.map(lambda x: x[0])\n",
    "    return S.corr(rdd1, rdd2, method)"
   ]
  },
  {
   "cell_type": "markdown",
   "metadata": {},
   "source": [
    "Creation of a Spark contest."
   ]
  },
  {
   "cell_type": "code",
   "execution_count": 3,
   "metadata": {
    "collapsed": true
   },
   "outputs": [],
   "source": [
    "memory = '6g'\n",
    "pyspark_submit_args = ' --driver-memory ' + memory + ' pyspark-shell'\n",
    "os.environ[\"PYSPARK_SUBMIT_ARGS\"] = pyspark_submit_args\n",
    "\n",
    "sc = SparkContext()\n",
    "sqlContext = SQLContext(sc)"
   ]
  },
  {
   "cell_type": "markdown",
   "metadata": {},
   "source": [
    "# Questions"
   ]
  },
  {
   "cell_type": "markdown",
   "metadata": {},
   "source": [
    "We load the data from the json file. The data is a small subset containing only items from the following categories:\n",
    "\"Baby\", \"Automotive\" and \"Grocery and Gourmet Food\". We will use this dataset on our local machine to qualitatively manipulate the data. "
   ]
  },
  {
   "cell_type": "code",
   "execution_count": null,
   "metadata": {},
   "outputs": [],
   "source": [
    "#df_review = sqlContext.read.json(\"reviews_auto_baby_grocery.json\")\n",
    "#df_review = sqlContext.read.json(\"datasets/data.json\")\n",
    "#df_review.write.parquet(\"data.parquet\")"
   ]
  },
  {
   "cell_type": "code",
   "execution_count": 4,
   "metadata": {},
   "outputs": [],
   "source": [
    "# df_review = sqlContext.read.json(\"reviews_auto_baby_grocery.json\")\n",
    "df_review = sqlContext.read.parquet(\"data.parquet\")\n",
    "num_reviews = df_review.count()"
   ]
  },
  {
   "cell_type": "markdown",
   "metadata": {},
   "source": [
    "Here we load the product's metadata."
   ]
  },
  {
   "cell_type": "code",
   "execution_count": 5,
   "metadata": {
    "collapsed": true
   },
   "outputs": [],
   "source": [
    " #meta_df = sqlContext.read.json(\"meta_auto_baby_grocery.json\")\n",
    "meta_df = sqlContext.read.parquet(\"metadata.parquet\")\n",
    "#meta_df = sqlContext.read.json(\"datasets/metadata.json\")"
   ]
  },
  {
   "cell_type": "markdown",
   "metadata": {},
   "source": [
    "Setup for parquet file:"
   ]
  },
  {
   "cell_type": "code",
   "execution_count": null,
   "metadata": {
    "collapsed": true
   },
   "outputs": [],
   "source": [
    "# We flatten the meta dataframe\n",
    "# No need to run it, already checked...\n",
    "def flatten(salesRank):\n",
    "    if salesRank == None:\n",
    "        return None, None\n",
    "    else:\n",
    "        for category, rank in salesRank.asDict().items():\n",
    "            if rank != None:\n",
    "                return (category, rank)\n",
    "    return None, None\n",
    "flatten = udf(flatten, StructType([StructField(\"category\", StringType()), StructField(\"rank\", IntegerType())]))\n",
    "df_flattened = meta_df.withColumn(\"salesRank\", flatten(\"salesRank\"))\n",
    "df_flattened = df_flattened.drop(\"_corrupt_record\")\n",
    "df_flattened = df_flattened.select(list(set(df_flattened.schema.names) - set([\"salesRank\", \"related\"]))+ [\"salesRank.*\", \"related.*\"])\n",
    "df_flattened.write.parquet(\"metadata.parquet\")"
   ]
  },
  {
   "cell_type": "code",
   "execution_count": 6,
   "metadata": {
    "scrolled": false
   },
   "outputs": [
    {
     "data": {
      "text/plain": [
       "DataFrame[brand: string, asin: string, price: double, title: string, imUrl: string, categories: array<array<string>>, description: string, category: string, rank: int, also_bought: array<string>, also_viewed: array<string>, bought_together: array<string>, buy_after_viewing: array<string>]"
      ]
     },
     "execution_count": 6,
     "metadata": {},
     "output_type": "execute_result"
    }
   ],
   "source": [
    "meta_df"
   ]
  },
  {
   "cell_type": "code",
   "execution_count": null,
   "metadata": {},
   "outputs": [],
   "source": [
    "# No need to run it, already checked...\n",
    "\n",
    "# We check that there is no metadata with two ranks\n",
    "def not_one_or_none(salesRank):\n",
    "    count = 0\n",
    "    # If no rank, then false\n",
    "    if salesRank == None:\n",
    "        return 0\n",
    "    for category, rank in salesRank.asDict().items():\n",
    "        if rank != None:\n",
    "            count += 1\n",
    "    return int(count != 1 and count != 0)\n",
    "not_one_or_none = udf(not_one_or_none, IntegerType())\n",
    "not_one_or_none = meta_df.withColumn(\"exactly_one\", not_one_or_none(\"salesRank\")).agg(F.sum(\"exactly_one\").alias(\"sum\")).head()[0]\n",
    "print(\"There is %.d article with not exactly one category for a rank\"%not_one_or_none)"
   ]
  },
  {
   "cell_type": "markdown",
   "metadata": {},
   "source": [
    "We filter the salesRank to have only ranked products. There is two possiblity, either the salesRank is completely none, either the categories are all None. we take care of both cases."
   ]
  },
  {
   "cell_type": "code",
   "execution_count": 16,
   "metadata": {},
   "outputs": [
    {
     "ename": "NameError",
     "evalue": "name 'df_flattened' is not defined",
     "output_type": "error",
     "traceback": [
      "\u001b[0;31m---------------------------------------------------------------------------\u001b[0m",
      "\u001b[0;31mNameError\u001b[0m                                 Traceback (most recent call last)",
      "\u001b[0;32m<ipython-input-16-fd1c38a04ac8>\u001b[0m in \u001b[0;36m<module>\u001b[0;34m()\u001b[0m\n\u001b[0;32m----> 1\u001b[0;31m \u001b[0mfiltered_meta_df\u001b[0m \u001b[0;34m=\u001b[0m \u001b[0mdf_flattened\u001b[0m\u001b[0;34m.\u001b[0m\u001b[0mdropna\u001b[0m\u001b[0;34m(\u001b[0m\u001b[0msubset\u001b[0m\u001b[0;34m=\u001b[0m\u001b[0;34m[\u001b[0m\u001b[0;34m'rank'\u001b[0m\u001b[0;34m,\u001b[0m \u001b[0;34m\"category\"\u001b[0m\u001b[0;34m]\u001b[0m\u001b[0;34m)\u001b[0m\u001b[0;34m\u001b[0m\u001b[0m\n\u001b[0m\u001b[1;32m      2\u001b[0m \u001b[0mfiltered_meta_df\u001b[0m\u001b[0;34m.\u001b[0m\u001b[0mcount\u001b[0m\u001b[0;34m(\u001b[0m\u001b[0;34m)\u001b[0m\u001b[0;34m\u001b[0m\u001b[0m\n",
      "\u001b[0;31mNameError\u001b[0m: name 'df_flattened' is not defined"
     ]
    }
   ],
   "source": [
    "filtered_meta_df = df_flattened.dropna(subset=['rank', \"category\"])\n",
    "filtered_meta_df.count()"
   ]
  },
  {
   "cell_type": "markdown",
   "metadata": {
    "collapsed": true
   },
   "source": [
    "## Question 1: review quantity vs quality "
   ]
  },
  {
   "cell_type": "markdown",
   "metadata": {},
   "source": [
    "Here we explore some metrics related to reviews: a quantitative one - the number of words per review - and a qualitative one - the helpfulness of a review. "
   ]
  },
  {
   "cell_type": "markdown",
   "metadata": {},
   "source": [
    "### Word count\n",
    "Here we count the number of word in a certain review."
   ]
  },
  {
   "cell_type": "code",
   "execution_count": 7,
   "metadata": {},
   "outputs": [
    {
     "name": "stdout",
     "output_type": "stream",
     "text": [
      "+-------+-----------------+\n",
      "|summary|        wordcount|\n",
      "+-------+-----------------+\n",
      "|  count|          3586370|\n",
      "|   mean| 66.7637979349593|\n",
      "| stddev|72.96104458476754|\n",
      "|    min|                1|\n",
      "|    max|             5019|\n",
      "+-------+-----------------+\n",
      "\n",
      "The pearson correlation is -0.090 and the spearman is -0.148\n"
     ]
    }
   ],
   "source": [
    "wordCount = F.udf(lambda text: len(text.split(\" \")), T.IntegerType())\n",
    "\n",
    "df = df_review.withColumn('wordcount', wordCount(df_review[\"reviewText\"]))\n",
    "df.select(\"wordcount\").describe().show()\n",
    "overall = df.select(\"overall\").rdd.map(lambda x: x[0])\n",
    "wordcount = df.select(\"wordcount\").rdd.map(lambda x: x[0])\n",
    "pearson_corr = correlation(df, \"overall\", \"wordcount\", method='pearson')\n",
    "spearman_corr = correlation(df, \"overall\", \"wordcount\", method='spearman')\n",
    "print(\"The pearson correlation is %.3f and the spearman is %.3f\"%(pearson_corr, spearman_corr))"
   ]
  },
  {
   "cell_type": "code",
   "execution_count": 8,
   "metadata": {},
   "outputs": [
    {
     "name": "stdout",
     "output_type": "stream",
     "text": [
      "The pearson correlation is 0.046 and the spearman is 0.037\n"
     ]
    },
    {
     "data": {
      "image/png": "[encoded data removed]",
      "text/plain": [
       "<matplotlib.figure.Figure at 0x10d7665f8>"
      ]
     },
     "metadata": {},
     "output_type": "display_data"
    }
   ],
   "source": [
    "fig, ax = plt.subplots()\n",
    "fig.set_size_inches(8, 5)\n",
    "hist(ax, df.select(\"wordcount\"), log=True);\n",
    "pearson_corr = correlation(df.filter(df.wordcount > 1000), \"overall\", \"wordcount\", method='pearson')\n",
    "spearman_corr = correlation(df.filter(df.wordcount > 1000), \"overall\", \"wordcount\", method='spearman')\n",
    "print(\"The pearson correlation is %.3f and the spearman is %.3f\"%(pearson_corr, spearman_corr))"
   ]
  },
  {
   "cell_type": "markdown",
   "metadata": {},
   "source": [
    "### Helpfulness\n",
    "We get the \"helpfulness\" of a review by computing the ratio of people that found a review helpful and those that voted. If we have no data, we simply put -1 as a ratio."
   ]
  },
  {
   "cell_type": "code",
   "execution_count": 9,
   "metadata": {
    "collapsed": true
   },
   "outputs": [],
   "source": [
    "df_review = df_review.withColumn(\"helpfulness\", F.when(df_review.helpful.getField(1) > 0, df_review.helpful.getField(0)/df_review.helpful.getField(1)).otherwise(-1))"
   ]
  },
  {
   "cell_type": "code",
   "execution_count": 10,
   "metadata": {},
   "outputs": [
    {
     "name": "stdout",
     "output_type": "stream",
     "text": [
      "+-------+------------------+\n",
      "|summary|       helpfulness|\n",
      "+-------+------------------+\n",
      "|  count|           1364262|\n",
      "|   mean|0.7483669013110948|\n",
      "| stddev| 0.364393528067766|\n",
      "|    min|               0.0|\n",
      "|    max|               2.0|\n",
      "+-------+------------------+\n",
      "\n"
     ]
    }
   ],
   "source": [
    "df_review.filter(df_review[\"helpfulness\"] >= 0.0).select(\"helpfulness\").describe().show()"
   ]
  },
  {
   "cell_type": "markdown",
   "metadata": {},
   "source": [
    "There seems to have some discrepancies amongst the ratio, since the max is at 2.0. We will check that it does not occur too often and may drop the data in the future."
   ]
  },
  {
   "cell_type": "code",
   "execution_count": 11,
   "metadata": {},
   "outputs": [
    {
     "name": "stdout",
     "output_type": "stream",
     "text": [
      "+-------+\n",
      "|helpful|\n",
      "+-------+\n",
      "| [2, 1]|\n",
      "| [3, 2]|\n",
      "+-------+\n",
      "\n"
     ]
    }
   ],
   "source": [
    "df_review.filter(df_review[\"helpfulness\"] > 1.0).select(\"helpful\").show()"
   ]
  },
  {
   "cell_type": "markdown",
   "metadata": {},
   "source": [
    "Since only two reviews have problems, we will simply ignore them.\n",
    "\n",
    "We then look at some distribution of helpfulness and rating."
   ]
  },
  {
   "cell_type": "code",
   "execution_count": 12,
   "metadata": {},
   "outputs": [
    {
     "data": {
      "image/png": "[encoded data removed]",
      "text/plain": [
       "<matplotlib.figure.Figure at 0x110c1e3c8>"
      ]
     },
     "metadata": {},
     "output_type": "display_data"
    }
   ],
   "source": [
    "fig, ax = plt.subplots()\n",
    "fig.set_size_inches(8, 5)\n",
    "hist(ax, df_review.filter((df_review[\"helpfulness\"] >= 0.0) & (df_review[\"helpfulness\"] <= 1.0)).select(\"helpfulness\"));"
   ]
  },
  {
   "cell_type": "code",
   "execution_count": 13,
   "metadata": {},
   "outputs": [
    {
     "data": {
      "image/png": "[encoded data removed]",
      "text/plain": [
       "<matplotlib.figure.Figure at 0x111064f98>"
      ]
     },
     "metadata": {},
     "output_type": "display_data"
    }
   ],
   "source": [
    "fig, ax = plt.subplots()\n",
    "fig.set_size_inches(8, 5)\n",
    "hist(ax, df_review.filter((df_review[\"helpfulness\"] >= 0.0) & (df_review[\"helpfulness\"] <= 1.0)).select(\"overall\"));"
   ]
  },
  {
   "cell_type": "code",
   "execution_count": 14,
   "metadata": {},
   "outputs": [
    {
     "data": {
      "text/plain": [
       "0.2506924357740877"
      ]
     },
     "execution_count": 14,
     "metadata": {},
     "output_type": "execute_result"
    }
   ],
   "source": [
    "correlation(df_review.filter((df_review[\"helpfulness\"] >= 0.0) & (df_review[\"helpfulness\"] <= 1.0)), \"overall\", \"helpfulness\")"
   ]
  },
  {
   "cell_type": "markdown",
   "metadata": {},
   "source": [
    "With only these three metrics we aren't able to draw any meaningful conclusion."
   ]
  },
  {
   "cell_type": "markdown",
   "metadata": {},
   "source": [
    "Here we compute the correlation between a product ranking and -respectively - the number of reviews it has, the average of the reviews helpfulness, the average of the reviews ranking."
   ]
  },
  {
   "cell_type": "code",
   "execution_count": 18,
   "metadata": {},
   "outputs": [
    {
     "name": "stdout",
     "output_type": "stream",
     "text": [
      "-0.04157114441441377 0.019204825322910162 -0.015419679531976609\n"
     ]
    }
   ],
   "source": [
    "output_df = meta_df[['asin', 'rank']]\n",
    "\n",
    "joined_df = meta_df.join(df_review, 'asin')\n",
    "grouped_df = joined_df.groupBy('asin')\n",
    "\n",
    "review_count_df = grouped_df.count()\n",
    "mean_helpfulness_df = grouped_df.mean('helpfulness', 'overall')\n",
    "output_df = output_df.join(review_count_df, 'asin').join(mean_helpfulness_df, 'asin')\n",
    "rank_count_correlation = output_df.corr('rank', 'count', method='pearson')\n",
    "rank_helpfulness_correlation = output_df.corr('rank', 'avg(helpfulness)', method='pearson')\n",
    "rank_overall_correlation = output_df.corr('rank', 'avg(overall)', method='pearson')\n",
    "print(rank_count_correlation, rank_helpfulness_correlation, rank_overall_correlation)"
   ]
  },
  {
   "cell_type": "markdown",
   "metadata": {},
   "source": [
    "## Question 2: influence of reviewer personality"
   ]
  },
  {
   "cell_type": "markdown",
   "metadata": {},
   "source": [
    "We get the count of review of distinct article per reviewer and filter those that have less than 5 review."
   ]
  },
  {
   "cell_type": "code",
   "execution_count": 19,
   "metadata": {
    "collapsed": true
   },
   "outputs": [],
   "source": [
    "df_count = df_review.groupBy(\"reviewerID\").agg(F.countDistinct(\"asin\").alias('count')).filter(\"`count` >= 5\")"
   ]
  },
  {
   "cell_type": "markdown",
   "metadata": {},
   "source": [
    "We get all reviews of reviewers with more than 5 articles."
   ]
  },
  {
   "cell_type": "code",
   "execution_count": 20,
   "metadata": {},
   "outputs": [
    {
     "name": "stdout",
     "output_type": "stream",
     "text": [
      "We have 996378, i.e. 0.278% of review who belongs to reviewer with 5 or more reviews\n"
     ]
    }
   ],
   "source": [
    "df_filtered = df_review.join(df_count, on='reviewerID').drop('count')\n",
    "num_five_reviews = df_filtered.count()\n",
    "print(\"We have %.d, i.e. %.3f%% of review who belongs to reviewer with 5 or more reviews\"%(num_five_reviews, num_five_reviews/num_reviews))"
   ]
  },
  {
   "cell_type": "markdown",
   "metadata": {},
   "source": [
    "We compute the average grade for each reviewer."
   ]
  },
  {
   "cell_type": "code",
   "execution_count": 21,
   "metadata": {},
   "outputs": [
    {
     "data": {
      "text/plain": [
       "109193"
      ]
     },
     "execution_count": 21,
     "metadata": {},
     "output_type": "execute_result"
    }
   ],
   "source": [
    "average_std_score = df_filtered.groupBy(\"reviewerID\").agg(F.avg(\"overall\").alias(\"mean\"), F.stddev(\"overall\").alias(\"std\"))\n",
    "average_std_score.cache().count()"
   ]
  },
  {
   "cell_type": "markdown",
   "metadata": {},
   "source": [
    "Here are some statistic concerning the average grade for each reviewer.\n",
    "\n",
    "The first row contains the total number of reviewer considered.\n",
    "\n",
    "The second row contains the mean of the reviewers' averages grades (left) and the standard deviation of said mean (right).\n",
    "\n",
    "The third row contains the mean of the reviewers' standard deviations (left) and the standard deviation of said mean (right).\n",
    "\n",
    "The fourth row contains the mean of the reviewer's lower grades (left) and the standard deviation of said mean (right).\n",
    "\n",
    "The fourth row contains the mean of the reviewer's higher grades (left) and the standard deviation of said mean (right)."
   ]
  },
  {
   "cell_type": "code",
   "execution_count": 22,
   "metadata": {},
   "outputs": [
    {
     "name": "stdout",
     "output_type": "stream",
     "text": [
      "+-------+------------------+------------------+\n",
      "|summary|              mean|               std|\n",
      "+-------+------------------+------------------+\n",
      "|  count|            109193|            109193|\n",
      "|   mean|4.2834718157516365|0.9022456674075624|\n",
      "| stddev|0.6049040387948184|0.5699621176391938|\n",
      "|    min|               1.0|               0.0|\n",
      "|    max|               5.0|2.1908902300206647|\n",
      "+-------+------------------+------------------+\n",
      "\n"
     ]
    }
   ],
   "source": [
    "average_std_score.select(\"mean\", \"std\").describe().show()"
   ]
  },
  {
   "cell_type": "markdown",
   "metadata": {},
   "source": [
    "We then plot the average grade for each reviewer through histograms, with the grade on the x-axys and the number of reviewers who have such mean ranking on the y-axis."
   ]
  },
  {
   "cell_type": "code",
   "execution_count": 23,
   "metadata": {},
   "outputs": [
    {
     "data": {
      "image/png": "[encoded data removed]",
      "text/plain": [
       "<matplotlib.figure.Figure at 0x11134a2b0>"
      ]
     },
     "metadata": {},
     "output_type": "display_data"
    }
   ],
   "source": [
    "fig, ax = plt.subplots()\n",
    "fig.set_size_inches(8, 5)\n",
    "hist(ax, average_std_score.select(\"mean\"));"
   ]
  },
  {
   "cell_type": "markdown",
   "metadata": {},
   "source": [
    "It can be noted that reviewers tend to give high ratings."
   ]
  },
  {
   "cell_type": "markdown",
   "metadata": {},
   "source": [
    "We then plot the average standard deviation for each reviewer through histograms, with the grade on the x-axys and the number of reviewers who have such average standard deviation on the y-axis."
   ]
  },
  {
   "cell_type": "code",
   "execution_count": 24,
   "metadata": {},
   "outputs": [
    {
     "data": {
      "image/png": "[encoded data removed]",
      "text/plain": [
       "<matplotlib.figure.Figure at 0x1113cce80>"
      ]
     },
     "metadata": {},
     "output_type": "display_data"
    }
   ],
   "source": [
    "fig, ax = plt.subplots()\n",
    "fig.set_size_inches(8, 5)\n",
    "hist(ax, average_std_score.select(\"std\"));"
   ]
  },
  {
   "cell_type": "markdown",
   "metadata": {},
   "source": [
    "It can be noted that the majority of reviewers tend to have either a very small standard deviation (0-0.25) or a standard deviation between 0.5 and 1.5. The number of people with an higher standard deviation are sensibily less."
   ]
  },
  {
   "cell_type": "markdown",
   "metadata": {},
   "source": [
    "Here, we look at the mean of the ratings given by reviewer with small (<0.25) standard deviation.\n",
    "We also look at what percentage of reviewer they correspond."
   ]
  },
  {
   "cell_type": "code",
   "execution_count": 25,
   "metadata": {},
   "outputs": [
    {
     "name": "stdout",
     "output_type": "stream",
     "text": [
      "There is 14.72% of reviewer with std < 0.25\n"
     ]
    },
    {
     "data": {
      "image/png": "[encoded data removed]",
      "text/plain": [
       "<matplotlib.figure.Figure at 0x11134a1d0>"
      ]
     },
     "metadata": {},
     "output_type": "display_data"
    }
   ],
   "source": [
    "print(\"There is %.2f%% of reviewer with std < 0.25\"%(average_std_score.filter(average_std_score.std < 0.25).count()/average_std_score.count()*100))\n",
    "fig, ax = plt.subplots()\n",
    "fig.set_size_inches(8, 5)\n",
    "hist(ax, average_std_score.filter(average_std_score.std < 0.25).select(\"mean\"));"
   ]
  },
  {
   "cell_type": "markdown",
   "metadata": {},
   "source": [
    "It can be noted that people with a small standard deviation, i.e. people who tend to always give the same rating, tend to give only very high rating (>4.5)."
   ]
  },
  {
   "cell_type": "markdown",
   "metadata": {},
   "source": [
    "In conclusion, we have hints that there's a certain bias related to reviewers' personality and habits. \n",
    "The fact that the mean of the average reviewer rating is so high for example could make us think that people tend to rate the product they're satisfied with and not those they're unsastisfied with.\n",
    "The fact that the reviewers with little standard deviation tend to give high ratings also speaks in that direction."
   ]
  },
  {
   "cell_type": "markdown",
   "metadata": {},
   "source": [
    "## Question 3: Brand fidelity/hate"
   ]
  },
  {
   "cell_type": "markdown",
   "metadata": {},
   "source": [
    "We load the metadata datas and only keep the article number and the brand that are not null, since we are interested in brands.\n",
    "\n",
    "We then join the dataframe of reviews with the metadata and display some stats."
   ]
  },
  {
   "cell_type": "code",
   "execution_count": 26,
   "metadata": {},
   "outputs": [
    {
     "name": "stdout",
     "output_type": "stream",
     "text": [
      "We have 599153, which represents 0.167% of review with a brand and who belongs to reviewer with 5 or more reviews\n",
      "We have 0.601% of review amongst those who belongs to reviewer with 5 or more reviews that have a brand \n"
     ]
    }
   ],
   "source": [
    "df_meta = sqlContext.read.json(\"meta_auto_baby_grocery.json\")\n",
    "df_meta_brand = df_meta.select(\"asin\", \"brand\").dropna()\n",
    "\n",
    "df_with_brand = df_filtered.join(df_meta_brand, on='asin')\n",
    "num_reviews_with_brand = df_with_brand.count()\n",
    "\n",
    "print(\"We have %.d, which represents %.3f%% of review with a brand and who belongs to reviewer with 5 or more reviews\"%(num_reviews_with_brand, num_reviews_with_brand/num_reviews))\n",
    "print(\"We have %.3f%% of review amongst those who belongs to reviewer with 5 or more reviews that have a brand \"%(num_reviews_with_brand/num_five_reviews))"
   ]
  },
  {
   "cell_type": "markdown",
   "metadata": {},
   "source": [
    "We can see that once again we loose a lot of reviews with this approach, but it is still an interesting number to work with.\n",
    "\n",
    "Then we group by brand and reviewer, compute some stats and filter out all reviewers that have less than 5 reviews for a specific brand."
   ]
  },
  {
   "cell_type": "code",
   "execution_count": 27,
   "metadata": {},
   "outputs": [
    {
     "name": "stdout",
     "output_type": "stream",
     "text": [
      "We have 1602 brand/reviewers tuples\n"
     ]
    }
   ],
   "source": [
    "df_brand_reviewer = df_with_brand.groupBy([\"brand\", \"reviewerID\"]).agg(F.count(\"overall\").alias(\"count\"), F.avg(\"overall\").alias(\"mean\"), F.stddev(\"overall\").alias(\"std\")).filter(\"`count` >= 5\")\n",
    "brand_reviewers_count = df_brand_reviewer.cache().count()\n",
    "print(\"We have %.d brand/reviewers tuples\"%(brand_reviewers_count))"
   ]
  },
  {
   "cell_type": "markdown",
   "metadata": {},
   "source": [
    "We then show some stats about the mean and std."
   ]
  },
  {
   "cell_type": "code",
   "execution_count": 28,
   "metadata": {},
   "outputs": [
    {
     "name": "stdout",
     "output_type": "stream",
     "text": [
      "+-------+------------------+------------------+------------------+\n",
      "|summary|             count|              mean|               std|\n",
      "+-------+------------------+------------------+------------------+\n",
      "|  count|              1602|              1602|              1602|\n",
      "|   mean| 6.300249687890138| 4.508185595174844|0.5331499357349924|\n",
      "| stddev|2.4612651820035443|0.6345228590350631|0.5522432344415494|\n",
      "|    min|                 5|               1.0|               0.0|\n",
      "|    max|                36|               5.0|2.1908902300206643|\n",
      "+-------+------------------+------------------+------------------+\n",
      "\n"
     ]
    },
    {
     "data": {
      "image/png": "[encoded data removed]",
      "text/plain": [
       "<matplotlib.figure.Figure at 0x1113f1358>"
      ]
     },
     "metadata": {},
     "output_type": "display_data"
    },
    {
     "data": {
      "image/png": "[encoded data removed]",
      "text/plain": [
       "<matplotlib.figure.Figure at 0x1113f1470>"
      ]
     },
     "metadata": {},
     "output_type": "display_data"
    }
   ],
   "source": [
    "df_brand_reviewer.select(\"count\", \"mean\", \"std\").describe().show()\n",
    "fig, ax = plt.subplots()\n",
    "fig.set_size_inches(8, 5)\n",
    "hist(ax, df_brand_reviewer.select(\"mean\"));\n",
    "fig, ax = plt.subplots()\n",
    "fig.set_size_inches(8, 5)\n",
    "hist(ax, df_brand_reviewer.select(\"std\"));"
   ]
  },
  {
   "cell_type": "markdown",
   "metadata": {},
   "source": [
    "By comparing qualitatively (we will do a more precise analysis in milestone 3) those graphs with the one from Question 2, we can see that the ratings seems to be having less deviation, showing a tendency to love/hate toward a brand.\n",
    "\n",
    "We try to see if there is an obvious correlation between number of reviews for a brand and the mean rate:"
   ]
  },
  {
   "cell_type": "code",
   "execution_count": 29,
   "metadata": {},
   "outputs": [
    {
     "name": "stdout",
     "output_type": "stream",
     "text": [
      "The pearson correlation is 0.038 and the spearman is 0.018\n"
     ]
    }
   ],
   "source": [
    "pearson_corr = correlation(df_brand_reviewer, \"count\", \"mean\", method='pearson')\n",
    "spearman_corr = correlation(df_brand_reviewer, \"count\", \"mean\", method='spearman')\n",
    "print(\"The pearson correlation is %.3f and the spearman is %.3f\"%(pearson_corr, spearman_corr))"
   ]
  },
  {
   "cell_type": "markdown",
   "metadata": {},
   "source": [
    "At first sight, we cannot see an obvious relationship, however, we will do a more refined analysis in the next milestone."
   ]
  },
  {
   "cell_type": "markdown",
   "metadata": {},
   "source": [
    "Compute the total number of products."
   ]
  },
  {
   "cell_type": "code",
   "execution_count": 30,
   "metadata": {},
   "outputs": [
    {
     "data": {
      "text/plain": [
       "574167"
      ]
     },
     "execution_count": 30,
     "metadata": {},
     "output_type": "execute_result"
    }
   ],
   "source": [
    "total_products = meta_df.count()\n",
    "total_products"
   ]
  },
  {
   "cell_type": "markdown",
   "metadata": {},
   "source": [
    "Compute the ratio between ranked and total products."
   ]
  },
  {
   "cell_type": "code",
   "execution_count": 33,
   "metadata": {},
   "outputs": [
    {
     "name": "stdout",
     "output_type": "stream",
     "text": [
      "ranked_products: 574167 total products: 574167 ratio: 1.0\n"
     ]
    }
   ],
   "source": [
    "ranked_products = meta_df.count()\n",
    "ranked_products\n",
    "ratio = ranked_products/total_products\n",
    "print(\"ranked_products: \" + str(ranked_products) + \" total products: \" + str(total_products) + \" ratio: \" + str(ratio))"
   ]
  },
  {
   "cell_type": "markdown",
   "metadata": {},
   "source": [
    "We can notice that in this restricted dataset less than one third of the products is ranked, a fact that makes our rank-based analysis less representative. "
   ]
  },
  {
   "cell_type": "markdown",
   "metadata": {},
   "source": [
    "We now check that there is exactly one category that has a sales rank."
   ]
  },
  {
   "cell_type": "markdown",
   "metadata": {},
   "source": [
    "## Question 4: influence of 'also bought' feature"
   ]
  },
  {
   "cell_type": "markdown",
   "metadata": {},
   "source": [
    "I'll begin by focusing on the 'bought together' feature and not on the 'also bought' feature right away.\n",
    "This both because the former is more relevant to the question and because it scales better: 'also bought' tends to be a very long list of products while 'bought together' is usually much shorter and easier to analyze."
   ]
  },
  {
   "cell_type": "markdown",
   "metadata": {},
   "source": [
    "In order to answer question 4, it is possible to use the following approach:\n",
    "1. Find the best ranked products for each category.\n",
    "2. look at the rank of the products that were bought together with them.\n",
    "3. draw  qualitative conclusions."
   ]
  },
  {
   "cell_type": "markdown",
   "metadata": {},
   "source": [
    "First we select the interesting columns of the metadata dataframe, flattening the hierarchical datastructure in the process."
   ]
  },
  {
   "cell_type": "markdown",
   "metadata": {},
   "source": [
    "Then we define a function that allows to find in which category a product has been ranked."
   ]
  },
  {
   "cell_type": "code",
   "execution_count": 36,
   "metadata": {
    "collapsed": true
   },
   "outputs": [],
   "source": [
    "def explode_and_join(column_to_explode):\n",
    "    q4_meta_df = meta_df.select(\"asin\", \"rank\", F.explode(column_to_explode).alias(\"paired_product\")).dropna(how='any')\n",
    "    q4_joined_meta_df = q4_meta_df.alias(\"df1\").join(q4_meta_df.alias(\"df2\").select(F.col(\"asin\").alias(\"paired_asin\"), F.col(\"rank\").alias(\"paired_rank\")), F.col(\"paired_product\") == F.col(\"paired_asin\"), \"inner\")\n",
    "    return q4_joined_meta_df"
   ]
  },
  {
   "cell_type": "code",
   "execution_count": 37,
   "metadata": {},
   "outputs": [
    {
     "data": {
      "text/plain": [
       "0.39795520414377067"
      ]
     },
     "execution_count": 37,
     "metadata": {},
     "output_type": "execute_result"
    }
   ],
   "source": [
    "bought_together_df = explode_and_join(\"bought_together\")\n",
    "rank_bought_together_correlation = bought_together_df.corr('rank', 'paired_rank', method='pearson')\n",
    "rank_bought_together_correlation"
   ]
  },
  {
   "cell_type": "code",
   "execution_count": 38,
   "metadata": {},
   "outputs": [
    {
     "data": {
      "text/plain": [
       "0.1396220471310883"
      ]
     },
     "execution_count": 38,
     "metadata": {},
     "output_type": "execute_result"
    }
   ],
   "source": [
    "also_bought_df = explode_and_join(\"also_bought\")\n",
    "rank_also_bought_correlation = also_bought_df.corr('rank', 'paired_rank', method='pearson')\n",
    "rank_also_bought_correlation"
   ]
  },
  {
   "cell_type": "markdown",
   "metadata": {},
   "source": [
    "It can be noted that products with very different rankings were bought together.\n",
    "This means that question 4 might indeed make sense, there might be \"good\" product that improve the sales of \"bad\" products. As of now \"good\" means \"popular\" and bad means \"unpopolar\", but the definition might change when we delve even further into the data."
   ]
  },
  {
   "cell_type": "markdown",
   "metadata": {},
   "source": [
    "## Question 5: rank/review ratio"
   ]
  },
  {
   "cell_type": "markdown",
   "metadata": {},
   "source": [
    "The approach for question 5 is the following:\n",
    "1. For each rank category, take the 5 best ranked products\n",
    "2. look in the review table and see how many review were made for each product\n",
    "3. Print the values and try to qualitatevely interpet. "
   ]
  },
  {
   "cell_type": "markdown",
   "metadata": {},
   "source": [
    "Here we apply the described pipeline."
   ]
  },
  {
   "cell_type": "code",
   "execution_count": 43,
   "metadata": {},
   "outputs": [
    {
     "data": {
      "text/plain": [
       "-0.10289132033392873"
      ]
     },
     "execution_count": 43,
     "metadata": {},
     "output_type": "execute_result"
    }
   ],
   "source": [
    "q5_meta_df = meta_df.select(\"asin\", \"rank\").dropna(how='any')\n",
    "review_count_per_product = q5_meta_df.join(df_review, \"asin\").groupby(\"asin\", \"rank\").count()\n",
    "corr = review_count_per_product.corr(\"rank\", \"count\", method ='pearson')\n",
    "corr"
   ]
  },
  {
   "cell_type": "markdown",
   "metadata": {},
   "source": [
    "There's doesn't seem to be any correlation between the number of reviews associated to a product and its sales ranking according to these results, which don't hint at a linear relationship between number of reviews and sales."
   ]
  },
  {
   "cell_type": "markdown",
   "metadata": {},
   "source": [
    "## Question 6: product categorization"
   ]
  },
  {
   "cell_type": "code",
   "execution_count": 45,
   "metadata": {},
   "outputs": [
    {
     "name": "stdout",
     "output_type": "stream",
     "text": [
      "+--------------------+-------+\n",
      "|            category|  count|\n",
      "+--------------------+-------+\n",
      "|Grocery & Gourmet...|1094187|\n",
      "|          Automotive| 110027|\n",
      "|           Beverages|  25027|\n",
      "|   Tools & Equipment|  20554|\n",
      "|Motorcycle & Powe...|  20183|\n",
      "|    Cooking & Baking|  18971|\n",
      "|     Protective Gear|  15626|\n",
      "|Interior Accessories|  14895|\n",
      "|            Car Care|  13537|\n",
      "|Canned, Dry & Pac...|  12541|\n",
      "|Exterior Accessories|  11115|\n",
      "|   Replacement Parts|  10671|\n",
      "|                 Tea|  10149|\n",
      "|       Oils & Fluids|   8769|\n",
      "|Herbs, Spices & S...|   8668|\n",
      "|RV Parts & Access...|   8321|\n",
      "|Jump Starters, Ba...|   7603|\n",
      "|         Accessories|   6513|\n",
      "|                Oils|   6320|\n",
      "|Single Herbs & Sp...|   5600|\n",
      "+--------------------+-------+\n",
      "only showing top 20 rows\n",
      "\n"
     ]
    }
   ],
   "source": [
    "def explode_categories():\n",
    "    q6_meta_df = meta_df.select(\"asin\", \"rank\", F.explode(\"categories\").alias(\"category\")).select(\"asin\", \"rank\", F.explode(\"category\").alias(\"category\")).dropna(how='any')\n",
    "    review_count_per_category = q6_meta_df.join(df_review, \"asin\").groupby(\"category\").count()\n",
    "    review_count_per_category = review_count_per_category.orderBy(\"count\", ascending = False)\n",
    "    return review_count_per_category\n",
    "    \n",
    "review_count_per_category = explode_categories()\n",
    "review_count_per_category.show()"
   ]
  },
  {
   "cell_type": "markdown",
   "metadata": {
    "collapsed": true
   },
   "source": [
    "# TO DO FOR MILESTONE 3 "
   ]
  },
  {
   "cell_type": "markdown",
   "metadata": {},
   "source": [
    "## Question 1 "
   ]
  },
  {
   "cell_type": "markdown",
   "metadata": {},
   "source": [
    "Find metrics allowing to draw meaningful conclusions."
   ]
  },
  {
   "cell_type": "markdown",
   "metadata": {},
   "source": [
    "## Question 2"
   ]
  },
  {
   "cell_type": "markdown",
   "metadata": {},
   "source": [
    "Better quantify the bias of the reviewer by analysing other aspects "
   ]
  },
  {
   "cell_type": "markdown",
   "metadata": {},
   "source": [
    "## Question 3"
   ]
  },
  {
   "cell_type": "markdown",
   "metadata": {},
   "source": [
    "Further delve into the data to produce a coherent conclusion."
   ]
  },
  {
   "cell_type": "markdown",
   "metadata": {},
   "source": [
    "## Question 4"
   ]
  },
  {
   "cell_type": "markdown",
   "metadata": {},
   "source": [
    "Further delve into the data and formally describe the relation between the 'also bought' and 'bought together' features as well as the meaning of a \"good\" and \"bad\" product, which as of now is associated to popularity. \n",
    "Also substitute the print based approach with a more complex one.\n",
    "\n",
    "Draw formally correct conclusion with regard to the influence of the 'also_bought' feature on sales."
   ]
  },
  {
   "cell_type": "markdown",
   "metadata": {},
   "source": [
    "## Question 5"
   ]
  },
  {
   "cell_type": "markdown",
   "metadata": {},
   "source": [
    "Confirm the conclusion by working on the whole dataset through the cluster and substitute the print based approach with a more complex one. "
   ]
  },
  {
   "cell_type": "markdown",
   "metadata": {},
   "source": [
    "## Question 6 "
   ]
  },
  {
   "cell_type": "markdown",
   "metadata": {},
   "source": [
    "Confirm the conclusion by working on the whole dataset through the cluster and substitute the dictionary based approach with a more complex one. "
   ]
  },
  {
   "cell_type": "markdown",
   "metadata": {},
   "source": [
    "## Refine analysis"
   ]
  },
  {
   "cell_type": "markdown",
   "metadata": {},
   "source": [
    "Eventually find new question related to reviews and answer them."
   ]
  },
  {
   "cell_type": "markdown",
   "metadata": {},
   "source": [
    "## Final Conclusion"
   ]
  },
  {
   "cell_type": "markdown",
   "metadata": {},
   "source": [
    "produce a clear description of the characteristic of an amazon review: how can review be in interpreted in the complex system that is Amazon?"
   ]
  },
  {
   "cell_type": "markdown",
   "metadata": {},
   "source": [
    "## Report"
   ]
  },
  {
   "cell_type": "markdown",
   "metadata": {},
   "source": [
    "sum up the results of the research in a 4-page report."
   ]
  },
  {
   "cell_type": "markdown",
   "metadata": {},
   "source": [
    "## Poster"
   ]
  },
  {
   "cell_type": "markdown",
   "metadata": {},
   "source": [
    "design a poster to present the results of our research."
   ]
  }
 ],
 "metadata": {
  "kernelspec": {
   "display_name": "Python [default]",
   "language": "python",
   "name": "python3"
  },
  "language_info": {
   "codemirror_mode": {
    "name": "ipython",
    "version": 3
   },
   "file_extension": ".py",
   "mimetype": "text/x-python",
   "name": "python",
   "nbconvert_exporter": "python",
   "pygments_lexer": "ipython3",
   "version": "3.5.3"
  }
 },
 "nbformat": 4,
 "nbformat_minor": 2
}
