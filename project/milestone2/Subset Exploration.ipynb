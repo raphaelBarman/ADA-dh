{
 "cells": [
  {
   "cell_type": "code",
   "execution_count": 1,
   "metadata": {
    "collapsed": true
   },
   "outputs": [],
   "source": [
    "import os\n",
    "import findspark\n",
    "os.environ['SPARK_HOME'] = '/usr/local/Cellar/apache-spark/2.2.0/libexec/'\n",
    "findspark.init()\n",
    "from pyspark import SQLContext, SparkContext\n",
    "from pyspark.sql import functions as F\n",
    "import json\n",
    "import numpy as np\n",
    "\n",
    "from pyspark_dist_explore import hist\n",
    "import seaborn as sns\n",
    "import matplotlib.pyplot as plt\n",
    "%matplotlib inline"
   ]
  },
  {
   "cell_type": "code",
   "execution_count": 2,
   "metadata": {
    "collapsed": true
   },
   "outputs": [],
   "source": [
    "sc = SparkContext()\n",
    "sqlContext = SQLContext(sc)"
   ]
  },
  {
   "cell_type": "markdown",
   "metadata": {},
   "source": [
    "We load the data from the json file. The data is a small subset containing only items from the following categories:\n",
    "\"Baby\", \"Automotive\" and \"Grocery and Gourmet Food\"."
   ]
  },
  {
   "cell_type": "code",
   "execution_count": 3,
   "metadata": {},
   "outputs": [],
   "source": [
    "review_df = sqlContext.read.json(\"reviews_auto_baby_grocery.json\")"
   ]
  },
  {
   "cell_type": "markdown",
   "metadata": {},
   "source": [
    "We get the count of review of distinc article per reviewer and filter those that have less than 5 review."
   ]
  },
  {
   "cell_type": "code",
   "execution_count": 4,
   "metadata": {
    "collapsed": true
   },
   "outputs": [],
   "source": [
    "review_df_count = review_df.groupBy(\"reviewerID\").agg(F.countDistinct(\"asin\").alias('count')).filter(\"`count` >= 5\")"
   ]
  },
  {
   "cell_type": "markdown",
   "metadata": {},
   "source": [
    "We get all reviews of reviewers with more than 5 articles."
   ]
  },
  {
   "cell_type": "code",
   "execution_count": 5,
   "metadata": {
    "collapsed": true
   },
   "outputs": [],
   "source": [
    "review_df_filtered = review_df.join(review_df_count, on='reviewerID').drop('count')"
   ]
  },
  {
   "cell_type": "markdown",
   "metadata": {},
   "source": [
    "We compute the average grade for each reviewer."
   ]
  },
  {
   "cell_type": "code",
   "execution_count": 6,
   "metadata": {
    "collapsed": true
   },
   "outputs": [],
   "source": [
    "average_score = review_df_filtered.groupBy(\"reviewerID\").avg(\"overall\").select(\"avg(overall)\")"
   ]
  },
  {
   "cell_type": "code",
   "execution_count": 7,
   "metadata": {},
   "outputs": [
    {
     "data": {
      "text/plain": [
       "109193"
      ]
     },
     "execution_count": 7,
     "metadata": {},
     "output_type": "execute_result"
    }
   ],
   "source": [
    "average_std_score = review_df_filtered.groupBy(\"reviewerID\").agg(F.avg(\"overall\").alias(\"mean\"), F.stddev(\"overall\").alias(\"std\"))\n",
    "average_std_score.cache().count()"
   ]
  },
  {
   "cell_type": "code",
   "execution_count": 8,
   "metadata": {},
   "outputs": [
    {
     "name": "stdout",
     "output_type": "stream",
     "text": [
      "+-------+------------------+------------------+\n",
      "|summary|              mean|               std|\n",
      "+-------+------------------+------------------+\n",
      "|  count|            109193|            109193|\n",
      "|   mean|4.2834718157516365|0.9022456674075624|\n",
      "| stddev|0.6049040387948184|0.5699621176391938|\n",
      "|    min|               1.0|               0.0|\n",
      "|    max|               5.0|2.1908902300206647|\n",
      "+-------+------------------+------------------+\n",
      "\n"
     ]
    }
   ],
   "source": [
    "average_std_score.select(\"mean\", \"std\").describe().show()"
   ]
  },
  {
   "cell_type": "code",
   "execution_count": 9,
   "metadata": {},
   "outputs": [
    {
     "data": {
      "image/png": "[encoded data removed]",
      "text/plain": [
       "<matplotlib.figure.Figure at 0x115334898>"
      ]
     },
     "metadata": {},
     "output_type": "display_data"
    }
   ],
   "source": [
    "fig, ax = plt.subplots()\n",
    "fig.set_size_inches(10, 10)\n",
    "hist(ax, average_std_score.select(\"mean\"));"
   ]
  },
  {
   "cell_type": "code",
   "execution_count": 10,
   "metadata": {},
   "outputs": [
    {
     "data": {
      "image/png": "[encoded data removed]",
      "text/plain": [
       "<matplotlib.figure.Figure at 0x11899ada0>"
      ]
     },
     "metadata": {},
     "output_type": "display_data"
    }
   ],
   "source": [
    "fig, ax = plt.subplots()\n",
    "fig.set_size_inches(10, 10)\n",
    "hist(ax, average_std_score.select(\"std\"));"
   ]
  },
  {
   "cell_type": "markdown",
   "metadata": {},
   "source": [
    "Here, we look at the mean of the ratings given by reviewer with small (<0.25) standard deviation.\n",
    "We also look at what percentage of reviewer they correspond."
   ]
  },
  {
   "cell_type": "code",
   "execution_count": 11,
   "metadata": {},
   "outputs": [
    {
     "name": "stdout",
     "output_type": "stream",
     "text": [
      "There is 14.72% of reviewer with std < 0.25\n"
     ]
    },
    {
     "data": {
      "image/png": "[encoded data removed]",
      "text/plain": [
       "<matplotlib.figure.Figure at 0x1189e50b8>"
      ]
     },
     "metadata": {},
     "output_type": "display_data"
    }
   ],
   "source": [
    "print(\"There is %.2f%% of reviewer with std < 0.25\"%(average_std_score.filter(average_std_score.std < 0.25).count()/average_std_score.count()*100))\n",
    "fig, ax = plt.subplots()\n",
    "fig.set_size_inches(10, 10)\n",
    "hist(ax, average_std_score.filter(average_std_score.std < 0.25).select(\"mean\"));"
   ]
  },
  {
   "cell_type": "markdown",
   "metadata": {},
   "source": [
    "Loading product's metadata."
   ]
  },
  {
   "cell_type": "code",
   "execution_count": 12,
   "metadata": {
    "collapsed": true
   },
   "outputs": [],
   "source": [
    "meta_df = sqlContext.read.json(\"meta_auto_baby_grocery.json\")"
   ]
  },
  {
   "cell_type": "markdown",
   "metadata": {},
   "source": [
    "Compute the total number of products."
   ]
  },
  {
   "cell_type": "code",
   "execution_count": 13,
   "metadata": {},
   "outputs": [
    {
     "data": {
      "text/plain": [
       "574167"
      ]
     },
     "execution_count": 13,
     "metadata": {},
     "output_type": "execute_result"
    }
   ],
   "source": [
    "total_products = meta_df.count()\n",
    "total_products"
   ]
  },
  {
   "cell_type": "markdown",
   "metadata": {},
   "source": [
    "Remove products that aren't ranked."
   ]
  },
  {
   "cell_type": "code",
   "execution_count": 14,
   "metadata": {
    "collapsed": true
   },
   "outputs": [],
   "source": [
    "filtered_meta_df = meta_df.dropna(subset=['salesRank'])"
   ]
  },
  {
   "cell_type": "markdown",
   "metadata": {},
   "source": [
    "Compute the ratio between ranked and total products."
   ]
  },
  {
   "cell_type": "markdown",
   "metadata": {},
   "source": [
    "Obtain the names of the rank categories."
   ]
  },
  {
   "cell_type": "code",
   "execution_count": 15,
   "metadata": {},
   "outputs": [
    {
     "name": "stdout",
     "output_type": "stream",
     "text": [
      "ranked_products: 160406 total products: 574167 ratio: 0.27937168106143334\n"
     ]
    }
   ],
   "source": [
    "ranked_products = filtered_meta_df.count()\n",
    "ranked_products\n",
    "ratio = ranked_products/total_products\n",
    "print(\"ranked_products: \" + str(ranked_products) + \" total products: \" + str(total_products) + \" ratio: \" + str(ratio))"
   ]
  },
  {
   "cell_type": "code",
   "execution_count": 16,
   "metadata": {
    "collapsed": true
   },
   "outputs": [],
   "source": [
    "rank_categories = filtered_meta_df.head().salesRank.asDict().keys()"
   ]
  },
  {
   "cell_type": "markdown",
   "metadata": {},
   "source": [
    "For each rank category, take the 5 best ranked products, look in the review table and see how many review were made for each product. Save the values and try to interpet. This part could be expanded."
   ]
  },
  {
   "cell_type": "code",
   "execution_count": 17,
   "metadata": {},
   "outputs": [
    {
     "name": "stdout",
     "output_type": "stream",
     "text": [
      "There are 1 reviews for the product ranked 1 in the category Cell Phones & Accessories\n",
      "There are 1 reviews for the product ranked 2 in the category Cell Phones & Accessories\n",
      "There are 8 reviews for the product ranked 3 in the category Cell Phones & Accessories\n",
      "There are 2 reviews for the product ranked 4 in the category Cell Phones & Accessories\n",
      "There are 1 reviews for the product ranked 5 in the category Cell Phones & Accessories\n",
      "There are 2 reviews for the product ranked 1 in the category Electronics\n",
      "There are 1 reviews for the product ranked 2 in the category Electronics\n",
      "There are 1 reviews for the product ranked 3 in the category Electronics\n",
      "There are 1 reviews for the product ranked 4 in the category Electronics\n",
      "There are 3 reviews for the product ranked 5 in the category Electronics\n",
      "There are 1 reviews for the product ranked 1 in the category Clothing\n",
      "There are 1 reviews for the product ranked 2 in the category Clothing\n",
      "There are 2 reviews for the product ranked 3 in the category Clothing\n",
      "There are 1 reviews for the product ranked 4 in the category Clothing\n",
      "There are 1 reviews for the product ranked 5 in the category Clothing\n",
      "There are 1 reviews for the product ranked 1 in the category Beauty\n",
      "There are 1 reviews for the product ranked 2 in the category Beauty\n",
      "There are 1 reviews for the product ranked 3 in the category Beauty\n",
      "There are 1 reviews for the product ranked 4 in the category Beauty\n",
      "There are 1 reviews for the product ranked 5 in the category Beauty\n",
      "There are 1 reviews for the product ranked 1 in the category Shoes\n",
      "There are 4 reviews for the product ranked 2 in the category Shoes\n",
      "There are 1 reviews for the product ranked 3 in the category Shoes\n",
      "There are 1 reviews for the product ranked 4 in the category Shoes\n",
      "There are 1 reviews for the product ranked 5 in the category Shoes\n",
      "There are 1 reviews for the product ranked 1 in the category Watches\n",
      "There are 1 reviews for the product ranked 2 in the category Watches\n",
      "There are 1 reviews for the product ranked 3 in the category Watches\n",
      "There are 1 reviews for the product ranked 4 in the category Watches\n",
      "There are 1 reviews for the product ranked 5 in the category Watches\n",
      "There are 1 reviews for the product ranked 1 in the category Computers & Accessories\n",
      "There are 1 reviews for the product ranked 2 in the category Computers & Accessories\n",
      "There are 1 reviews for the product ranked 3 in the category Computers & Accessories\n",
      "There are 3 reviews for the product ranked 4 in the category Computers & Accessories\n",
      "There are 1 reviews for the product ranked 5 in the category Computers & Accessories\n",
      "There are 1 reviews for the product ranked 1 in the category Toys & Games\n",
      "There are 1 reviews for the product ranked 2 in the category Toys & Games\n",
      "There are 1 reviews for the product ranked 3 in the category Toys & Games\n",
      "There are 1 reviews for the product ranked 4 in the category Toys & Games\n",
      "There are 1 reviews for the product ranked 5 in the category Toys & Games\n",
      "There are 1 reviews for the product ranked 1 in the category Movies & TV\n",
      "There are 2 reviews for the product ranked 2 in the category Movies & TV\n",
      "There are 9 reviews for the product ranked 3 in the category Movies & TV\n",
      "There are 1 reviews for the product ranked 4 in the category Movies & TV\n",
      "There are 3 reviews for the product ranked 5 in the category Movies & TV\n",
      "There are 4 reviews for the product ranked 1 in the category Office Products\n",
      "There are 187 reviews for the product ranked 2 in the category Office Products\n",
      "There are 1 reviews for the product ranked 3 in the category Office Products\n",
      "There are 1 reviews for the product ranked 1 in the category Software\n",
      "There are 1 reviews for the product ranked 2 in the category Software\n",
      "There are 2 reviews for the product ranked 3 in the category Software\n",
      "There are 1 reviews for the product ranked 4 in the category Software\n",
      "There are 1 reviews for the product ranked 5 in the category Software\n",
      "There are 1 reviews for the product ranked 1 in the category Home Improvement\n",
      "There are 1 reviews for the product ranked 2 in the category Home Improvement\n",
      "There are 1 reviews for the product ranked 3 in the category Home Improvement\n",
      "There are 1 reviews for the product ranked 4 in the category Home Improvement\n",
      "There are 1 reviews for the product ranked 5 in the category Home Improvement\n",
      "There are 1 reviews for the product ranked 1 in the category Music\n",
      "There are 3 reviews for the product ranked 2 in the category Music\n",
      "There are 1 reviews for the product ranked 3 in the category Music\n",
      "There are 3 reviews for the product ranked 4 in the category Music\n",
      "There are 2 reviews for the product ranked 5 in the category Music\n",
      "There are 1 reviews for the product ranked 1 in the category Musical Instruments\n",
      "There are 0 reviews for the product ranked 2 in the category Musical Instruments\n",
      "There are 0 reviews for the product ranked 3 in the category Musical Instruments\n",
      "There are 2 reviews for the product ranked 4 in the category Musical Instruments\n",
      "There are 1 reviews for the product ranked 5 in the category Musical Instruments\n",
      "There are 2 reviews for the product ranked 1 in the category Automotive\n",
      "There are 2 reviews for the product ranked 2 in the category Automotive\n",
      "There are 20 reviews for the product ranked 3 in the category Automotive\n",
      "There are 1 reviews for the product ranked 4 in the category Automotive\n",
      "There are 1 reviews for the product ranked 5 in the category Automotive\n",
      "There are 1 reviews for the product ranked 1 in the category Arts, Crafts & Sewing\n",
      "There are 2 reviews for the product ranked 2 in the category Arts, Crafts & Sewing\n",
      "There are 1 reviews for the product ranked 3 in the category Arts, Crafts & Sewing\n",
      "There are 1 reviews for the product ranked 4 in the category Arts, Crafts & Sewing\n",
      "There are 1 reviews for the product ranked 5 in the category Arts, Crafts & Sewing\n",
      "There are 1 reviews for the product ranked 1 in the category Baby\n",
      "There are 3 reviews for the product ranked 2 in the category Baby\n",
      "There are 22 reviews for the product ranked 3 in the category Baby\n",
      "There are 3 reviews for the product ranked 4 in the category Baby\n",
      "There are 14 reviews for the product ranked 5 in the category Baby\n",
      "There are 1 reviews for the product ranked 1 in the category Home &amp; Kitchen\n",
      "There are 1 reviews for the product ranked 2 in the category Home &amp; Kitchen\n",
      "There are 1 reviews for the product ranked 3 in the category Home &amp; Kitchen\n",
      "There are 1 reviews for the product ranked 4 in the category Home &amp; Kitchen\n",
      "There are 1 reviews for the product ranked 5 in the category Home &amp; Kitchen\n",
      "There are 1 reviews for the product ranked 1 in the category Grocery & Gourmet Food\n",
      "There are 3 reviews for the product ranked 2 in the category Grocery & Gourmet Food\n",
      "There are 1 reviews for the product ranked 3 in the category Grocery & Gourmet Food\n",
      "There are 1 reviews for the product ranked 4 in the category Grocery & Gourmet Food\n",
      "There are 1 reviews for the product ranked 5 in the category Grocery & Gourmet Food\n",
      "There are 1 reviews for the product ranked 1 in the category Health & Personal Care\n",
      "There are 1 reviews for the product ranked 2 in the category Health & Personal Care\n",
      "There are 1 reviews for the product ranked 3 in the category Health & Personal Care\n",
      "There are 1 reviews for the product ranked 4 in the category Health & Personal Care\n",
      "There are 1 reviews for the product ranked 5 in the category Health & Personal Care\n",
      "There are 0 reviews for the product ranked 1 in the category Sports &amp; Outdoors\n",
      "There are 1 reviews for the product ranked 2 in the category Sports &amp; Outdoors\n",
      "There are 1 reviews for the product ranked 3 in the category Sports &amp; Outdoors\n",
      "There are 1 reviews for the product ranked 4 in the category Sports &amp; Outdoors\n",
      "There are 1 reviews for the product ranked 5 in the category Sports &amp; Outdoors\n",
      "There are 1 reviews for the product ranked 1 in the category Camera &amp; Photo\n",
      "There are 1 reviews for the product ranked 2 in the category Camera &amp; Photo\n",
      "There are 1 reviews for the product ranked 3 in the category Camera &amp; Photo\n",
      "There are 1 reviews for the product ranked 4 in the category Camera &amp; Photo\n",
      "There are 0 reviews for the product ranked 5 in the category Camera &amp; Photo\n"
     ]
    },
    {
     "name": "stdout",
     "output_type": "stream",
     "text": [
      "There are 1 reviews for the product ranked 1 in the category Video Games\n",
      "There are 4 reviews for the product ranked 2 in the category Video Games\n",
      "There are 1 reviews for the product ranked 3 in the category Video Games\n",
      "There are 2 reviews for the product ranked 4 in the category Video Games\n",
      "There are 1 reviews for the product ranked 5 in the category Video Games\n",
      "There are 1 reviews for the product ranked 1 in the category Kitchen & Dining\n",
      "There are 1 reviews for the product ranked 2 in the category Kitchen & Dining\n",
      "There are 1 reviews for the product ranked 3 in the category Kitchen & Dining\n",
      "There are 1 reviews for the product ranked 4 in the category Kitchen & Dining\n",
      "There are 1 reviews for the product ranked 5 in the category Kitchen & Dining\n",
      "There are 2 reviews for the product ranked 1 in the category Patio, Lawn & Garden\n",
      "There are 1 reviews for the product ranked 2 in the category Patio, Lawn & Garden\n",
      "There are 1 reviews for the product ranked 3 in the category Patio, Lawn & Garden\n",
      "There are 1 reviews for the product ranked 4 in the category Patio, Lawn & Garden\n",
      "There are 1 reviews for the product ranked 5 in the category Patio, Lawn & Garden\n",
      "There are 1 reviews for the product ranked 1 in the category Industrial & Scientific\n",
      "There are 1 reviews for the product ranked 2 in the category Industrial & Scientific\n",
      "There are 1 reviews for the product ranked 3 in the category Industrial & Scientific\n",
      "There are 1 reviews for the product ranked 4 in the category Industrial & Scientific\n",
      "There are 1 reviews for the product ranked 5 in the category Industrial & Scientific\n",
      "There are 1 reviews for the product ranked 1 in the category Jewelry\n",
      "There are 3 reviews for the product ranked 2 in the category Jewelry\n",
      "There are 1 reviews for the product ranked 3 in the category Jewelry\n",
      "There are 1 reviews for the product ranked 4 in the category Jewelry\n",
      "There are 1 reviews for the product ranked 5 in the category Jewelry\n",
      "There are 1 reviews for the product ranked 1 in the category Pet Supplies\n",
      "There are 1 reviews for the product ranked 2 in the category Pet Supplies\n",
      "There are 1 reviews for the product ranked 3 in the category Pet Supplies\n",
      "There are 1 reviews for the product ranked 4 in the category Pet Supplies\n",
      "There are 1 reviews for the product ranked 5 in the category Pet Supplies\n"
     ]
    }
   ],
   "source": [
    "filtered_meta_df = filtered_meta_df.select('salesRank.*', \"asin\")\n",
    "\n",
    "for category in rank_categories:\n",
    "    category_df = filtered_meta_df.select(category, \"asin\").dropna().sort(category, ascending = False)\n",
    "    best_products = category_df.take(5)\n",
    "    for index, best_product in enumerate(best_products):\n",
    "        productid = best_product.asin\n",
    "        rank = best_product.category\n",
    "        number_reviews = review_df.filter(review_df.asin == productid).count()\n",
    "        print(\"There are \" + str(number_reviews) + \" reviews for the product ranked \" + str(rank) + \" in the category \" + category)"
   ]
  },
  {
   "cell_type": "code",
   "execution_count": null,
   "metadata": {
    "collapsed": true
   },
   "outputs": [],
   "source": [
    "#TODO: tackle the 'influence of \"also bought...\" feature' and 'product categorization questions."
   ]
  }
 ],
 "metadata": {
  "kernelspec": {
   "display_name": "Python [default]",
   "language": "python",
   "name": "python3"
  },
  "language_info": {
   "codemirror_mode": {
    "name": "ipython",
    "version": 3
   },
   "file_extension": ".py",
   "mimetype": "text/x-python",
   "name": "python",
   "nbconvert_exporter": "python",
   "pygments_lexer": "ipython3",
   "version": "3.5.3"
  }
 },
 "nbformat": 4,
 "nbformat_minor": 2
}
