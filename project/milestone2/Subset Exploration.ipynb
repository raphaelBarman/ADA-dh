{
 "cells": [
  {
   "cell_type": "markdown",
   "metadata": {},
   "source": [
    "<h1 id=\"tocheading\">Table of Contents</h1>\n",
    "<div id=\"toc\"></div>"
   ]
  },
  {
   "cell_type": "code",
   "execution_count": 24,
   "metadata": {},
   "outputs": [
    {
     "data": {
      "application/javascript": [
       "$.getScript('https://kmahelona.github.io/ipython_notebook_goodies/ipython_notebook_toc.js')"
      ],
      "text/plain": [
       "<IPython.core.display.Javascript object>"
      ]
     },
     "metadata": {},
     "output_type": "display_data"
    }
   ],
   "source": [
    "%%javascript\n",
    "$.getScript('https://kmahelona.github.io/ipython_notebook_goodies/ipython_notebook_toc.js')"
   ]
  },
  {
   "cell_type": "markdown",
   "metadata": {},
   "source": [
    "# Import/Helpers"
   ]
  },
  {
   "cell_type": "code",
   "execution_count": 3,
   "metadata": {},
   "outputs": [],
   "source": [
    "import os\n",
    "import findspark\n",
    "#os.environ['SPARK_HOME'] = '/opt/apache-spark'\n",
    "os.environ['SPARK_HOME'] = '/usr/local/Cellar/apache-spark/2.2.0/libexec/'\n",
    "findspark.init()\n",
    "from pyspark import SQLContext, SparkContext\n",
    "from pyspark.sql import functions as F\n",
    "from pyspark.sql.functions import udf\n",
    "from pyspark.sql.types import *\n",
    "from pyspark.sql import types as T\n",
    "from pyspark.mllib.stat import Statistics as S\n",
    "import json\n",
    "import numpy as np\n",
    "from pyspark.sql.functions import udf\n",
    "from pyspark.sql.types import *\n",
    "from pyspark_dist_explore import hist\n",
    "import seaborn as sns\n",
    "import matplotlib.pyplot as plt\n",
    "%matplotlib inline"
   ]
  },
  {
   "cell_type": "code",
   "execution_count": 4,
   "metadata": {},
   "outputs": [],
   "source": [
    "def correlation(df, col1, col2, method='pearson'):\n",
    "    rdd1 = df.select(col1).rdd.map(lambda x: x[0])\n",
    "    rdd2 = df.select(col2).rdd.map(lambda x: x[0])\n",
    "    return S.corr(rdd1, rdd2, method)"
   ]
  },
  {
   "cell_type": "markdown",
   "metadata": {},
   "source": [
    "Creation of a Spark contest."
   ]
  },
  {
   "cell_type": "code",
   "execution_count": 4,
   "metadata": {},
   "outputs": [],
   "source": [
    "sc = SparkContext()\n",
    "sqlContext = SQLContext(sc)"
   ]
  },
  {
   "cell_type": "markdown",
   "metadata": {},
   "source": [
    "# Reviews"
   ]
  },
  {
   "cell_type": "markdown",
   "metadata": {},
   "source": [
    "We load the data from the json file. The data is a small subset containing only items from the following categories:\n",
    "\"Baby\", \"Automotive\" and \"Grocery and Gourmet Food\". We will use this dataset on our local machine to qualitatively manipulate the data. "
   ]
  },
  {
   "cell_type": "code",
   "execution_count": 15,
   "metadata": {},
   "outputs": [],
   "source": [
    "df_review = sqlContext.read.json(\"reviews_auto_baby_grocery.json\")\n",
    "num_reviews = df_review.count()"
   ]
  },
  {
   "cell_type": "markdown",
   "metadata": {},
   "source": [
    "## >= 5 Reviews\n",
    "\n",
    "We get the count of review of distinct article per reviewer and filter those that have less than 5 review."
   ]
  },
  {
   "cell_type": "code",
   "execution_count": 16,
   "metadata": {},
   "outputs": [],
   "source": [
    "df_count = df_review.groupBy(\"reviewerID\").agg(F.countDistinct(\"asin\").alias('count')).filter(\"`count` >= 5\")"
   ]
  },
  {
   "cell_type": "markdown",
   "metadata": {},
   "source": [
    "We get all reviews of reviewers with more than 5 articles."
   ]
  },
  {
   "cell_type": "code",
   "execution_count": 17,
   "metadata": {},
   "outputs": [
    {
     "name": "stdout",
     "output_type": "stream",
     "text": [
      "We have 996378, i.e. 0.278% of review who belongs to reviewer with 5 or more reviews\n"
     ]
    }
   ],
   "source": [
    "df_filtered = review_df.join(review_df_count, on='reviewerID').drop('count')\n",
    "num_five_reviews = df_filtered.count()\n",
    "print(\"We have %.d, i.e. %.3f%% of review who belongs to reviewer with 5 or more reviews\"%(num_five_reviews, num_five_reviews/num_reviews))"
   ]
  },
  {
   "cell_type": "markdown",
   "metadata": {},
   "source": [
    "We compute the average grade for each reviewer."
   ]
  },
  {
   "cell_type": "code",
   "execution_count": 18,
   "metadata": {},
   "outputs": [
    {
     "data": {
      "text/plain": [
       "109193"
      ]
     },
     "execution_count": 18,
     "metadata": {},
     "output_type": "execute_result"
    }
   ],
   "source": [
    "average_std_score = df_filtered.groupBy(\"reviewerID\").agg(F.avg(\"overall\").alias(\"mean\"), F.stddev(\"overall\").alias(\"std\"))\n",
    "average_std_score.cache().count()"
   ]
  },
  {
   "cell_type": "markdown",
   "metadata": {},
   "source": [
    "Here are some statistic concerning the average grade for each reviewer.\n",
    "\n",
    "The first row contains the total number of reviewer considered.\n",
    "\n",
    "The second row contains the mean of the reviewers' averages grades (left) and the standard deviation of said mean (right).\n",
    "\n",
    "The third row contains the mean of the reviewers' standard deviations (left) and the standard deviation of said mean (right).\n",
    "\n",
    "The fourth row contains the mean of the reviewer's lower grades (left) and the standard deviation of said mean (right).\n",
    "\n",
    "The fourth row contains the mean of the reviewer's higher grades (left) and the standard deviation of said mean (right)."
   ]
  },
  {
   "cell_type": "code",
   "execution_count": 19,
   "metadata": {},
   "outputs": [
    {
     "name": "stdout",
     "output_type": "stream",
     "text": [
      "+-------+------------------+------------------+\n",
      "|summary|              mean|               std|\n",
      "+-------+------------------+------------------+\n",
      "|  count|            109193|            109193|\n",
      "|   mean|4.2834718157516365|0.9022456674075624|\n",
      "| stddev|0.6049040387948184|0.5699621176391938|\n",
      "|    min|               1.0|               0.0|\n",
      "|    max|               5.0|2.1908902300206647|\n",
      "+-------+------------------+------------------+\n",
      "\n"
     ]
    }
   ],
   "source": [
    "average_std_score.select(\"mean\", \"std\").describe().show()"
   ]
  },
  {
   "cell_type": "markdown",
   "metadata": {},
   "source": [
    "We then plot the average grade for each reviewer through histograms, with the grade on the x-axys and the number of reviewers who have such mean ranking on the y-axis."
   ]
  },
  {
   "cell_type": "code",
   "execution_count": 21,
   "metadata": {},
   "outputs": [
    {
     "data": {
      "image/png": "[encoded data removed]",
      "text/plain": [
       "<matplotlib.figure.Figure at 0x7fda90dd4940>"
      ]
     },
     "metadata": {},
     "output_type": "display_data"
    }
   ],
   "source": [
    "fig, ax = plt.subplots()\n",
    "fig.set_size_inches(8, 5)\n",
    "hist(ax, average_std_score.select(\"mean\"));"
   ]
  },
  {
   "cell_type": "markdown",
   "metadata": {},
   "source": [
    "It can be noted that reviewers tend to give high ratings."
   ]
  },
  {
   "cell_type": "markdown",
   "metadata": {},
   "source": [
    "We then plot the average standard deviation for each reviewer through histograms, with the grade on the x-axys and the number of reviewers who have such average standard deviation on the y-axis."
   ]
  },
  {
   "cell_type": "code",
   "execution_count": 22,
   "metadata": {},
   "outputs": [
    {
     "data": {
      "image/png": "[encoded data removed]",
      "text/plain": [
       "<matplotlib.figure.Figure at 0x7fda90a5aa90>"
      ]
     },
     "metadata": {},
     "output_type": "display_data"
    }
   ],
   "source": [
    "fig, ax = plt.subplots()\n",
    "fig.set_size_inches(8, 5)\n",
    "hist(ax, average_std_score.select(\"std\"));"
   ]
  },
  {
   "cell_type": "markdown",
   "metadata": {},
   "source": [
    "It can be noted that the majority of reviewers tend to have either a very small standard deviation (0-0.25) or a standard deviation between 0.5 and 1.5. The number of people with an higher standard deviation are sensibily less."
   ]
  },
  {
   "cell_type": "markdown",
   "metadata": {},
   "source": [
    "Here, we look at the mean of the ratings given by reviewer with small (<0.25) standard deviation.\n",
    "We also look at what percentage of reviewer they correspond."
   ]
  },
  {
   "cell_type": "code",
   "execution_count": 23,
   "metadata": {},
   "outputs": [
    {
     "name": "stdout",
     "output_type": "stream",
     "text": [
      "There is 14.72% of reviewer with std < 0.25\n"
     ]
    },
    {
     "data": {
      "image/png": "[encoded data removed]",
      "text/plain": [
       "<matplotlib.figure.Figure at 0x7fda90a648d0>"
      ]
     },
     "metadata": {},
     "output_type": "display_data"
    }
   ],
   "source": [
    "print(\"There is %.2f%% of reviewer with std < 0.25\"%(average_std_score.filter(average_std_score.std < 0.25).count()/average_std_score.count()*100))\n",
    "fig, ax = plt.subplots()\n",
    "fig.set_size_inches(8, 5)\n",
    "hist(ax, average_std_score.filter(average_std_score.std < 0.25).select(\"mean\"));"
   ]
  },
  {
   "cell_type": "markdown",
   "metadata": {},
   "source": [
    "It can be noted that people with a small standard deviation, i.e. people who tend to always give the same rating, tend to give only very high rating (>4.5)."
   ]
  },
  {
   "cell_type": "markdown",
   "metadata": {},
   "source": [
    "## Word count\n",
    "Here we count the number of word in a certain review."
   ]
  },
  {
   "cell_type": "code",
   "execution_count": 51,
   "metadata": {},
   "outputs": [
    {
     "name": "stdout",
     "output_type": "stream",
     "text": [
      "+-------+-----------------+\n",
      "|summary|        wordcount|\n",
      "+-------+-----------------+\n",
      "|  count|          3586370|\n",
      "|   mean| 66.7637979349593|\n",
      "| stddev|72.96104458476789|\n",
      "|    min|                1|\n",
      "|    max|             5019|\n",
      "+-------+-----------------+\n",
      "\n",
      "The pearson correlation is -0.090 and the spearman is -0.148\n"
     ]
    }
   ],
   "source": [
    "wordCount = F.udf(lambda text: len(text.split(\" \")), T.IntegerType())\n",
    "\n",
    "df = df.withColumn('wordcount', wordCount(df[\"reviewText\"]))\n",
    "df.select(\"wordcount\").describe().show()\n",
    "overall = df.select(\"overall\").rdd.map(lambda x: x[0])\n",
    "wordcount = df.select(\"wordcount\").rdd.map(lambda x: x[0])\n",
    "pearson_corr = correlation(df, \"overall\", \"wordcount\", method='pearson')\n",
    "spearman_corr = correlation(df, \"overall\", \"wordcount\", method='spearman')\n",
    "print(\"The pearson correlation is %.3f and the spearman is %.3f\"%(pearson_corr, spearman_corr))"
   ]
  },
  {
   "cell_type": "code",
   "execution_count": 52,
   "metadata": {},
   "outputs": [
    {
     "name": "stdout",
     "output_type": "stream",
     "text": [
      "The pearson correlation is 0.046 and the spearman is 0.037\n"
     ]
    },
    {
     "data": {
      "image/png": "[encoded data removed]",
      "text/plain": [
       "<matplotlib.figure.Figure at 0x7f92b484d320>"
      ]
     },
     "metadata": {},
     "output_type": "display_data"
    }
   ],
   "source": [
    "fig, ax = plt.subplots()\n",
    "fig.set_size_inches(8, 5)\n",
    "hist(ax, df.select(\"wordcount\"), log=True);\n",
    "pearson_corr = correlation(df.filter(df.wordcount > 1000), \"overall\", \"wordcount\", method='pearson')\n",
    "spearman_corr = correlation(df.filter(df.wordcount > 1000), \"overall\", \"wordcount\", method='spearman')\n",
    "print(\"The pearson correlation is %.3f and the spearman is %.3f\"%(pearson_corr, spearman_corr))"
   ]
  },
  {
   "cell_type": "markdown",
   "metadata": {},
   "source": [
    "## Helpfulness\n",
    "We get the \"helpfulness\" of a review by computing the ratio of people that found a review helpful and those that voted. If we have no data, we simply put -1 as a ratio."
   ]
  },
  {
   "cell_type": "code",
   "execution_count": null,
   "metadata": {},
   "outputs": [],
   "source": [
    "df = df.withColumn(\"helpfulness\", F.when(df.helpful.getField(1) > 0, df.helpful.getField(0)/df.helpful.getField(1)).otherwise(-1))"
   ]
  },
  {
   "cell_type": "code",
   "execution_count": null,
   "metadata": {},
   "outputs": [],
   "source": [
    "df.filter(df[\"helpfulness\"] >= 0.0).select(\"helpfulness\").describe().show()"
   ]
  },
  {
   "cell_type": "markdown",
   "metadata": {},
   "source": [
    "There seems to have some discrepancies amongst the ratio, since the max is at 2.0. We will check that it does not occur too often and may drop the data in the future."
   ]
  },
  {
   "cell_type": "code",
   "execution_count": null,
   "metadata": {},
   "outputs": [],
   "source": [
    "df.filter(df[\"helpfulness\"] > 1.0).select(\"helpful\").show()"
   ]
  },
  {
   "cell_type": "code",
   "execution_count": null,
   "metadata": {},
   "outputs": [],
   "source": [
    "df.filter((df[\"helpfulness\"] >= 0.0) & (df[\"helpfulness\"] <= 1.0)).corr(\"overall\", \"helpfulness\")"
   ]
  },
  {
   "cell_type": "code",
   "execution_count": null,
   "metadata": {},
   "outputs": [],
   "source": [
    "fig, ax = plt.subplots()\n",
    "fig.set_size_inches(10, 10)\n",
    "hist(ax, df.filter((df[\"helpfulness\"] >= 0.0) & (df[\"helpfulness\"] <= 1.0)).select(\"helpfulness\"));"
   ]
  },
  {
   "cell_type": "code",
   "execution_count": null,
   "metadata": {},
   "outputs": [],
   "source": [
    "fig, ax = plt.subplots()\n",
    "fig.set_size_inches(10, 10)\n",
    "hist(ax, df.filter((df[\"helpfulness\"] >= 0.0) & (df[\"helpfulness\"] <= 1.0)).select(\"overall\"));"
   ]
  },
  {
   "cell_type": "code",
   "execution_count": null,
   "metadata": {},
   "outputs": [],
   "source": [
    "overall = df.filter((df[\"helpfulness\"] >= 0.0) & (df[\"helpfulness\"] <= 1.0)).select(\"overall\").rdd.map(lambda x: x[0])\n",
    "helpfulness = df.filter((df[\"helpfulness\"] >= 0.0) & (df[\"helpfulness\"] <= 1.0)).select(\"helpfulness\").rdd.map(lambda x: x[0])\n",
    "S.corr(overall, helpfulness, method='spearman')"
   ]
  },
  {
   "cell_type": "markdown",
   "metadata": {},
   "source": [
    "## Brand fidelity/hate"
   ]
  },
  {
   "cell_type": "markdown",
   "metadata": {},
   "source": [
    "We load the metadata datas and only keep the article number and the brand that are not null, since we are interested in brands.\n",
    "\n",
    "We then join the dataframe of reviews with the metadata and display some stats."
   ]
  },
  {
   "cell_type": "code",
   "execution_count": 46,
   "metadata": {},
   "outputs": [
    {
     "name": "stdout",
     "output_type": "stream",
     "text": [
      "We have 599153, which represents 0.167% of review with a brand and who belongs to reviewer with 5 or more reviews\n",
      "We have 0.601% of review amongst those who belongs to reviewer with 5 or more reviews that have a brand \n"
     ]
    }
   ],
   "source": [
    "df_meta = sqlContext.read.json(\"meta_auto_baby_grocery.json\")\n",
    "df_meta_brand = df_meta.select(\"asin\", \"brand\").dropna()\n",
    "\n",
    "df_with_brand = df_filtered.join(df_meta_brand, on='asin')\n",
    "num_reviews_with_brand = df_with_brand.count()\n",
    "\n",
    "print(\"We have %.d, which represents %.3f%% of review with a brand and who belongs to reviewer with 5 or more reviews\"%(num_reviews_with_brand, num_reviews_with_brand/num_reviews))\n",
    "print(\"We have %.3f%% of review amongst those who belongs to reviewer with 5 or more reviews that have a brand \"%(num_reviews_with_brand/num_five_reviews))"
   ]
  },
  {
   "cell_type": "markdown",
   "metadata": {},
   "source": [
    "We can see that once again we loose a lot of reviews with this approach, but it is still an interesting number to work with.\n",
    "\n",
    "Then we group by brand and reviewer, compute some stats and filter out all reviewers that have less than 5 reviews for a specific brand."
   ]
  },
  {
   "cell_type": "code",
   "execution_count": 47,
   "metadata": {},
   "outputs": [
    {
     "name": "stdout",
     "output_type": "stream",
     "text": [
      "We have 1602 brand/reviewers tuples\n"
     ]
    }
   ],
   "source": [
    "df_brand_reviewer = df_with_brand.groupBy([\"brand\", \"reviewerID\"]).agg(F.count(\"overall\").alias(\"count\"), F.avg(\"overall\").alias(\"mean\"), F.stddev(\"overall\").alias(\"std\")).filter(\"`count` >= 5\")\n",
    "brand_reviewers_count = df_brand_reviewer.cache().count()\n",
    "print(\"We have %.d brand/reviewers tuples\"%(brand_reviewers_count))"
   ]
  },
  {
   "cell_type": "markdown",
   "metadata": {},
   "source": [
    "We then show some stats about the mean and std."
   ]
  },
  {
   "cell_type": "code",
   "execution_count": 49,
   "metadata": {},
   "outputs": [
    {
     "name": "stdout",
     "output_type": "stream",
     "text": [
      "+-------+------------------+------------------+------------------+\n",
      "|summary|             count|              mean|               std|\n",
      "+-------+------------------+------------------+------------------+\n",
      "|  count|              1602|              1602|              1602|\n",
      "|   mean| 6.300249687890138| 4.508185595174844|0.5331499357349924|\n",
      "| stddev|2.4612651820035443|0.6345228590350631|0.5522432344415494|\n",
      "|    min|                 5|               1.0|               0.0|\n",
      "|    max|                36|               5.0|2.1908902300206643|\n",
      "+-------+------------------+------------------+------------------+\n",
      "\n"
     ]
    },
    {
     "data": {
      "image/png": "[encoded data removed]",
      "text/plain": [
       "<matplotlib.figure.Figure at 0x7f92b49529b0>"
      ]
     },
     "metadata": {},
     "output_type": "display_data"
    },
    {
     "data": {
      "image/png": "[encoded data removed]",
      "text/plain": [
       "<matplotlib.figure.Figure at 0x7f92b48fbe10>"
      ]
     },
     "metadata": {},
     "output_type": "display_data"
    }
   ],
   "source": [
    "df_brand_reviewer.select(\"count\", \"mean\", \"std\").describe().show()\n",
    "fig, ax = plt.subplots()\n",
    "fig.set_size_inches(8, 5)\n",
    "hist(ax, df_brand_reviewer.select(\"mean\"));\n",
    "fig, ax = plt.subplots()\n",
    "fig.set_size_inches(8, 5)\n",
    "hist(ax, df_brand_reviewer.select(\"std\"));"
   ]
  },
  {
   "cell_type": "markdown",
   "metadata": {},
   "source": [
    "By comparing qualitatively (we will do a more precise analysis in milestone 3) those graphs with the one from the >= 5 Reviews, we can see that the ratings seems to be having less deviation, showing a tendency to love/hate toward a brand.\n",
    "\n",
    "We try to see if there is an obvious correlation between number of reviews for a brand and the mean rate:"
   ]
  },
  {
   "cell_type": "code",
   "execution_count": 48,
   "metadata": {},
   "outputs": [
    {
     "name": "stdout",
     "output_type": "stream",
     "text": [
      "The pearson correlation is 0.038 and the spearman is 0.018\n"
     ]
    }
   ],
   "source": [
    "pearson_corr = correlation(df_brand_reviewer, \"count\", \"mean\", method='pearson')\n",
    "spearman_corr = correlation(df_brand_reviewer, \"count\", \"mean\", method='spearman')\n",
    "print(\"The pearson correlation is %.3f and the spearman is %.3f\"%(pearson_corr, spearman_corr))"
   ]
  },
  {
   "cell_type": "markdown",
   "metadata": {},
   "source": [
    "At first sight, we cannot see an obvious relationship, however, we will do a more refined analysis in the next milestone."
   ]
  },
  {
   "cell_type": "markdown",
   "metadata": {},
   "source": [
    "# Metadata\n",
    "Here we load the product's metadata."
   ]
  },
  {
   "cell_type": "code",
   "execution_count": 12,
   "metadata": {
    "collapsed": true
   },
   "outputs": [],
   "source": [
    "meta_df = sqlContext.read.json(\"meta_auto_baby_grocery.json\")"
   ]
  },
  {
   "cell_type": "markdown",
   "metadata": {},
   "source": [
    "Compute the total number of products."
   ]
  },
  {
   "cell_type": "code",
   "execution_count": 13,
   "metadata": {},
   "outputs": [
    {
     "data": {
      "text/plain": [
       "574167"
      ]
     },
     "execution_count": 13,
     "metadata": {},
     "output_type": "execute_result"
    }
   ],
   "source": [
    "total_products = meta_df.count()\n",
    "total_products"
   ]
  },
  {
   "cell_type": "markdown",
   "metadata": {},
   "source": [
    "We filter the salesRank to have only ranked products. There is two possiblity, either the salesRank is completely none, either the categories are all None. we take care of both cases."
   ]
  },
  {
   "cell_type": "code",
   "execution_count": 14,
   "metadata": {},
   "outputs": [],
   "source": [
    "def drop_none(salesRank):\n",
    "    count = 0\n",
    "    for category, rank in salesRank.asDict().items():\n",
    "        if rank != None:\n",
    "            count += 1\n",
    "    return count == 1\n",
    "drop_none = udf(drop_none, BooleanType())\n",
    "filtered_meta_df = meta_df.dropna(subset=['salesRank']).withColumn(\"toKeep\", drop_none(\"salesRank\"))\n",
    "filtered_meta_df = filtered_meta_df.filter(filtered_meta_df['toKeep'])\n",
    "filtered_meta_df = filtered_meta_df.drop('toKeep')"
   ]
  },
  {
   "cell_type": "markdown",
   "metadata": {},
   "source": [
    "Compute the ratio between ranked and total products."
   ]
  },
  {
   "cell_type": "code",
   "execution_count": 15,
   "metadata": {},
   "outputs": [
    {
     "name": "stdout",
     "output_type": "stream",
     "text": [
      "ranked_products: 159803 total products: 574167 ratio: 0.278321463964317\n"
     ]
    }
   ],
   "source": [
    "ranked_products = filtered_meta_df.count()\n",
    "ranked_products\n",
    "ratio = ranked_products/total_products\n",
    "print(\"ranked_products: \" + str(ranked_products) + \" total products: \" + str(total_products) + \" ratio: \" + str(ratio))"
   ]
  },
  {
   "cell_type": "markdown",
   "metadata": {},
   "source": [
    "We can notice that in this restricted dataset less than one third of the products is ranked, a fact that makes our rank-based analysis less representative. "
   ]
  },
  {
   "cell_type": "markdown",
   "metadata": {},
   "source": [
    "We now check that there is exactly one category that has a sales rank."
   ]
  },
  {
   "cell_type": "code",
   "execution_count": 16,
   "metadata": {},
   "outputs": [
    {
     "name": "stdout",
     "output_type": "stream",
     "text": [
      "There is 0 article with not exactly one category for a rank\n"
     ]
    }
   ],
   "source": [
    "def check_exactly_one(salesRank):\n",
    "    count = 0 \n",
    "    for category, rank in salesRank.asDict().items():\n",
    "        if rank != None:\n",
    "            count += 1\n",
    "    return count == 1\n",
    "check_exactly_one = udf(check_exactly_one, BooleanType())\n",
    "only_one = filtered_meta_df.withColumn(\"unique_rank\", check_exactly_one(\"salesRank\"))\n",
    "print(\"There is %.d article with not exactly one category for a rank\"%only_one.filter(~only_one[\"unique_rank\"]).count())"
   ]
  },
  {
   "cell_type": "markdown",
   "metadata": {},
   "source": [
    "Finally, we make the struct flatter, by having a salesRank that has two elements, category and rank."
   ]
  },
  {
   "cell_type": "code",
   "execution_count": 17,
   "metadata": {
    "collapsed": true
   },
   "outputs": [],
   "source": [
    "def notNone(salesRank):\n",
    "    for category, rank in salesRank.asDict().items():\n",
    "        if rank != None:\n",
    "            return (category, rank)\n",
    "#udf_notNone = udf(notNone, StructType([StructField(\"category\", StringType()), StructField(\"rank\", IntegerType())]))\n",
    "#filtered_meta_df = filtered_meta_df.withColumn(\"salesRank\", udf_notNone(\"salesRank\"))"
   ]
  },
  {
   "cell_type": "markdown",
   "metadata": {},
   "source": [
    "Here we obtain the names of the ranking categories."
   ]
  },
  {
   "cell_type": "code",
   "execution_count": 18,
   "metadata": {},
   "outputs": [],
   "source": [
    "rank_categories = filtered_meta_df.head().salesRank.asDict().keys()"
   ]
  },
  {
   "cell_type": "markdown",
   "metadata": {},
   "source": [
    "## Question 4: influence of 'also bought' feature"
   ]
  },
  {
   "cell_type": "markdown",
   "metadata": {},
   "source": [
    "I'll begin by focus on the 'bought together' feature and not on the 'also bought' feature right away.\n",
    "This both because the former is more relevant to the question and because it scales better: 'also bought' tends to be a very long list of products while 'bought together' is usually much shorter and easier to analyze."
   ]
  },
  {
   "cell_type": "markdown",
   "metadata": {},
   "source": [
    "In order to answer question 4, it is possible to use the following approach:\n",
    "1. Find the best ranked products for each category.\n",
    "2. look at the rank of the products that were bought together with them.\n",
    "3. draw  qualitative conclusions."
   ]
  },
  {
   "cell_type": "markdown",
   "metadata": {},
   "source": [
    "First we select the interesting columns of the metadata dataframe, flattening the hierarchical datastructure in the process."
   ]
  },
  {
   "cell_type": "code",
   "execution_count": 19,
   "metadata": {
    "collapsed": true
   },
   "outputs": [],
   "source": [
    "filtered_meta_df = filtered_meta_df.select('salesRank.*', \"asin\", \"related.*\")"
   ]
  },
  {
   "cell_type": "markdown",
   "metadata": {},
   "source": [
    "Then we define a function that allows to find in which category a product has been ranked."
   ]
  },
  {
   "cell_type": "code",
   "execution_count": 20,
   "metadata": {
    "collapsed": true
   },
   "outputs": [],
   "source": [
    "def find_nonnull_category(product):\n",
    "    for category in rank_categories:\n",
    "        ranking = product[category]\n",
    "        if ranking != None:\n",
    "            return category, ranking "
   ]
  },
  {
   "cell_type": "code",
   "execution_count": 21,
   "metadata": {},
   "outputs": [
    {
     "name": "stdout",
     "output_type": "stream",
     "text": [
      "The product B000BOCATE ranked 344278 in category Home Improvement was bought together with the product B000BOB4VO ranked 202096 in category Kitchen & Dining\n",
      "The product B005AWYHQG ranked 331032 in category Industrial & Scientific was bought together with the product B005AX2NDE ranked 18295 in category Industrial & Scientific\n",
      "The product B0083COONQ ranked 244540 in category Industrial & Scientific was bought together with the product B0083COP1M ranked 15092 in category Industrial & Scientific\n",
      "The product B003L9L43Y ranked 516679 in category Cell Phones & Accessories was bought together with the product B0000GIZTC ranked 175712 in category Grocery & Gourmet Food\n",
      "The product B000O9IXSI ranked 189377 in category Cell Phones & Accessories was bought together with the product B000LTM29M ranked 452 in category Grocery & Gourmet Food\n",
      "The product B000O9IXSI ranked 189377 in category Cell Phones & Accessories was bought together with the product B000LTIDR2 ranked 449 in category Grocery & Gourmet Food\n",
      "The product B006FNGZFA ranked 179220 in category Pet Supplies was bought together with the product B006FNJVTM ranked 98402 in category Pet Supplies\n",
      "The product B0026AW95G ranked 135956 in category Pet Supplies was bought together with the product B003XZQQZM ranked 81 in category Arts, Crafts & Sewing\n",
      "The product B008AILA4O ranked 41314 in category Video Games was bought together with the product B008B0XE4A ranked 9688 in category Video Games\n",
      "The product B00DQ1HD1Y ranked 37091 in category Baby was bought together with the product B00DIXQ2LC ranked 2377 in category Baby\n",
      "The product B007MFZ29U ranked 324063 in category Kitchen & Dining was bought together with the product B002HQG9W8 ranked 17969 in category Grocery & Gourmet Food\n",
      "The product B007MFZ29U ranked 324063 in category Kitchen & Dining was bought together with the product B002HQKDH0 ranked 19160 in category Grocery & Gourmet Food\n",
      "The product B000R99SE8 ranked 320435 in category Kitchen & Dining was bought together with the product B000FRUJRM ranked 197025 in category Kitchen & Dining\n",
      "The product B007BSA8OC ranked 2101589 in category Home &amp; Kitchen was bought together with the product B007BS0662 ranked 1808716 in category Home &amp; Kitchen\n",
      "The product B007BSA8OC ranked 2101589 in category Home &amp; Kitchen was bought together with the product B007BS69C2 ranked 259373 in category Grocery & Gourmet Food\n",
      "The product B0000DK9WZ ranked 1851895 in category Home &amp; Kitchen was bought together with the product B0000DK9SO ranked 25583 in category Grocery & Gourmet Food\n",
      "The product B007BS0662 ranked 1808716 in category Home &amp; Kitchen was bought together with the product B007BS69C2 ranked 259373 in category Grocery & Gourmet Food\n",
      "The product B007BS0662 ranked 1808716 in category Home &amp; Kitchen was bought together with the product B007BSA8OC ranked 2101589 in category Home &amp; Kitchen\n",
      "The product B00A82F2LW ranked 145685 in category Electronics was bought together with the product B003RWT2U2 ranked 10739 in category Patio, Lawn & Garden\n",
      "The product B001MYKJR2 ranked 2080399 in category Sports &amp; Outdoors was bought together with the product B003G966CI ranked 81937 in category Sports &amp; Outdoors\n",
      "The product B003HFS1EM ranked 1058174 in category Sports &amp; Outdoors was bought together with the product B001F0GPNU ranked 175322 in category Sports &amp; Outdoors\n",
      "The product B00BPFBLXY ranked 297911 in category Arts, Crafts & Sewing was bought together with the product B0041IL8S0 ranked 3632 in category Grocery & Gourmet Food\n",
      "The product B0089F3NP2 ranked 286022 in category Patio, Lawn & Garden was bought together with the product B0001GUQ20 ranked 13661 in category Grocery & Gourmet Food\n",
      "The product B001J55776 ranked 40444 in category Musical Instruments was bought together with the product B001J4ZAZ6 ranked 22749 in category Musical Instruments\n",
      "The product B0083KH4C6 ranked 427968 in category Beauty was bought together with the product B00B1Z6FKM ranked 30982 in category Grocery & Gourmet Food\n",
      "The product B001JU6C0W ranked 425533 in category Beauty was bought together with the product B001JU6BYO ranked 96928 in category Health & Personal Care\n",
      "The product B0024M2TMY ranked 2518941 in category Automotive was bought together with the product B002MQCY7C ranked 37 in category Automotive\n",
      "The product B007UNKO2O ranked 670743 in category Health & Personal Care was bought together with the product B001CD1VI4 ranked 7550 in category Grocery & Gourmet Food\n",
      "The product B00060Y4GA ranked 580694 in category Health & Personal Care was bought together with the product B0046HK3CS ranked 219611 in category Grocery & Gourmet Food\n",
      "The product B004R5VE18 ranked 539302 in category Health & Personal Care was bought together with the product B004FKJBF6 ranked 224433 in category Grocery & Gourmet Food\n",
      "The product B00C7YONTG ranked 737110 in category Toys & Games was bought together with the product B00991RJK0 ranked 131269 in category Grocery & Gourmet Food\n",
      "The product B002PF1UG6 ranked 664484 in category Toys & Games was bought together with the product B001NOQ1RI ranked 252043 in category Toys & Games\n"
     ]
    }
   ],
   "source": [
    "for category in rank_categories:\n",
    "    category_df = filtered_meta_df.select(category, \"asin\", \"bought_together\").dropna(how='any').sort(category, ascending = False)\n",
    "    best_products = category_df.take(5)\n",
    "    for index, best_product in enumerate(best_products):\n",
    "        productid = best_product.asin\n",
    "        bought_together = best_product.bought_together\n",
    "        rank = best_product[category]\n",
    "        for associated_id in bought_together:\n",
    "            associated_product = filtered_meta_df.filter(filtered_meta_df.asin == associated_id).first()\n",
    "            if associated_product != None:\n",
    "                associated_category, associated_rank = find_nonnull_category(associated_product)\n",
    "                print(\"The product \" + str(productid) + \" ranked \" + str(rank) + \" in category \" + category + \" was bought together with the product \" + str(associated_id) + \" ranked \" + str(associated_rank) + \" in category \" + associated_category)"
   ]
  },
  {
   "cell_type": "markdown",
   "metadata": {},
   "source": [
    "It can be noted that products with very different rankings were bought together.\n",
    "This means that question 4 might indeed make sense, there might be \"good\" product that improve the sales of \"bad\" products. As of now \"good\" means \"popular\" and bad means \"unpopolar\", but the definition might change when we delve even further into the data."
   ]
  },
  {
   "cell_type": "markdown",
   "metadata": {},
   "source": [
    "## Question 5: rank/review ratio"
   ]
  },
  {
   "cell_type": "markdown",
   "metadata": {},
   "source": [
    "The approach for question 5 is the following:\n",
    "1. For each rank category, take the 5 best ranked products\n",
    "2. look in the review table and see how many review were made for each product\n",
    "3. Print the values and try to qualitatevely interpet. "
   ]
  },
  {
   "cell_type": "markdown",
   "metadata": {},
   "source": [
    "Here we apply the described pipeline."
   ]
  },
  {
   "cell_type": "code",
   "execution_count": 22,
   "metadata": {},
   "outputs": [
    {
     "name": "stdout",
     "output_type": "stream",
     "text": [
      "There are 1 reviews for the product ranked 667889 in the category Home Improvement\n",
      "There are 1 reviews for the product ranked 567974 in the category Home Improvement\n",
      "There are 1 reviews for the product ranked 556164 in the category Home Improvement\n",
      "There are 1 reviews for the product ranked 549535 in the category Home Improvement\n",
      "There are 1 reviews for the product ranked 522108 in the category Home Improvement\n",
      "There are 1 reviews for the product ranked 1363090 in the category Music\n",
      "There are 3 reviews for the product ranked 1104466 in the category Music\n",
      "There are 1 reviews for the product ranked 1084118 in the category Music\n",
      "There are 3 reviews for the product ranked 879635 in the category Music\n",
      "There are 2 reviews for the product ranked 807523 in the category Music\n",
      "There are 1 reviews for the product ranked 934956 in the category Shoes\n",
      "There are 4 reviews for the product ranked 788552 in the category Shoes\n",
      "There are 1 reviews for the product ranked 750943 in the category Shoes\n",
      "There are 1 reviews for the product ranked 659638 in the category Shoes\n",
      "There are 1 reviews for the product ranked 608029 in the category Shoes\n",
      "There are 1 reviews for the product ranked 770172 in the category Industrial & Scientific\n",
      "There are 1 reviews for the product ranked 770145 in the category Industrial & Scientific\n",
      "There are 1 reviews for the product ranked 769943 in the category Industrial & Scientific\n",
      "There are 1 reviews for the product ranked 766734 in the category Industrial & Scientific\n",
      "There are 1 reviews for the product ranked 745298 in the category Industrial & Scientific\n",
      "There are 1 reviews for the product ranked 1617710 in the category Cell Phones & Accessories\n",
      "There are 1 reviews for the product ranked 1557114 in the category Cell Phones & Accessories\n",
      "There are 8 reviews for the product ranked 1023302 in the category Cell Phones & Accessories\n",
      "There are 2 reviews for the product ranked 825807 in the category Cell Phones & Accessories\n",
      "There are 1 reviews for the product ranked 756569 in the category Cell Phones & Accessories\n",
      "There are 1 reviews for the product ranked 176736 in the category Watches\n",
      "There are 1 reviews for the product ranked 149242 in the category Watches\n",
      "There are 1 reviews for the product ranked 115195 in the category Watches\n",
      "There are 1 reviews for the product ranked 106486 in the category Watches\n",
      "There are 1 reviews for the product ranked 87585 in the category Watches\n",
      "There are 1 reviews for the product ranked 501432 in the category Pet Supplies\n",
      "There are 1 reviews for the product ranked 493652 in the category Pet Supplies\n",
      "There are 1 reviews for the product ranked 483142 in the category Pet Supplies\n",
      "There are 1 reviews for the product ranked 474130 in the category Pet Supplies\n",
      "There are 1 reviews for the product ranked 453286 in the category Pet Supplies\n",
      "There are 1 reviews for the product ranked 95082 in the category Video Games\n",
      "There are 4 reviews for the product ranked 94756 in the category Video Games\n",
      "There are 1 reviews for the product ranked 86435 in the category Video Games\n",
      "There are 2 reviews for the product ranked 83191 in the category Video Games\n",
      "There are 1 reviews for the product ranked 80707 in the category Video Games\n",
      "There are 4 reviews for the product ranked 49381 in the category Office Products\n",
      "There are 187 reviews for the product ranked 8040 in the category Office Products\n",
      "There are 1 reviews for the product ranked 1 in the category Office Products\n",
      "There are 1 reviews for the product ranked 1575276 in the category Jewelry\n",
      "There are 3 reviews for the product ranked 1290734 in the category Jewelry\n",
      "There are 1 reviews for the product ranked 1205606 in the category Jewelry\n",
      "There are 1 reviews for the product ranked 1116814 in the category Jewelry\n",
      "There are 1 reviews for the product ranked 1040677 in the category Jewelry\n",
      "There are 1 reviews for the product ranked 154314 in the category Baby\n",
      "There are 3 reviews for the product ranked 69771 in the category Baby\n",
      "There are 22 reviews for the product ranked 59909 in the category Baby\n",
      "There are 3 reviews for the product ranked 37091 in the category Baby\n",
      "There are 14 reviews for the product ranked 35726 in the category Baby\n",
      "There are 1 reviews for the product ranked 37229 in the category Software\n",
      "There are 1 reviews for the product ranked 19780 in the category Software\n",
      "There are 2 reviews for the product ranked 19371 in the category Software\n",
      "There are 1 reviews for the product ranked 16807 in the category Software\n",
      "There are 1 reviews for the product ranked 12357 in the category Software\n",
      "There are 1 reviews for the product ranked 962583 in the category Kitchen & Dining\n",
      "There are 1 reviews for the product ranked 935684 in the category Kitchen & Dining\n",
      "There are 1 reviews for the product ranked 927523 in the category Kitchen & Dining\n",
      "There are 1 reviews for the product ranked 918843 in the category Kitchen & Dining\n",
      "There are 1 reviews for the product ranked 866286 in the category Kitchen & Dining\n",
      "There are 1 reviews for the product ranked 5270820 in the category Home &amp; Kitchen\n",
      "There are 1 reviews for the product ranked 5265264 in the category Home &amp; Kitchen\n",
      "There are 1 reviews for the product ranked 5231785 in the category Home &amp; Kitchen\n",
      "There are 1 reviews for the product ranked 5109439 in the category Home &amp; Kitchen\n",
      "There are 1 reviews for the product ranked 5022422 in the category Home &amp; Kitchen\n",
      "There are 1 reviews for the product ranked 716733 in the category Movies & TV\n",
      "There are 2 reviews for the product ranked 472057 in the category Movies & TV\n",
      "There are 9 reviews for the product ranked 197782 in the category Movies & TV\n",
      "There are 1 reviews for the product ranked 175216 in the category Movies & TV\n",
      "There are 3 reviews for the product ranked 46988 in the category Movies & TV\n",
      "There are 2 reviews for the product ranked 848631 in the category Electronics\n",
      "There are 1 reviews for the product ranked 721585 in the category Electronics\n",
      "There are 1 reviews for the product ranked 712268 in the category Electronics\n",
      "There are 1 reviews for the product ranked 700606 in the category Electronics\n",
      "There are 3 reviews for the product ranked 697700 in the category Electronics\n",
      "There are 1 reviews for the product ranked 71951 in the category Camera &amp; Photo\n",
      "There are 1 reviews for the product ranked 66654 in the category Camera &amp; Photo\n",
      "There are 1 reviews for the product ranked 64526 in the category Camera &amp; Photo\n",
      "There are 1 reviews for the product ranked 55591 in the category Camera &amp; Photo\n",
      "There are 0 reviews for the product ranked 54368 in the category Camera &amp; Photo\n",
      "There are 0 reviews for the product ranked 2911222 in the category Sports &amp; Outdoors\n",
      "There are 1 reviews for the product ranked 2896680 in the category Sports &amp; Outdoors\n",
      "There are 1 reviews for the product ranked 2856354 in the category Sports &amp; Outdoors\n",
      "There are 1 reviews for the product ranked 2852748 in the category Sports &amp; Outdoors\n",
      "There are 1 reviews for the product ranked 2837370 in the category Sports &amp; Outdoors\n",
      "There are 1 reviews for the product ranked 633172 in the category Grocery & Gourmet Food\n",
      "There are 3 reviews for the product ranked 632721 in the category Grocery & Gourmet Food\n",
      "There are 1 reviews for the product ranked 632452 in the category Grocery & Gourmet Food\n",
      "There are 1 reviews for the product ranked 632213 in the category Grocery & Gourmet Food\n",
      "There are 1 reviews for the product ranked 632197 in the category Grocery & Gourmet Food\n",
      "There are 1 reviews for the product ranked 64451 in the category Computers & Accessories\n",
      "There are 1 reviews for the product ranked 46309 in the category Computers & Accessories\n",
      "There are 1 reviews for the product ranked 35811 in the category Computers & Accessories\n",
      "There are 3 reviews for the product ranked 28950 in the category Computers & Accessories\n",
      "There are 1 reviews for the product ranked 28371 in the category Computers & Accessories\n",
      "There are 1 reviews for the product ranked 717587 in the category Arts, Crafts & Sewing\n",
      "There are 2 reviews for the product ranked 714278 in the category Arts, Crafts & Sewing\n",
      "There are 1 reviews for the product ranked 697167 in the category Arts, Crafts & Sewing\n",
      "There are 1 reviews for the product ranked 696179 in the category Arts, Crafts & Sewing\n"
     ]
    },
    {
     "name": "stdout",
     "output_type": "stream",
     "text": [
      "There are 1 reviews for the product ranked 680019 in the category Arts, Crafts & Sewing\n",
      "There are 2 reviews for the product ranked 685420 in the category Patio, Lawn & Garden\n",
      "There are 1 reviews for the product ranked 672020 in the category Patio, Lawn & Garden\n",
      "There are 1 reviews for the product ranked 671644 in the category Patio, Lawn & Garden\n",
      "There are 1 reviews for the product ranked 671389 in the category Patio, Lawn & Garden\n",
      "There are 1 reviews for the product ranked 671177 in the category Patio, Lawn & Garden\n",
      "There are 1 reviews for the product ranked 202764 in the category Musical Instruments\n",
      "There are 0 reviews for the product ranked 164459 in the category Musical Instruments\n",
      "There are 0 reviews for the product ranked 150258 in the category Musical Instruments\n",
      "There are 2 reviews for the product ranked 124981 in the category Musical Instruments\n",
      "There are 1 reviews for the product ranked 104918 in the category Musical Instruments\n",
      "There are 1 reviews for the product ranked 1186561 in the category Beauty\n",
      "There are 1 reviews for the product ranked 1112157 in the category Beauty\n",
      "There are 1 reviews for the product ranked 1099161 in the category Beauty\n",
      "There are 1 reviews for the product ranked 1049994 in the category Beauty\n",
      "There are 1 reviews for the product ranked 1036396 in the category Beauty\n",
      "There are 2 reviews for the product ranked 2558255 in the category Automotive\n",
      "There are 2 reviews for the product ranked 2524695 in the category Automotive\n",
      "There are 20 reviews for the product ranked 2518941 in the category Automotive\n",
      "There are 1 reviews for the product ranked 2394050 in the category Automotive\n",
      "There are 1 reviews for the product ranked 2387656 in the category Automotive\n",
      "There are 1 reviews for the product ranked 1389940 in the category Health & Personal Care\n",
      "There are 1 reviews for the product ranked 1379551 in the category Health & Personal Care\n",
      "There are 1 reviews for the product ranked 1378969 in the category Health & Personal Care\n",
      "There are 1 reviews for the product ranked 1366016 in the category Health & Personal Care\n",
      "There are 1 reviews for the product ranked 1364463 in the category Health & Personal Care\n",
      "There are 1 reviews for the product ranked 1731858 in the category Toys & Games\n",
      "There are 1 reviews for the product ranked 1690433 in the category Toys & Games\n",
      "There are 1 reviews for the product ranked 1665323 in the category Toys & Games\n",
      "There are 1 reviews for the product ranked 1647076 in the category Toys & Games\n",
      "There are 1 reviews for the product ranked 1612370 in the category Toys & Games\n",
      "There are 1 reviews for the product ranked 3534494 in the category Clothing\n",
      "There are 1 reviews for the product ranked 3263224 in the category Clothing\n",
      "There are 2 reviews for the product ranked 3232837 in the category Clothing\n",
      "There are 1 reviews for the product ranked 3228750 in the category Clothing\n",
      "There are 1 reviews for the product ranked 3216714 in the category Clothing\n"
     ]
    }
   ],
   "source": [
    "for category in rank_categories:\n",
    "    category_df = filtered_meta_df.select(category, \"asin\").dropna().sort(category, ascending = False)\n",
    "    best_products = category_df.take(5)\n",
    "    for index, best_product in enumerate(best_products):\n",
    "        productid = best_product.asin\n",
    "        rank = best_product[category]\n",
    "        number_reviews = review_df.filter(review_df.asin == productid).count()\n",
    "        print(\"There are \" + str(number_reviews) + \" reviews for the product ranked \" + str(rank) + \" in the category \" + category)"
   ]
  },
  {
   "cell_type": "markdown",
   "metadata": {},
   "source": [
    "There's doesn't seem to be any correlation between the number of reviews associated to a product and its sales ranking according to these results, which don't hint at a linear relationship between number of reviews and sales."
   ]
  },
  {
   "cell_type": "markdown",
   "metadata": {},
   "source": [
    "## Question 6: product categorization"
   ]
  },
  {
   "cell_type": "markdown",
   "metadata": {},
   "source": [
    "I start by filtering the metadata to drop the uncategorized products."
   ]
  },
  {
   "cell_type": "code",
   "execution_count": 23,
   "metadata": {},
   "outputs": [
    {
     "data": {
      "text/plain": [
       "512526"
      ]
     },
     "execution_count": 23,
     "metadata": {},
     "output_type": "execute_result"
    }
   ],
   "source": [
    "filtered_meta_df = meta_df.dropna(subset=['categories'])\n",
    "filtered_meta_df.count()"
   ]
  },
  {
   "cell_type": "markdown",
   "metadata": {},
   "source": [
    "Then I proceed to analyze the products.\n",
    "The approach is the following:\n",
    "1. I create a dictionary to map each category to the number of reviews written for that category.\n",
    "2. for each product, I extract the categories it is part of.\n",
    "3. I compute the number of reviews for that product and I update the values associated to the product categories in the dictionary.\n",
    "\n",
    "I limit the analysis to 10 products on my local machine due to the heavy computational cost, however on the cluster we'll analyze all of them."
   ]
  },
  {
   "cell_type": "code",
   "execution_count": 24,
   "metadata": {},
   "outputs": [
    {
     "name": "stdout",
     "output_type": "stream",
     "text": [
      "{'Antitheft': 2, 'Grips': 1, 'Lighting Assemblies & Accessories': 1, 'Power Window Motors': 1, 'Hand Controls': 1, 'Bulbs': 6, 'Window Regulators & Motors': 1, 'Paint, Body & Trim': 5, 'Paints & Primers': 5, 'Handlebars & Components': 1, 'Body Paint': 5, 'Lights & Lighting Accessories': 8, 'Tail Light Assemblies': 1, 'Parts': 1, 'Controls': 1, 'Motorcycle & Powersports': 1, 'Headlight & Tail Light Conversion Kits': 1, 'Interior Accessories': 2, 'Replacement Parts': 1, 'Keyless Entry Systems': 2, 'Automotive': 17, 'Lighting Conversion Kits': 1, 'Brake & Tail Light Assemblies': 1}\n"
     ]
    }
   ],
   "source": [
    "category_dict = {}\n",
    "#NOTE: the commented line is the one to be used in the cluster.\n",
    "#for product in filtered_meta_df.collect():\n",
    "for product in filtered_meta_df.take(10):\n",
    "    productid = product.asin\n",
    "    categories = product.categories[0]\n",
    "    for category in categories:\n",
    "        number_reviews = review_df.filter(review_df.asin == productid).count()\n",
    "        old_value = category_dict.get(category, 0)\n",
    "        category_dict[category] = old_value + number_reviews\n",
    "\n",
    "print(str(category_dict))"
   ]
  },
  {
   "cell_type": "markdown",
   "metadata": {},
   "source": [
    "This small and potentially unrepresentative dataset shows there's a wide difference in the number of reviews between categories. To say more we need the results from the cluster, which we couldn't obtain due to time constraint and cluster overload."
   ]
  },
  {
   "cell_type": "markdown",
   "metadata": {
    "collapsed": true
   },
   "source": [
    "# TO DO FOR MILESTONE 3 "
   ]
  },
  {
   "cell_type": "markdown",
   "metadata": {},
   "source": [
    "## Question 4"
   ]
  },
  {
   "cell_type": "markdown",
   "metadata": {},
   "source": [
    "Further delve into the data and formally describe the relation between the 'also bought' and 'bought together' features as well as the meaning of a \"good\" and \"bad\" product, which as of now is associated to popularity. \n",
    "Also substitute the print based approach with a more complex one.\n",
    "\n",
    "Draw formally correct conclusion with regard to the influence of the 'also_bought' feature on sales."
   ]
  },
  {
   "cell_type": "markdown",
   "metadata": {},
   "source": [
    "## Question 5"
   ]
  },
  {
   "cell_type": "markdown",
   "metadata": {},
   "source": [
    "Confirm the conclusion by working on the whole dataset through the cluster and substitute the print based approach with a more complex one. "
   ]
  },
  {
   "cell_type": "markdown",
   "metadata": {},
   "source": [
    "## Question 6 "
   ]
  },
  {
   "cell_type": "markdown",
   "metadata": {},
   "source": [
    "Confirm the conclusion by working on the whole dataset through the cluster and substitute the dictionary based approach with a more complex one. "
   ]
  },
  {
   "cell_type": "markdown",
   "metadata": {},
   "source": [
    "## Formally describe metrics"
   ]
  }
 ],
 "metadata": {
  "kernelspec": {
   "display_name": "Python 3",
   "language": "python",
   "name": "python3"
  },
  "language_info": {
   "codemirror_mode": {
    "name": "ipython",
    "version": 3
   },
   "file_extension": ".py",
   "mimetype": "text/x-python",
   "name": "python",
   "nbconvert_exporter": "python",
   "pygments_lexer": "ipython3",
   "version": "3.6.3"
  }
 },
 "nbformat": 4,
 "nbformat_minor": 2
}
